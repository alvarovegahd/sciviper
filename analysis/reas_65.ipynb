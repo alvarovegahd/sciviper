{
 "cells": [
  {
   "cell_type": "code",
   "execution_count": 1,
   "id": "881916d3",
   "metadata": {
    "execution": {
     "iopub.execute_input": "2025-04-26T14:11:54.619107Z",
     "iopub.status.busy": "2025-04-26T14:11:54.618496Z",
     "iopub.status.idle": "2025-04-26T14:14:40.269150Z",
     "shell.execute_reply": "2025-04-26T14:14:40.268673Z"
    }
   },
   "outputs": [
    {
     "name": "stderr",
     "output_type": "stream",
     "text": [
      "2025-04-26 10:12:40.091963: I tensorflow/core/platform/cpu_feature_guard.cc:193] This TensorFlow binary is optimized with oneAPI Deep Neural Network Library (oneDNN) to use the following CPU instructions in performance-critical operations:  AVX2 AVX512F AVX512_VNNI FMA\n",
      "To enable them in other operations, rebuild TensorFlow with the appropriate compiler flags.\n"
     ]
    },
    {
     "name": "stderr",
     "output_type": "stream",
     "text": [
      "2025-04-26 10:12:43.016284: I tensorflow/core/util/port.cc:104] oneDNN custom operations are on. You may see slightly different numerical results due to floating-point round-off errors from different computation orders. To turn them off, set the environment variable `TF_ENABLE_ONEDNN_OPTS=0`.\n"
     ]
    },
    {
     "name": "stderr",
     "output_type": "stream",
     "text": [
      "2025-04-26 10:12:55.162982: W tensorflow/compiler/xla/stream_executor/platform/default/dso_loader.cc:64] Could not load dynamic library 'libnvinfer.so.7'; dlerror: libnvinfer.so.7: cannot open shared object file: No such file or directory; LD_LIBRARY_PATH: /sw/pkgs/arc/cuda/12.1.1/lib64\n",
      "2025-04-26 10:12:55.163099: W tensorflow/compiler/xla/stream_executor/platform/default/dso_loader.cc:64] Could not load dynamic library 'libnvinfer_plugin.so.7'; dlerror: libnvinfer_plugin.so.7: cannot open shared object file: No such file or directory; LD_LIBRARY_PATH: /sw/pkgs/arc/cuda/12.1.1/lib64\n",
      "2025-04-26 10:12:55.163108: W tensorflow/compiler/tf2tensorrt/utils/py_utils.cc:38] TF-TRT Warning: Cannot dlopen some TensorRT libraries. If you would like to use Nvidia GPU with TensorRT, please make sure the missing libraries mentioned above are installed properly.\n"
     ]
    },
    {
     "name": "stderr",
     "output_type": "stream",
     "text": [
      "Using a slow image processor as `use_fast` is unset and a slow processor was saved with this model. `use_fast=True` will be the default behavior in v4.52, even if the model was saved with a slow processor. This will result in minor differences in outputs. You'll still be able to use a slow processor with `use_fast=False`.\n"
     ]
    },
    {
     "name": "stderr",
     "output_type": "stream",
     "text": [
      "The `load_in_4bit` and `load_in_8bit` arguments are deprecated and will be removed in the future versions. Please, pass a `BitsAndBytesConfig` object in `quantization_config` argument instead.\n"
     ]
    },
    {
     "data": {
      "application/vnd.jupyter.widget-view+json": {
       "model_id": "1802e4c2e34a4957a796281b0a0d020f",
       "version_major": 2,
       "version_minor": 0
      },
      "text/plain": [
       "Loading checkpoint shards:   0%|          | 0/5 [00:00<?, ?it/s]"
      ]
     },
     "metadata": {},
     "output_type": "display_data"
    },
    {
     "name": "stderr",
     "output_type": "stream",
     "text": [
      "Using cache found in /home/jhsansom/.cache/torch/hub/intel-isl_MiDaS_master\n"
     ]
    },
    {
     "name": "stderr",
     "output_type": "stream",
     "text": [
      "Using cache found in /home/jhsansom/.cache/torch/hub/intel-isl_MiDaS_master\n"
     ]
    },
    {
     "name": "stdout",
     "output_type": "stream",
     "text": [
      "VISION BACKBONE USE GRADIENT CHECKPOINTING:  False\n"
     ]
    },
    {
     "name": "stdout",
     "output_type": "stream",
     "text": [
      "LANGUAGE BACKBONE USE GRADIENT CHECKPOINTING:  False\n"
     ]
    },
    {
     "name": "stdout",
     "output_type": "stream",
     "text": [
      "EARLY FUSION ON, USING MHA-B\n",
      "EARLY FUSION ON, USING MHA-B\n"
     ]
    },
    {
     "name": "stdout",
     "output_type": "stream",
     "text": [
      "EARLY FUSION ON, USING MHA-B\n",
      "EARLY FUSION ON, USING MHA-B\n"
     ]
    },
    {
     "name": "stdout",
     "output_type": "stream",
     "text": [
      "EARLY FUSION ON, USING MHA-B\n",
      "EARLY FUSION ON, USING MHA-B\n"
     ]
    },
    {
     "name": "stdout",
     "output_type": "stream",
     "text": [
      "EARLY FUSION ON, USING MHA-B\n",
      "EARLY FUSION ON, USING MHA-B\n"
     ]
    },
    {
     "data": {
      "text/html": [
       "<style>.output_wrapper, .output {height:auto !important; max-height:1000000px;}</style>"
      ],
      "text/plain": [
       "<IPython.core.display.HTML object>"
      ]
     },
     "metadata": {},
     "output_type": "display_data"
    },
    {
     "data": {
      "application/vnd.jupyter.widget-view+json": {
       "model_id": "b5c357ca3fbd4eacae3b0bb2aa3da6d0",
       "version_major": 2,
       "version_minor": 0
      },
      "text/plain": [
       "Output()"
      ]
     },
     "metadata": {},
     "output_type": "display_data"
    },
    {
     "data": {
      "text/html": [
       "<pre style=\"white-space:pre;overflow-x:auto;line-height:normal;font-family:Menlo,'DejaVu Sans Mono',consolas,'Courier New',monospace\"><span style=\"color: #87d700; text-decoration-color: #87d700\">───────────────────────────────────────────────────── </span><span style=\"font-weight: bold\">Line 1</span><span style=\"color: #87d700; text-decoration-color: #87d700\"> ──────────────────────────────────────────────────────</span>\n",
       "</pre>\n"
      ],
      "text/plain": [
       "\u001b[38;5;112m───────────────────────────────────────────────────── \u001b[0m\u001b[1mLine 1\u001b[0m\u001b[38;5;112m ──────────────────────────────────────────────────────\u001b[0m\n"
      ]
     },
     "metadata": {},
     "output_type": "display_data"
    },
    {
     "data": {
      "text/html": [
       "<pre style=\"white-space:pre;overflow-x:auto;line-height:normal;font-family:Menlo,'DejaVu Sans Mono',consolas,'Courier New',monospace\">image_patch = \n",
       "</pre>\n"
      ],
      "text/plain": [
       "image_patch = \n"
      ]
     },
     "metadata": {},
     "output_type": "display_data"
    },
    {
     "data": {
      "image/png": "[encoded data removed]",
      "text/plain": [
       "<Figure size 200x200 with 1 Axes>"
      ]
     },
     "metadata": {},
     "output_type": "display_data"
    },
    {
     "data": {
      "text/html": [
       "<pre style=\"white-space:pre;overflow-x:auto;line-height:normal;font-family:Menlo,'DejaVu Sans Mono',consolas,'Courier New',monospace\">INSIDE FORWARD\n",
       "</pre>\n"
      ],
      "text/plain": [
       "INSIDE FORWARD\n"
      ]
     },
     "metadata": {},
     "output_type": "display_data"
    },
    {
     "data": {
      "text/html": [
       "<pre style=\"white-space:pre;overflow-x:auto;line-height:normal;font-family:Menlo,'DejaVu Sans Mono',consolas,'Courier New',monospace\">model_name: glip\n",
       "</pre>\n"
      ],
      "text/plain": [
       "model_name: glip\n"
      ]
     },
     "metadata": {},
     "output_type": "display_data"
    },
    {
     "data": {
      "text/html": [
       "<pre style=\"white-space:pre;overflow-x:auto;line-height:normal;font-family:Menlo,'DejaVu Sans Mono',consolas,'Courier New',monospace\">arg types: [&lt;class 'torch.Tensor'&gt;, &lt;class 'str'&gt;]\n",
       "</pre>\n"
      ],
      "text/plain": [
       "arg types: [<class 'torch.Tensor'>, <class 'str'>]\n"
      ]
     },
     "metadata": {},
     "output_type": "display_data"
    },
    {
     "data": {
      "text/html": [
       "<pre style=\"white-space:pre;overflow-x:auto;line-height:normal;font-family:Menlo,'DejaVu Sans Mono',consolas,'Courier New',monospace\">queues: (None, None)\n",
       "</pre>\n"
      ],
      "text/plain": [
       "queues: (None, None)\n"
      ]
     },
     "metadata": {},
     "output_type": "display_data"
    },
    {
     "data": {
      "text/html": [
       "<pre style=\"white-space:pre;overflow-x:auto;line-height:normal;font-family:Menlo,'DejaVu Sans Mono',consolas,'Courier New',monospace\">kwargs: {}\n",
       "</pre>\n"
      ],
      "text/plain": [
       "kwargs: {}\n"
      ]
     },
     "metadata": {},
     "output_type": "display_data"
    },
    {
     "data": {
      "text/html": [
       "<pre style=\"white-space:pre;overflow-x:auto;line-height:normal;font-family:Menlo,'DejaVu Sans Mono',consolas,'Courier New',monospace\">consumers: {'blip': &lt;function make_fn.&lt;locals&gt;._function at 0x14784858d6c0&gt;, 'codex': &lt;function \n",
       "make_fn.&lt;locals&gt;._function at 0x14784858d630&gt;, 'depth': &lt;function make_fn.&lt;locals&gt;._function at 0x1478356af2e0&gt;, \n",
       "'glip': &lt;function make_fn.&lt;locals&gt;._function at 0x14782e899cf0&gt;, 'gpt3_qa': &lt;function make_fn.&lt;locals&gt;._function at\n",
       "0x14782e899e10&gt;, 'gpt3_general': &lt;function make_fn.&lt;locals&gt;._function at 0x14782e899fc0&gt;, 'qwen_vl': &lt;function \n",
       "make_fn.&lt;locals&gt;._function at 0x14782e2a5b40&gt;, 'xvlm': &lt;function make_fn.&lt;locals&gt;._function at 0x14782e2a5bd0&gt;}\n",
       "</pre>\n"
      ],
      "text/plain": [
       "consumers: {'blip': <function make_fn.<locals>._function at 0x14784858d6c0>, 'codex': <function \n",
       "make_fn.<locals>._function at 0x14784858d630>, 'depth': <function make_fn.<locals>._function at 0x1478356af2e0>, \n",
       "'glip': <function make_fn.<locals>._function at 0x14782e899cf0>, 'gpt3_qa': <function make_fn.<locals>._function at\n",
       "0x14782e899e10>, 'gpt3_general': <function make_fn.<locals>._function at 0x14782e899fc0>, 'qwen_vl': <function \n",
       "make_fn.<locals>._function at 0x14782e2a5b40>, 'xvlm': <function make_fn.<locals>._function at 0x14782e2a5bd0>}\n"
      ]
     },
     "metadata": {},
     "output_type": "display_data"
    },
    {
     "data": {
      "text/html": [
       "<pre style=\"white-space:pre;overflow-x:auto;line-height:normal;font-family:Menlo,'DejaVu Sans Mono',consolas,'Courier New',monospace\">consumers.keys(): dict_keys(['blip', 'codex', 'depth', 'glip', 'gpt3_qa', 'gpt3_general', 'qwen_vl', 'xvlm'])\n",
       "</pre>\n"
      ],
      "text/plain": [
       "consumers.keys(): dict_keys(['blip', 'codex', 'depth', 'glip', 'gpt3_qa', 'gpt3_general', 'qwen_vl', 'xvlm'])\n"
      ]
     },
     "metadata": {},
     "output_type": "display_data"
    },
    {
     "data": {
      "text/html": [
       "<pre style=\"white-space:pre;overflow-x:auto;line-height:normal;font-family:Menlo,'DejaVu Sans Mono',consolas,'Courier New',monospace\">queues_in: None\n",
       "</pre>\n"
      ],
      "text/plain": [
       "queues_in: None\n"
      ]
     },
     "metadata": {},
     "output_type": "display_data"
    },
    {
     "data": {
      "text/html": [
       "<pre style=\"white-space:pre;overflow-x:auto;line-height:normal;font-family:Menlo,'DejaVu Sans Mono',consolas,'Courier New',monospace\">config.multiprocessing: False\n",
       "</pre>\n"
      ],
      "text/plain": [
       "config.multiprocessing: False\n"
      ]
     },
     "metadata": {},
     "output_type": "display_data"
    },
    {
     "data": {
      "text/html": [
       "<pre style=\"white-space:pre;overflow-x:auto;line-height:normal;font-family:Menlo,'DejaVu Sans Mono',consolas,'Courier New',monospace\"><span style=\"color: #87d700; text-decoration-color: #87d700\">───────────────────────────────────────────────────── </span><span style=\"font-weight: bold\">Line 2</span><span style=\"color: #87d700; text-decoration-color: #87d700\"> ──────────────────────────────────────────────────────</span>\n",
       "</pre>\n"
      ],
      "text/plain": [
       "\u001b[38;5;112m───────────────────────────────────────────────────── \u001b[0m\u001b[1mLine 2\u001b[0m\u001b[38;5;112m ──────────────────────────────────────────────────────\u001b[0m\n"
      ]
     },
     "metadata": {},
     "output_type": "display_data"
    },
    {
     "data": {
      "text/html": [
       "<pre style=\"white-space:pre;overflow-x:auto;line-height:normal;font-family:Menlo,'DejaVu Sans Mono',consolas,'Courier New',monospace\">port_patches[0] = \n",
       "</pre>\n"
      ],
      "text/plain": [
       "port_patches[0] = \n"
      ]
     },
     "metadata": {},
     "output_type": "display_data"
    },
    {
     "data": {
      "image/png": "[encoded data removed]",
      "text/plain": [
       "<Figure size 200x200 with 1 Axes>"
      ]
     },
     "metadata": {},
     "output_type": "display_data"
    },
    {
     "data": {
      "text/html": [
       "<pre style=\"white-space:pre;overflow-x:auto;line-height:normal;font-family:Menlo,'DejaVu Sans Mono',consolas,'Courier New',monospace\">port_patches[1] = \n",
       "</pre>\n"
      ],
      "text/plain": [
       "port_patches[1] = \n"
      ]
     },
     "metadata": {},
     "output_type": "display_data"
    },
    {
     "data": {
      "image/png": "[encoded data removed]",
      "text/plain": [
       "<Figure size 200x200 with 1 Axes>"
      ]
     },
     "metadata": {},
     "output_type": "display_data"
    },
    {
     "data": {
      "text/html": [
       "<pre style=\"white-space:pre;overflow-x:auto;line-height:normal;font-family:Menlo,'DejaVu Sans Mono',consolas,'Courier New',monospace\">port_patches[2] = \n",
       "</pre>\n"
      ],
      "text/plain": [
       "port_patches[2] = \n"
      ]
     },
     "metadata": {},
     "output_type": "display_data"
    },
    {
     "data": {
      "image/png": "[encoded data removed]",
      "text/plain": [
       "<Figure size 200x200 with 1 Axes>"
      ]
     },
     "metadata": {},
     "output_type": "display_data"
    },
    {
     "data": {
      "text/html": [
       "<pre style=\"white-space:pre;overflow-x:auto;line-height:normal;font-family:Menlo,'DejaVu Sans Mono',consolas,'Courier New',monospace\">INSIDE FORWARD\n",
       "</pre>\n"
      ],
      "text/plain": [
       "INSIDE FORWARD\n"
      ]
     },
     "metadata": {},
     "output_type": "display_data"
    },
    {
     "data": {
      "text/html": [
       "<pre style=\"white-space:pre;overflow-x:auto;line-height:normal;font-family:Menlo,'DejaVu Sans Mono',consolas,'Courier New',monospace\">model_name: qwen_vl\n",
       "</pre>\n"
      ],
      "text/plain": [
       "model_name: qwen_vl\n"
      ]
     },
     "metadata": {},
     "output_type": "display_data"
    },
    {
     "data": {
      "text/html": [
       "<pre style=\"white-space:pre;overflow-x:auto;line-height:normal;font-family:Menlo,'DejaVu Sans Mono',consolas,'Courier New',monospace\">arg types: [&lt;class 'torch.Tensor'&gt;, &lt;class 'str'&gt;]\n",
       "</pre>\n"
      ],
      "text/plain": [
       "arg types: [<class 'torch.Tensor'>, <class 'str'>]\n"
      ]
     },
     "metadata": {},
     "output_type": "display_data"
    },
    {
     "data": {
      "text/html": [
       "<pre style=\"white-space:pre;overflow-x:auto;line-height:normal;font-family:Menlo,'DejaVu Sans Mono',consolas,'Courier New',monospace\">queues: (None, None)\n",
       "</pre>\n"
      ],
      "text/plain": [
       "queues: (None, None)\n"
      ]
     },
     "metadata": {},
     "output_type": "display_data"
    },
    {
     "data": {
      "text/html": [
       "<pre style=\"white-space:pre;overflow-x:auto;line-height:normal;font-family:Menlo,'DejaVu Sans Mono',consolas,'Courier New',monospace\">kwargs: {'task': 'qa'}\n",
       "</pre>\n"
      ],
      "text/plain": [
       "kwargs: {'task': 'qa'}\n"
      ]
     },
     "metadata": {},
     "output_type": "display_data"
    },
    {
     "data": {
      "text/html": [
       "<pre style=\"white-space:pre;overflow-x:auto;line-height:normal;font-family:Menlo,'DejaVu Sans Mono',consolas,'Courier New',monospace\">consumers: {'blip': &lt;function make_fn.&lt;locals&gt;._function at 0x14784858d6c0&gt;, 'codex': &lt;function \n",
       "make_fn.&lt;locals&gt;._function at 0x14784858d630&gt;, 'depth': &lt;function make_fn.&lt;locals&gt;._function at 0x1478356af2e0&gt;, \n",
       "'glip': &lt;function make_fn.&lt;locals&gt;._function at 0x14782e899cf0&gt;, 'gpt3_qa': &lt;function make_fn.&lt;locals&gt;._function at\n",
       "0x14782e899e10&gt;, 'gpt3_general': &lt;function make_fn.&lt;locals&gt;._function at 0x14782e899fc0&gt;, 'qwen_vl': &lt;function \n",
       "make_fn.&lt;locals&gt;._function at 0x14782e2a5b40&gt;, 'xvlm': &lt;function make_fn.&lt;locals&gt;._function at 0x14782e2a5bd0&gt;}\n",
       "</pre>\n"
      ],
      "text/plain": [
       "consumers: {'blip': <function make_fn.<locals>._function at 0x14784858d6c0>, 'codex': <function \n",
       "make_fn.<locals>._function at 0x14784858d630>, 'depth': <function make_fn.<locals>._function at 0x1478356af2e0>, \n",
       "'glip': <function make_fn.<locals>._function at 0x14782e899cf0>, 'gpt3_qa': <function make_fn.<locals>._function at\n",
       "0x14782e899e10>, 'gpt3_general': <function make_fn.<locals>._function at 0x14782e899fc0>, 'qwen_vl': <function \n",
       "make_fn.<locals>._function at 0x14782e2a5b40>, 'xvlm': <function make_fn.<locals>._function at 0x14782e2a5bd0>}\n"
      ]
     },
     "metadata": {},
     "output_type": "display_data"
    },
    {
     "data": {
      "text/html": [
       "<pre style=\"white-space:pre;overflow-x:auto;line-height:normal;font-family:Menlo,'DejaVu Sans Mono',consolas,'Courier New',monospace\">consumers.keys(): dict_keys(['blip', 'codex', 'depth', 'glip', 'gpt3_qa', 'gpt3_general', 'qwen_vl', 'xvlm'])\n",
       "</pre>\n"
      ],
      "text/plain": [
       "consumers.keys(): dict_keys(['blip', 'codex', 'depth', 'glip', 'gpt3_qa', 'gpt3_general', 'qwen_vl', 'xvlm'])\n"
      ]
     },
     "metadata": {},
     "output_type": "display_data"
    },
    {
     "data": {
      "text/html": [
       "<pre style=\"white-space:pre;overflow-x:auto;line-height:normal;font-family:Menlo,'DejaVu Sans Mono',consolas,'Courier New',monospace\">queues_in: None\n",
       "</pre>\n"
      ],
      "text/plain": [
       "queues_in: None\n"
      ]
     },
     "metadata": {},
     "output_type": "display_data"
    },
    {
     "data": {
      "text/html": [
       "<pre style=\"white-space:pre;overflow-x:auto;line-height:normal;font-family:Menlo,'DejaVu Sans Mono',consolas,'Courier New',monospace\">config.multiprocessing: False\n",
       "</pre>\n"
      ],
      "text/plain": [
       "config.multiprocessing: False\n"
      ]
     },
     "metadata": {},
     "output_type": "display_data"
    },
    {
     "data": {
      "text/html": [
       "<pre style=\"white-space:pre;overflow-x:auto;line-height:normal;font-family:Menlo,'DejaVu Sans Mono',consolas,'Courier New',monospace\">INSIDE FORWARD\n",
       "</pre>\n"
      ],
      "text/plain": [
       "INSIDE FORWARD\n"
      ]
     },
     "metadata": {},
     "output_type": "display_data"
    },
    {
     "data": {
      "text/html": [
       "<pre style=\"white-space:pre;overflow-x:auto;line-height:normal;font-family:Menlo,'DejaVu Sans Mono',consolas,'Courier New',monospace\">model_name: qwen_vl\n",
       "</pre>\n"
      ],
      "text/plain": [
       "model_name: qwen_vl\n"
      ]
     },
     "metadata": {},
     "output_type": "display_data"
    },
    {
     "data": {
      "text/html": [
       "<pre style=\"white-space:pre;overflow-x:auto;line-height:normal;font-family:Menlo,'DejaVu Sans Mono',consolas,'Courier New',monospace\">arg types: [&lt;class 'torch.Tensor'&gt;, &lt;class 'str'&gt;]\n",
       "</pre>\n"
      ],
      "text/plain": [
       "arg types: [<class 'torch.Tensor'>, <class 'str'>]\n"
      ]
     },
     "metadata": {},
     "output_type": "display_data"
    },
    {
     "data": {
      "text/html": [
       "<pre style=\"white-space:pre;overflow-x:auto;line-height:normal;font-family:Menlo,'DejaVu Sans Mono',consolas,'Courier New',monospace\">queues: (None, None)\n",
       "</pre>\n"
      ],
      "text/plain": [
       "queues: (None, None)\n"
      ]
     },
     "metadata": {},
     "output_type": "display_data"
    },
    {
     "data": {
      "text/html": [
       "<pre style=\"white-space:pre;overflow-x:auto;line-height:normal;font-family:Menlo,'DejaVu Sans Mono',consolas,'Courier New',monospace\">kwargs: {'task': 'qa'}\n",
       "</pre>\n"
      ],
      "text/plain": [
       "kwargs: {'task': 'qa'}\n"
      ]
     },
     "metadata": {},
     "output_type": "display_data"
    },
    {
     "data": {
      "text/html": [
       "<pre style=\"white-space:pre;overflow-x:auto;line-height:normal;font-family:Menlo,'DejaVu Sans Mono',consolas,'Courier New',monospace\">consumers: {'blip': &lt;function make_fn.&lt;locals&gt;._function at 0x14784858d6c0&gt;, 'codex': &lt;function \n",
       "make_fn.&lt;locals&gt;._function at 0x14784858d630&gt;, 'depth': &lt;function make_fn.&lt;locals&gt;._function at 0x1478356af2e0&gt;, \n",
       "'glip': &lt;function make_fn.&lt;locals&gt;._function at 0x14782e899cf0&gt;, 'gpt3_qa': &lt;function make_fn.&lt;locals&gt;._function at\n",
       "0x14782e899e10&gt;, 'gpt3_general': &lt;function make_fn.&lt;locals&gt;._function at 0x14782e899fc0&gt;, 'qwen_vl': &lt;function \n",
       "make_fn.&lt;locals&gt;._function at 0x14782e2a5b40&gt;, 'xvlm': &lt;function make_fn.&lt;locals&gt;._function at 0x14782e2a5bd0&gt;}\n",
       "</pre>\n"
      ],
      "text/plain": [
       "consumers: {'blip': <function make_fn.<locals>._function at 0x14784858d6c0>, 'codex': <function \n",
       "make_fn.<locals>._function at 0x14784858d630>, 'depth': <function make_fn.<locals>._function at 0x1478356af2e0>, \n",
       "'glip': <function make_fn.<locals>._function at 0x14782e899cf0>, 'gpt3_qa': <function make_fn.<locals>._function at\n",
       "0x14782e899e10>, 'gpt3_general': <function make_fn.<locals>._function at 0x14782e899fc0>, 'qwen_vl': <function \n",
       "make_fn.<locals>._function at 0x14782e2a5b40>, 'xvlm': <function make_fn.<locals>._function at 0x14782e2a5bd0>}\n"
      ]
     },
     "metadata": {},
     "output_type": "display_data"
    },
    {
     "data": {
      "text/html": [
       "<pre style=\"white-space:pre;overflow-x:auto;line-height:normal;font-family:Menlo,'DejaVu Sans Mono',consolas,'Courier New',monospace\">consumers.keys(): dict_keys(['blip', 'codex', 'depth', 'glip', 'gpt3_qa', 'gpt3_general', 'qwen_vl', 'xvlm'])\n",
       "</pre>\n"
      ],
      "text/plain": [
       "consumers.keys(): dict_keys(['blip', 'codex', 'depth', 'glip', 'gpt3_qa', 'gpt3_general', 'qwen_vl', 'xvlm'])\n"
      ]
     },
     "metadata": {},
     "output_type": "display_data"
    },
    {
     "data": {
      "text/html": [
       "<pre style=\"white-space:pre;overflow-x:auto;line-height:normal;font-family:Menlo,'DejaVu Sans Mono',consolas,'Courier New',monospace\">queues_in: None\n",
       "</pre>\n"
      ],
      "text/plain": [
       "queues_in: None\n"
      ]
     },
     "metadata": {},
     "output_type": "display_data"
    },
    {
     "data": {
      "text/html": [
       "<pre style=\"white-space:pre;overflow-x:auto;line-height:normal;font-family:Menlo,'DejaVu Sans Mono',consolas,'Courier New',monospace\">config.multiprocessing: False\n",
       "</pre>\n"
      ],
      "text/plain": [
       "config.multiprocessing: False\n"
      ]
     },
     "metadata": {},
     "output_type": "display_data"
    },
    {
     "data": {
      "text/html": [
       "<pre style=\"white-space:pre;overflow-x:auto;line-height:normal;font-family:Menlo,'DejaVu Sans Mono',consolas,'Courier New',monospace\">INSIDE FORWARD\n",
       "</pre>\n"
      ],
      "text/plain": [
       "INSIDE FORWARD\n"
      ]
     },
     "metadata": {},
     "output_type": "display_data"
    },
    {
     "data": {
      "text/html": [
       "<pre style=\"white-space:pre;overflow-x:auto;line-height:normal;font-family:Menlo,'DejaVu Sans Mono',consolas,'Courier New',monospace\">model_name: qwen_vl\n",
       "</pre>\n"
      ],
      "text/plain": [
       "model_name: qwen_vl\n"
      ]
     },
     "metadata": {},
     "output_type": "display_data"
    },
    {
     "data": {
      "text/html": [
       "<pre style=\"white-space:pre;overflow-x:auto;line-height:normal;font-family:Menlo,'DejaVu Sans Mono',consolas,'Courier New',monospace\">arg types: [&lt;class 'torch.Tensor'&gt;, &lt;class 'str'&gt;]\n",
       "</pre>\n"
      ],
      "text/plain": [
       "arg types: [<class 'torch.Tensor'>, <class 'str'>]\n"
      ]
     },
     "metadata": {},
     "output_type": "display_data"
    },
    {
     "data": {
      "text/html": [
       "<pre style=\"white-space:pre;overflow-x:auto;line-height:normal;font-family:Menlo,'DejaVu Sans Mono',consolas,'Courier New',monospace\">queues: (None, None)\n",
       "</pre>\n"
      ],
      "text/plain": [
       "queues: (None, None)\n"
      ]
     },
     "metadata": {},
     "output_type": "display_data"
    },
    {
     "data": {
      "text/html": [
       "<pre style=\"white-space:pre;overflow-x:auto;line-height:normal;font-family:Menlo,'DejaVu Sans Mono',consolas,'Courier New',monospace\">kwargs: {'task': 'qa'}\n",
       "</pre>\n"
      ],
      "text/plain": [
       "kwargs: {'task': 'qa'}\n"
      ]
     },
     "metadata": {},
     "output_type": "display_data"
    },
    {
     "data": {
      "text/html": [
       "<pre style=\"white-space:pre;overflow-x:auto;line-height:normal;font-family:Menlo,'DejaVu Sans Mono',consolas,'Courier New',monospace\">consumers: {'blip': &lt;function make_fn.&lt;locals&gt;._function at 0x14784858d6c0&gt;, 'codex': &lt;function \n",
       "make_fn.&lt;locals&gt;._function at 0x14784858d630&gt;, 'depth': &lt;function make_fn.&lt;locals&gt;._function at 0x1478356af2e0&gt;, \n",
       "'glip': &lt;function make_fn.&lt;locals&gt;._function at 0x14782e899cf0&gt;, 'gpt3_qa': &lt;function make_fn.&lt;locals&gt;._function at\n",
       "0x14782e899e10&gt;, 'gpt3_general': &lt;function make_fn.&lt;locals&gt;._function at 0x14782e899fc0&gt;, 'qwen_vl': &lt;function \n",
       "make_fn.&lt;locals&gt;._function at 0x14782e2a5b40&gt;, 'xvlm': &lt;function make_fn.&lt;locals&gt;._function at 0x14782e2a5bd0&gt;}\n",
       "</pre>\n"
      ],
      "text/plain": [
       "consumers: {'blip': <function make_fn.<locals>._function at 0x14784858d6c0>, 'codex': <function \n",
       "make_fn.<locals>._function at 0x14784858d630>, 'depth': <function make_fn.<locals>._function at 0x1478356af2e0>, \n",
       "'glip': <function make_fn.<locals>._function at 0x14782e899cf0>, 'gpt3_qa': <function make_fn.<locals>._function at\n",
       "0x14782e899e10>, 'gpt3_general': <function make_fn.<locals>._function at 0x14782e899fc0>, 'qwen_vl': <function \n",
       "make_fn.<locals>._function at 0x14782e2a5b40>, 'xvlm': <function make_fn.<locals>._function at 0x14782e2a5bd0>}\n"
      ]
     },
     "metadata": {},
     "output_type": "display_data"
    },
    {
     "data": {
      "text/html": [
       "<pre style=\"white-space:pre;overflow-x:auto;line-height:normal;font-family:Menlo,'DejaVu Sans Mono',consolas,'Courier New',monospace\">consumers.keys(): dict_keys(['blip', 'codex', 'depth', 'glip', 'gpt3_qa', 'gpt3_general', 'qwen_vl', 'xvlm'])\n",
       "</pre>\n"
      ],
      "text/plain": [
       "consumers.keys(): dict_keys(['blip', 'codex', 'depth', 'glip', 'gpt3_qa', 'gpt3_general', 'qwen_vl', 'xvlm'])\n"
      ]
     },
     "metadata": {},
     "output_type": "display_data"
    },
    {
     "data": {
      "text/html": [
       "<pre style=\"white-space:pre;overflow-x:auto;line-height:normal;font-family:Menlo,'DejaVu Sans Mono',consolas,'Courier New',monospace\">queues_in: None\n",
       "</pre>\n"
      ],
      "text/plain": [
       "queues_in: None\n"
      ]
     },
     "metadata": {},
     "output_type": "display_data"
    },
    {
     "data": {
      "text/html": [
       "<pre style=\"white-space:pre;overflow-x:auto;line-height:normal;font-family:Menlo,'DejaVu Sans Mono',consolas,'Courier New',monospace\">config.multiprocessing: False\n",
       "</pre>\n"
      ],
      "text/plain": [
       "config.multiprocessing: False\n"
      ]
     },
     "metadata": {},
     "output_type": "display_data"
    },
    {
     "data": {
      "text/html": [
       "<pre style=\"white-space:pre;overflow-x:auto;line-height:normal;font-family:Menlo,'DejaVu Sans Mono',consolas,'Courier New',monospace\"><span style=\"color: #87d700; text-decoration-color: #87d700\">───────────────────────────────────────────────────── </span><span style=\"font-weight: bold\">Line 3</span><span style=\"color: #87d700; text-decoration-color: #87d700\"> ──────────────────────────────────────────────────────</span>\n",
       "</pre>\n"
      ],
      "text/plain": [
       "\u001b[38;5;112m───────────────────────────────────────────────────── \u001b[0m\u001b[1mLine 3\u001b[0m\u001b[38;5;112m ──────────────────────────────────────────────────────\u001b[0m\n"
      ]
     },
     "metadata": {},
     "output_type": "display_data"
    },
    {
     "data": {
      "text/html": [
       "<pre style=\"white-space:pre;overflow-x:auto;line-height:normal;font-family:Menlo,'DejaVu Sans Mono',consolas,'Courier New',monospace\">port_patches[0] = \n",
       "</pre>\n"
      ],
      "text/plain": [
       "port_patches[0] = \n"
      ]
     },
     "metadata": {},
     "output_type": "display_data"
    },
    {
     "data": {
      "image/png": "[encoded data removed]",
      "text/plain": [
       "<Figure size 200x200 with 1 Axes>"
      ]
     },
     "metadata": {},
     "output_type": "display_data"
    },
    {
     "data": {
      "text/html": [
       "<pre style=\"white-space:pre;overflow-x:auto;line-height:normal;font-family:Menlo,'DejaVu Sans Mono',consolas,'Courier New',monospace\">port_patches[1] = \n",
       "</pre>\n"
      ],
      "text/plain": [
       "port_patches[1] = \n"
      ]
     },
     "metadata": {},
     "output_type": "display_data"
    },
    {
     "data": {
      "image/png": "[encoded data removed]",
      "text/plain": [
       "<Figure size 200x200 with 1 Axes>"
      ]
     },
     "metadata": {},
     "output_type": "display_data"
    },
    {
     "data": {
      "text/html": [
       "<pre style=\"white-space:pre;overflow-x:auto;line-height:normal;font-family:Menlo,'DejaVu Sans Mono',consolas,'Courier New',monospace\">port_patches[2] = \n",
       "</pre>\n"
      ],
      "text/plain": [
       "port_patches[2] = \n"
      ]
     },
     "metadata": {},
     "output_type": "display_data"
    },
    {
     "data": {
      "image/png": "[encoded data removed]",
      "text/plain": [
       "<Figure size 200x200 with 1 Axes>"
      ]
     },
     "metadata": {},
     "output_type": "display_data"
    },
    {
     "data": {
      "text/html": [
       "<pre style=\"white-space:pre;overflow-x:auto;line-height:normal;font-family:Menlo,'DejaVu Sans Mono',consolas,'Courier New',monospace\"><span style=\"color: #87d700; text-decoration-color: #87d700\">───────────────────────────────────────────────────── </span><span style=\"font-weight: bold\">Line 4</span><span style=\"color: #87d700; text-decoration-color: #87d700\"> ──────────────────────────────────────────────────────</span>\n",
       "</pre>\n"
      ],
      "text/plain": [
       "\u001b[38;5;112m───────────────────────────────────────────────────── \u001b[0m\u001b[1mLine 4\u001b[0m\u001b[38;5;112m ──────────────────────────────────────────────────────\u001b[0m\n"
      ]
     },
     "metadata": {},
     "output_type": "display_data"
    },
    {
     "data": {
      "text/html": [
       "<pre style=\"white-space:pre;overflow-x:auto;line-height:normal;font-family:Menlo,'DejaVu Sans Mono',consolas,'Courier New',monospace\">second_lowest_port = \n",
       "</pre>\n"
      ],
      "text/plain": [
       "second_lowest_port = \n"
      ]
     },
     "metadata": {},
     "output_type": "display_data"
    },
    {
     "data": {
      "image/png": "[encoded data removed]",
      "text/plain": [
       "<Figure size 200x200 with 1 Axes>"
      ]
     },
     "metadata": {},
     "output_type": "display_data"
    },
    {
     "data": {
      "text/html": [
       "<pre style=\"white-space:pre;overflow-x:auto;line-height:normal;font-family:Menlo,'DejaVu Sans Mono',consolas,'Courier New',monospace\">INSIDE FORWARD\n",
       "</pre>\n"
      ],
      "text/plain": [
       "INSIDE FORWARD\n"
      ]
     },
     "metadata": {},
     "output_type": "display_data"
    },
    {
     "data": {
      "text/html": [
       "<pre style=\"white-space:pre;overflow-x:auto;line-height:normal;font-family:Menlo,'DejaVu Sans Mono',consolas,'Courier New',monospace\">model_name: qwen_vl\n",
       "</pre>\n"
      ],
      "text/plain": [
       "model_name: qwen_vl\n"
      ]
     },
     "metadata": {},
     "output_type": "display_data"
    },
    {
     "data": {
      "text/html": [
       "<pre style=\"white-space:pre;overflow-x:auto;line-height:normal;font-family:Menlo,'DejaVu Sans Mono',consolas,'Courier New',monospace\">arg types: [&lt;class 'torch.Tensor'&gt;, &lt;class 'str'&gt;]\n",
       "</pre>\n"
      ],
      "text/plain": [
       "arg types: [<class 'torch.Tensor'>, <class 'str'>]\n"
      ]
     },
     "metadata": {},
     "output_type": "display_data"
    },
    {
     "data": {
      "text/html": [
       "<pre style=\"white-space:pre;overflow-x:auto;line-height:normal;font-family:Menlo,'DejaVu Sans Mono',consolas,'Courier New',monospace\">queues: (None, None)\n",
       "</pre>\n"
      ],
      "text/plain": [
       "queues: (None, None)\n"
      ]
     },
     "metadata": {},
     "output_type": "display_data"
    },
    {
     "data": {
      "text/html": [
       "<pre style=\"white-space:pre;overflow-x:auto;line-height:normal;font-family:Menlo,'DejaVu Sans Mono',consolas,'Courier New',monospace\">kwargs: {'task': 'qa'}\n",
       "</pre>\n"
      ],
      "text/plain": [
       "kwargs: {'task': 'qa'}\n"
      ]
     },
     "metadata": {},
     "output_type": "display_data"
    },
    {
     "data": {
      "text/html": [
       "<pre style=\"white-space:pre;overflow-x:auto;line-height:normal;font-family:Menlo,'DejaVu Sans Mono',consolas,'Courier New',monospace\">consumers: {'blip': &lt;function make_fn.&lt;locals&gt;._function at 0x14784858d6c0&gt;, 'codex': &lt;function \n",
       "make_fn.&lt;locals&gt;._function at 0x14784858d630&gt;, 'depth': &lt;function make_fn.&lt;locals&gt;._function at 0x1478356af2e0&gt;, \n",
       "'glip': &lt;function make_fn.&lt;locals&gt;._function at 0x14782e899cf0&gt;, 'gpt3_qa': &lt;function make_fn.&lt;locals&gt;._function at\n",
       "0x14782e899e10&gt;, 'gpt3_general': &lt;function make_fn.&lt;locals&gt;._function at 0x14782e899fc0&gt;, 'qwen_vl': &lt;function \n",
       "make_fn.&lt;locals&gt;._function at 0x14782e2a5b40&gt;, 'xvlm': &lt;function make_fn.&lt;locals&gt;._function at 0x14782e2a5bd0&gt;}\n",
       "</pre>\n"
      ],
      "text/plain": [
       "consumers: {'blip': <function make_fn.<locals>._function at 0x14784858d6c0>, 'codex': <function \n",
       "make_fn.<locals>._function at 0x14784858d630>, 'depth': <function make_fn.<locals>._function at 0x1478356af2e0>, \n",
       "'glip': <function make_fn.<locals>._function at 0x14782e899cf0>, 'gpt3_qa': <function make_fn.<locals>._function at\n",
       "0x14782e899e10>, 'gpt3_general': <function make_fn.<locals>._function at 0x14782e899fc0>, 'qwen_vl': <function \n",
       "make_fn.<locals>._function at 0x14782e2a5b40>, 'xvlm': <function make_fn.<locals>._function at 0x14782e2a5bd0>}\n"
      ]
     },
     "metadata": {},
     "output_type": "display_data"
    },
    {
     "data": {
      "text/html": [
       "<pre style=\"white-space:pre;overflow-x:auto;line-height:normal;font-family:Menlo,'DejaVu Sans Mono',consolas,'Courier New',monospace\">consumers.keys(): dict_keys(['blip', 'codex', 'depth', 'glip', 'gpt3_qa', 'gpt3_general', 'qwen_vl', 'xvlm'])\n",
       "</pre>\n"
      ],
      "text/plain": [
       "consumers.keys(): dict_keys(['blip', 'codex', 'depth', 'glip', 'gpt3_qa', 'gpt3_general', 'qwen_vl', 'xvlm'])\n"
      ]
     },
     "metadata": {},
     "output_type": "display_data"
    },
    {
     "data": {
      "text/html": [
       "<pre style=\"white-space:pre;overflow-x:auto;line-height:normal;font-family:Menlo,'DejaVu Sans Mono',consolas,'Courier New',monospace\">queues_in: None\n",
       "</pre>\n"
      ],
      "text/plain": [
       "queues_in: None\n"
      ]
     },
     "metadata": {},
     "output_type": "display_data"
    },
    {
     "data": {
      "text/html": [
       "<pre style=\"white-space:pre;overflow-x:auto;line-height:normal;font-family:Menlo,'DejaVu Sans Mono',consolas,'Courier New',monospace\">config.multiprocessing: False\n",
       "</pre>\n"
      ],
      "text/plain": [
       "config.multiprocessing: False\n"
      ]
     },
     "metadata": {},
     "output_type": "display_data"
    },
    {
     "data": {
      "text/html": [
       "<pre style=\"white-space:pre;overflow-x:auto;line-height:normal;font-family:Menlo,'DejaVu Sans Mono',consolas,'Courier New',monospace\"><span style=\"color: #87d700; text-decoration-color: #87d700\">───────────────────────────────────────────────────── </span><span style=\"font-weight: bold\">Line 5</span><span style=\"color: #87d700; text-decoration-color: #87d700\"> ──────────────────────────────────────────────────────</span>\n",
       "</pre>\n"
      ],
      "text/plain": [
       "\u001b[38;5;112m───────────────────────────────────────────────────── \u001b[0m\u001b[1mLine 5\u001b[0m\u001b[38;5;112m ──────────────────────────────────────────────────────\u001b[0m\n"
      ]
     },
     "metadata": {},
     "output_type": "display_data"
    },
    {
     "data": {
      "text/html": [
       "<pre style=\"white-space:pre;overflow-x:auto;line-height:normal;font-family:Menlo,'DejaVu Sans Mono',consolas,'Courier New',monospace\">volume_value = 100\n",
       "</pre>\n"
      ],
      "text/plain": [
       "volume_value = 100\n"
      ]
     },
     "metadata": {},
     "output_type": "display_data"
    },
    {
     "data": {
      "text/html": [
       "<pre style=\"white-space:pre;overflow-x:auto;line-height:normal;font-family:Menlo,'DejaVu Sans Mono',consolas,'Courier New',monospace\"><span style=\"color: #87d700; text-decoration-color: #87d700\">───────────────────────────────────────────────────── </span><span style=\"font-weight: bold\">Line 6</span><span style=\"color: #87d700; text-decoration-color: #87d700\"> ──────────────────────────────────────────────────────</span>\n",
       "</pre>\n"
      ],
      "text/plain": [
       "\u001b[38;5;112m───────────────────────────────────────────────────── \u001b[0m\u001b[1mLine 6\u001b[0m\u001b[38;5;112m ──────────────────────────────────────────────────────\u001b[0m\n"
      ]
     },
     "metadata": {},
     "output_type": "display_data"
    },
    {
     "data": {
      "text/html": [
       "<pre style=\"white-space:pre;overflow-x:auto;line-height:normal;font-family:Menlo,'DejaVu Sans Mono',consolas,'Courier New',monospace\">f'The source port with the second lowest Volume in Mbps medium value is {volume_value} Mbps.' = The source port \n",
       "with the second lowest Volume in Mbps medium value is 100 Mbps.\n",
       "</pre>\n"
      ],
      "text/plain": [
       "f'The source port with the second lowest Volume in Mbps medium value is {volume_value} Mbps.' = The source port \n",
       "with the second lowest Volume in Mbps medium value is 100 Mbps.\n"
      ]
     },
     "metadata": {},
     "output_type": "display_data"
    },
    {
     "data": {
      "text/html": [
       "<pre style=\"white-space:pre;overflow-x:auto;line-height:normal;font-family:Menlo,'DejaVu Sans Mono',consolas,'Courier New',monospace\"></pre>\n"
      ],
      "text/plain": []
     },
     "metadata": {},
     "output_type": "display_data"
    },
    {
     "data": {
      "text/html": [
       "<pre style=\"white-space:pre;overflow-x:auto;line-height:normal;font-family:Menlo,'DejaVu Sans Mono',consolas,'Courier New',monospace\"><span style=\"color: #87d700; text-decoration-color: #87d700\">────────────────────────────────────────────────── </span><span style=\"font-weight: bold\">Final Result</span><span style=\"color: #87d700; text-decoration-color: #87d700\"> ───────────────────────────────────────────────────</span>\n",
       "</pre>\n"
      ],
      "text/plain": [
       "\u001b[38;5;112m────────────────────────────────────────────────── \u001b[0m\u001b[1mFinal Result\u001b[0m\u001b[38;5;112m ───────────────────────────────────────────────────\u001b[0m\n"
      ]
     },
     "metadata": {},
     "output_type": "display_data"
    },
    {
     "data": {
      "text/html": [
       "<pre style=\"white-space:pre;overflow-x:auto;line-height:normal;font-family:Menlo,'DejaVu Sans Mono',consolas,'Courier New',monospace\">Result = The source port with the second lowest Volume in Mbps medium value is 100 Mbps.\n",
       "</pre>\n"
      ],
      "text/plain": [
       "Result = The source port with the second lowest Volume in Mbps medium value is 100 Mbps.\n"
      ]
     },
     "metadata": {},
     "output_type": "display_data"
    },
    {
     "data": {
      "text/plain": [
       "'The source port with the second lowest Volume in Mbps medium value is 100 Mbps.'"
      ]
     },
     "execution_count": 1,
     "metadata": {},
     "output_type": "execute_result"
    }
   ],
   "source": [
    "\n",
    "from main_simple_lib import *\n",
    "code = \"\"\"\n",
    "def execute_command(image, my_fig, time_wait_between_lines, syntax):\n",
    "    image_patch = ImagePatch(image)\n",
    "    port_patches = image_patch.find(\"source port\")\n",
    "    port_patches.sort(key=lambda x: float(coerce_to_numeric(x.simple_query(\"What is the Volume in Mbps medium value?\"))))\n",
    "    second_lowest_port = port_patches[1]\n",
    "    volume_value = coerce_to_numeric(second_lowest_port.simple_query(\"What is the Volume in Mbps medium value?\"))\n",
    "    return f\"The source port with the second lowest Volume in Mbps medium value is {volume_value} Mbps.\"\n",
    "\"\"\"\n",
    "\n",
    "code_for_syntax = code.replace(\"(image, my_fig, time_wait_between_lines, syntax)\", \"(image)\")\n",
    "syntax_1 = Syntax(code_for_syntax, \"python\", theme=\"monokai\", line_numbers=True, start_line=0)\n",
    "code = ast.unparse(ast.parse(code))\n",
    "code_for_syntax_2 = code.replace(\"(image, my_fig, time_wait_between_lines, syntax)\", \"(image)\")\n",
    "syntax_2 = Syntax(code_for_syntax_2, \"python\", theme=\"monokai\", line_numbers=True, start_line=0)\n",
    "\n",
    "code = (code, syntax_2)\n",
    "\n",
    "im = load_image(\"images/65.jpg\")\n",
    "execute_code(code, im, show_intermediate_steps=True)\n"
   ]
  }
 ],
 "metadata": {
  "language_info": {
   "codemirror_mode": {
    "name": "ipython",
    "version": 3
   },
   "file_extension": ".py",
   "mimetype": "text/x-python",
   "name": "python",
   "nbconvert_exporter": "python",
   "pygments_lexer": "ipython3",
   "version": "3.10.16"
  },
  "widgets": {
   "application/vnd.jupyter.widget-state+json": {
    "state": {
     "119912407f3a48188175f20f6dacd8df": {
      "model_module": "@jupyter-widgets/base",
      "model_module_version": "2.0.0",
      "model_name": "LayoutModel",
      "state": {
       "_model_module": "@jupyter-widgets/base",
       "_model_module_version": "2.0.0",
       "_model_name": "LayoutModel",
       "_view_count": null,
       "_view_module": "@jupyter-widgets/base",
       "_view_module_version": "2.0.0",
       "_view_name": "LayoutView",
       "align_content": null,
       "align_items": null,
       "align_self": null,
       "border_bottom": null,
       "border_left": null,
       "border_right": null,
       "border_top": null,
       "bottom": null,
       "display": null,
       "flex": null,
       "flex_flow": null,
       "grid_area": null,
       "grid_auto_columns": null,
       "grid_auto_flow": null,
       "grid_auto_rows": null,
       "grid_column": null,
       "grid_gap": null,
       "grid_row": null,
       "grid_template_areas": null,
       "grid_template_columns": null,
       "grid_template_rows": null,
       "height": null,
       "justify_content": null,
       "justify_items": null,
       "left": null,
       "margin": null,
       "max_height": null,
       "max_width": null,
       "min_height": null,
       "min_width": null,
       "object_fit": null,
       "object_position": null,
       "order": null,
       "overflow": null,
       "padding": null,
       "right": null,
       "top": null,
       "visibility": null,
       "width": null
      }
     },
     "15006a70a78446039a2438e8dab294d1": {
      "model_module": "@jupyter-widgets/controls",
      "model_module_version": "2.0.0",
      "model_name": "HTMLModel",
      "state": {
       "_dom_classes": [],
       "_model_module": "@jupyter-widgets/controls",
       "_model_module_version": "2.0.0",
       "_model_name": "HTMLModel",
       "_view_count": null,
       "_view_module": "@jupyter-widgets/controls",
       "_view_module_version": "2.0.0",
       "_view_name": "HTMLView",
       "description": "",
       "description_allow_html": false,
       "layout": "IPY_MODEL_ebae46acfa364dadae46d1bb2574a5d6",
       "placeholder": "​",
       "style": "IPY_MODEL_240412b89bf9470fb4f3fe3df5cede48",
       "tabbable": null,
       "tooltip": null,
       "value": "Loading checkpoint shards: 100%"
      }
     },
     "1802e4c2e34a4957a796281b0a0d020f": {
      "model_module": "@jupyter-widgets/controls",
      "model_module_version": "2.0.0",
      "model_name": "HBoxModel",
      "state": {
       "_dom_classes": [],
       "_model_module": "@jupyter-widgets/controls",
       "_model_module_version": "2.0.0",
       "_model_name": "HBoxModel",
       "_view_count": null,
       "_view_module": "@jupyter-widgets/controls",
       "_view_module_version": "2.0.0",
       "_view_name": "HBoxView",
       "box_style": "",
       "children": [
        "IPY_MODEL_15006a70a78446039a2438e8dab294d1",
        "IPY_MODEL_57c20b9245ae44df9eab27d3c6a860c0",
        "IPY_MODEL_642c04d97d9c4df5a1865134ec51ca70"
       ],
       "layout": "IPY_MODEL_558ec45daae9437b88cd3852f4072962",
       "tabbable": null,
       "tooltip": null
      }
     },
     "240412b89bf9470fb4f3fe3df5cede48": {
      "model_module": "@jupyter-widgets/controls",
      "model_module_version": "2.0.0",
      "model_name": "HTMLStyleModel",
      "state": {
       "_model_module": "@jupyter-widgets/controls",
       "_model_module_version": "2.0.0",
       "_model_name": "HTMLStyleModel",
       "_view_count": null,
       "_view_module": "@jupyter-widgets/base",
       "_view_module_version": "2.0.0",
       "_view_name": "StyleView",
       "background": null,
       "description_width": "",
       "font_size": null,
       "text_color": null
      }
     },
     "533b19b5d7e148d7abd5a41b19ab0667": {
      "model_module": "@jupyter-widgets/base",
      "model_module_version": "2.0.0",
      "model_name": "LayoutModel",
      "state": {
       "_model_module": "@jupyter-widgets/base",
       "_model_module_version": "2.0.0",
       "_model_name": "LayoutModel",
       "_view_count": null,
       "_view_module": "@jupyter-widgets/base",
       "_view_module_version": "2.0.0",
       "_view_name": "LayoutView",
       "align_content": null,
       "align_items": null,
       "align_self": null,
       "border_bottom": null,
       "border_left": null,
       "border_right": null,
       "border_top": null,
       "bottom": null,
       "display": null,
       "flex": null,
       "flex_flow": null,
       "grid_area": null,
       "grid_auto_columns": null,
       "grid_auto_flow": null,
       "grid_auto_rows": null,
       "grid_column": null,
       "grid_gap": null,
       "grid_row": null,
       "grid_template_areas": null,
       "grid_template_columns": null,
       "grid_template_rows": null,
       "height": null,
       "justify_content": null,
       "justify_items": null,
       "left": null,
       "margin": null,
       "max_height": null,
       "max_width": null,
       "min_height": null,
       "min_width": null,
       "object_fit": null,
       "object_position": null,
       "order": null,
       "overflow": null,
       "padding": null,
       "right": null,
       "top": null,
       "visibility": null,
       "width": null
      }
     },
     "558ec45daae9437b88cd3852f4072962": {
      "model_module": "@jupyter-widgets/base",
      "model_module_version": "2.0.0",
      "model_name": "LayoutModel",
      "state": {
       "_model_module": "@jupyter-widgets/base",
       "_model_module_version": "2.0.0",
       "_model_name": "LayoutModel",
       "_view_count": null,
       "_view_module": "@jupyter-widgets/base",
       "_view_module_version": "2.0.0",
       "_view_name": "LayoutView",
       "align_content": null,
       "align_items": null,
       "align_self": null,
       "border_bottom": null,
       "border_left": null,
       "border_right": null,
       "border_top": null,
       "bottom": null,
       "display": null,
       "flex": null,
       "flex_flow": null,
       "grid_area": null,
       "grid_auto_columns": null,
       "grid_auto_flow": null,
       "grid_auto_rows": null,
       "grid_column": null,
       "grid_gap": null,
       "grid_row": null,
       "grid_template_areas": null,
       "grid_template_columns": null,
       "grid_template_rows": null,
       "height": null,
       "justify_content": null,
       "justify_items": null,
       "left": null,
       "margin": null,
       "max_height": null,
       "max_width": null,
       "min_height": null,
       "min_width": null,
       "object_fit": null,
       "object_position": null,
       "order": null,
       "overflow": null,
       "padding": null,
       "right": null,
       "top": null,
       "visibility": null,
       "width": null
      }
     },
     "57c20b9245ae44df9eab27d3c6a860c0": {
      "model_module": "@jupyter-widgets/controls",
      "model_module_version": "2.0.0",
      "model_name": "FloatProgressModel",
      "state": {
       "_dom_classes": [],
       "_model_module": "@jupyter-widgets/controls",
       "_model_module_version": "2.0.0",
       "_model_name": "FloatProgressModel",
       "_view_count": null,
       "_view_module": "@jupyter-widgets/controls",
       "_view_module_version": "2.0.0",
       "_view_name": "ProgressView",
       "bar_style": "success",
       "description": "",
       "description_allow_html": false,
       "layout": "IPY_MODEL_533b19b5d7e148d7abd5a41b19ab0667",
       "max": 5.0,
       "min": 0.0,
       "orientation": "horizontal",
       "style": "IPY_MODEL_b12be2b5f8f043dd8241e8114d8357db",
       "tabbable": null,
       "tooltip": null,
       "value": 5.0
      }
     },
     "642c04d97d9c4df5a1865134ec51ca70": {
      "model_module": "@jupyter-widgets/controls",
      "model_module_version": "2.0.0",
      "model_name": "HTMLModel",
      "state": {
       "_dom_classes": [],
       "_model_module": "@jupyter-widgets/controls",
       "_model_module_version": "2.0.0",
       "_model_name": "HTMLModel",
       "_view_count": null,
       "_view_module": "@jupyter-widgets/controls",
       "_view_module_version": "2.0.0",
       "_view_name": "HTMLView",
       "description": "",
       "description_allow_html": false,
       "layout": "IPY_MODEL_119912407f3a48188175f20f6dacd8df",
       "placeholder": "​",
       "style": "IPY_MODEL_8b43433905c840aa908e92696070c50d",
       "tabbable": null,
       "tooltip": null,
       "value": " 5/5 [00:34&lt;00:00,  6.54s/it]"
      }
     },
     "8b43433905c840aa908e92696070c50d": {
      "model_module": "@jupyter-widgets/controls",
      "model_module_version": "2.0.0",
      "model_name": "HTMLStyleModel",
      "state": {
       "_model_module": "@jupyter-widgets/controls",
       "_model_module_version": "2.0.0",
       "_model_name": "HTMLStyleModel",
       "_view_count": null,
       "_view_module": "@jupyter-widgets/base",
       "_view_module_version": "2.0.0",
       "_view_name": "StyleView",
       "background": null,
       "description_width": "",
       "font_size": null,
       "text_color": null
      }
     },
     "b12be2b5f8f043dd8241e8114d8357db": {
      "model_module": "@jupyter-widgets/controls",
      "model_module_version": "2.0.0",
      "model_name": "ProgressStyleModel",
      "state": {
       "_model_module": "@jupyter-widgets/controls",
       "_model_module_version": "2.0.0",
       "_model_name": "ProgressStyleModel",
       "_view_count": null,
       "_view_module": "@jupyter-widgets/base",
       "_view_module_version": "2.0.0",
       "_view_name": "StyleView",
       "bar_color": null,
       "description_width": ""
      }
     },
     "b5c357ca3fbd4eacae3b0bb2aa3da6d0": {
      "model_module": "@jupyter-widgets/output",
      "model_module_version": "1.0.0",
      "model_name": "OutputModel",
      "state": {
       "_dom_classes": [],
       "_model_module": "@jupyter-widgets/output",
       "_model_module_version": "1.0.0",
       "_model_name": "OutputModel",
       "_view_count": null,
       "_view_module": "@jupyter-widgets/output",
       "_view_module_version": "1.0.0",
       "_view_name": "OutputView",
       "layout": "IPY_MODEL_fe0349a9f74d463baf667d884e7b7106",
       "msg_id": "",
       "outputs": [
        {
         "data": {
          "text/html": "<pre style=\"white-space:pre;overflow-x:auto;line-height:normal;font-family:Menlo,'DejaVu Sans Mono',consolas,'Courier New',monospace\">                                                                                                                   \n <span style=\"color: #e3e3dd; text-decoration-color: #e3e3dd; background-color: #272822; font-weight: bold\">  </span><span style=\"color: #656660; text-decoration-color: #656660; background-color: #272822\">0 </span><span style=\"color: #66d9ef; text-decoration-color: #66d9ef; background-color: #272822\">def</span><span style=\"color: #f8f8f2; text-decoration-color: #f8f8f2; background-color: #272822\"> </span><span style=\"color: #a6e22e; text-decoration-color: #a6e22e; background-color: #272822\">execute_command</span><span style=\"color: #f8f8f2; text-decoration-color: #f8f8f2; background-color: #272822\">(image):</span><span style=\"background-color: #272822\">                                                                                  </span> \n <span style=\"color: #e3e3dd; text-decoration-color: #e3e3dd; background-color: #272822; font-weight: bold\">  </span><span style=\"color: #656660; text-decoration-color: #656660; background-color: #272822\">1 </span><span style=\"color: #f8f8f2; text-decoration-color: #f8f8f2; background-color: #272822\">    image_patch </span><span style=\"color: #ff4689; text-decoration-color: #ff4689; background-color: #272822\">=</span><span style=\"color: #f8f8f2; text-decoration-color: #f8f8f2; background-color: #272822\"> ImagePatch(image)</span><span style=\"background-color: #272822\">                                                                          </span> \n <span style=\"color: #e3e3dd; text-decoration-color: #e3e3dd; background-color: #272822; font-weight: bold\">  </span><span style=\"color: #656660; text-decoration-color: #656660; background-color: #272822\">2 </span><span style=\"color: #f8f8f2; text-decoration-color: #f8f8f2; background-color: #272822\">    port_patches </span><span style=\"color: #ff4689; text-decoration-color: #ff4689; background-color: #272822\">=</span><span style=\"color: #f8f8f2; text-decoration-color: #f8f8f2; background-color: #272822\"> image_patch</span><span style=\"color: #ff4689; text-decoration-color: #ff4689; background-color: #272822\">.</span><span style=\"color: #f8f8f2; text-decoration-color: #f8f8f2; background-color: #272822\">find(</span><span style=\"color: #e6db74; text-decoration-color: #e6db74; background-color: #272822\">'source port'</span><span style=\"color: #f8f8f2; text-decoration-color: #f8f8f2; background-color: #272822\">)</span><span style=\"background-color: #272822\">                                                           </span> \n <span style=\"color: #e3e3dd; text-decoration-color: #e3e3dd; background-color: #272822; font-weight: bold\">  </span><span style=\"color: #656660; text-decoration-color: #656660; background-color: #272822\">3 </span><span style=\"color: #f8f8f2; text-decoration-color: #f8f8f2; background-color: #272822\">    port_patches</span><span style=\"color: #ff4689; text-decoration-color: #ff4689; background-color: #272822\">.</span><span style=\"color: #f8f8f2; text-decoration-color: #f8f8f2; background-color: #272822\">sort(key</span><span style=\"color: #ff4689; text-decoration-color: #ff4689; background-color: #272822\">=</span><span style=\"color: #66d9ef; text-decoration-color: #66d9ef; background-color: #272822\">lambda</span><span style=\"color: #f8f8f2; text-decoration-color: #f8f8f2; background-color: #272822\"> x: float(coerce_to_numeric(x</span><span style=\"color: #ff4689; text-decoration-color: #ff4689; background-color: #272822\">.</span><span style=\"color: #f8f8f2; text-decoration-color: #f8f8f2; background-color: #272822\">simple_query(</span><span style=\"color: #e6db74; text-decoration-color: #e6db74; background-color: #272822\">'What is the Volume in Mbps medium</span> \n <span style=\"color: #e3e3dd; text-decoration-color: #e3e3dd; background-color: #272822; font-weight: bold\">  </span><span style=\"color: #656660; text-decoration-color: #656660; background-color: #272822\">4 </span><span style=\"color: #f8f8f2; text-decoration-color: #f8f8f2; background-color: #272822\">    second_lowest_port </span><span style=\"color: #ff4689; text-decoration-color: #ff4689; background-color: #272822\">=</span><span style=\"color: #f8f8f2; text-decoration-color: #f8f8f2; background-color: #272822\"> port_patches[</span><span style=\"color: #ae81ff; text-decoration-color: #ae81ff; background-color: #272822\">1</span><span style=\"color: #f8f8f2; text-decoration-color: #f8f8f2; background-color: #272822\">]</span><span style=\"background-color: #272822\">                                                                     </span> \n <span style=\"color: #e3e3dd; text-decoration-color: #e3e3dd; background-color: #272822; font-weight: bold\">  </span><span style=\"color: #656660; text-decoration-color: #656660; background-color: #272822\">5 </span><span style=\"color: #f8f8f2; text-decoration-color: #f8f8f2; background-color: #272822\">    volume_value </span><span style=\"color: #ff4689; text-decoration-color: #ff4689; background-color: #272822\">=</span><span style=\"color: #f8f8f2; text-decoration-color: #f8f8f2; background-color: #272822\"> coerce_to_numeric(second_lowest_port</span><span style=\"color: #ff4689; text-decoration-color: #ff4689; background-color: #272822\">.</span><span style=\"color: #f8f8f2; text-decoration-color: #f8f8f2; background-color: #272822\">simple_query(</span><span style=\"color: #e6db74; text-decoration-color: #e6db74; background-color: #272822\">'What is the Volume in Mbps medium value</span> \n <span style=\"color: #e3e3dd; text-decoration-color: #e3e3dd; background-color: #272822; font-weight: bold\">  </span><span style=\"color: #656660; text-decoration-color: #656660; background-color: #272822\">6 </span><span style=\"color: #f8f8f2; text-decoration-color: #f8f8f2; background-color: #800000\">    </span><span style=\"color: #66d9ef; text-decoration-color: #66d9ef; background-color: #800000\">return</span><span style=\"color: #f8f8f2; text-decoration-color: #f8f8f2; background-color: #800000\"> </span><span style=\"color: #e6db74; text-decoration-color: #e6db74; background-color: #800000\">f'The source port with the second lowest Volume in Mbps medium value </span><span style=\"color: #e6db74; text-decoration-color: #e6db74; background-color: #272822\">is {</span><span style=\"color: #f8f8f2; text-decoration-color: #f8f8f2; background-color: #272822\">volume_value</span><span style=\"color: #e6db74; text-decoration-color: #e6db74; background-color: #272822\">} Mbps.'</span><span style=\"background-color: #272822\">     </span> \n                                                                                                                   \n</pre>\n",
          "text/plain": "                                                                                                                   \n \u001b[1;38;2;227;227;221;48;2;39;40;34m  \u001b[0m\u001b[38;2;101;102;96;48;2;39;40;34m0 \u001b[0m\u001b[38;2;102;217;239;48;2;39;40;34mdef\u001b[0m\u001b[38;2;248;248;242;48;2;39;40;34m \u001b[0m\u001b[38;2;166;226;46;48;2;39;40;34mexecute_command\u001b[0m\u001b[38;2;248;248;242;48;2;39;40;34m(\u001b[0m\u001b[38;2;248;248;242;48;2;39;40;34mimage\u001b[0m\u001b[38;2;248;248;242;48;2;39;40;34m)\u001b[0m\u001b[38;2;248;248;242;48;2;39;40;34m:\u001b[0m\u001b[48;2;39;40;34m                                                                                  \u001b[0m \n \u001b[1;38;2;227;227;221;48;2;39;40;34m  \u001b[0m\u001b[38;2;101;102;96;48;2;39;40;34m1 \u001b[0m\u001b[38;2;248;248;242;48;2;39;40;34m    \u001b[0m\u001b[38;2;248;248;242;48;2;39;40;34mimage_patch\u001b[0m\u001b[38;2;248;248;242;48;2;39;40;34m \u001b[0m\u001b[38;2;255;70;137;48;2;39;40;34m=\u001b[0m\u001b[38;2;248;248;242;48;2;39;40;34m \u001b[0m\u001b[38;2;248;248;242;48;2;39;40;34mImagePatch\u001b[0m\u001b[38;2;248;248;242;48;2;39;40;34m(\u001b[0m\u001b[38;2;248;248;242;48;2;39;40;34mimage\u001b[0m\u001b[38;2;248;248;242;48;2;39;40;34m)\u001b[0m\u001b[48;2;39;40;34m                                                                          \u001b[0m \n \u001b[1;38;2;227;227;221;48;2;39;40;34m  \u001b[0m\u001b[38;2;101;102;96;48;2;39;40;34m2 \u001b[0m\u001b[38;2;248;248;242;48;2;39;40;34m    \u001b[0m\u001b[38;2;248;248;242;48;2;39;40;34mport_patches\u001b[0m\u001b[38;2;248;248;242;48;2;39;40;34m \u001b[0m\u001b[38;2;255;70;137;48;2;39;40;34m=\u001b[0m\u001b[38;2;248;248;242;48;2;39;40;34m \u001b[0m\u001b[38;2;248;248;242;48;2;39;40;34mimage_patch\u001b[0m\u001b[38;2;255;70;137;48;2;39;40;34m.\u001b[0m\u001b[38;2;248;248;242;48;2;39;40;34mfind\u001b[0m\u001b[38;2;248;248;242;48;2;39;40;34m(\u001b[0m\u001b[38;2;230;219;116;48;2;39;40;34m'\u001b[0m\u001b[38;2;230;219;116;48;2;39;40;34msource port\u001b[0m\u001b[38;2;230;219;116;48;2;39;40;34m'\u001b[0m\u001b[38;2;248;248;242;48;2;39;40;34m)\u001b[0m\u001b[48;2;39;40;34m                                                           \u001b[0m \n \u001b[1;38;2;227;227;221;48;2;39;40;34m  \u001b[0m\u001b[38;2;101;102;96;48;2;39;40;34m3 \u001b[0m\u001b[38;2;248;248;242;48;2;39;40;34m    \u001b[0m\u001b[38;2;248;248;242;48;2;39;40;34mport_patches\u001b[0m\u001b[38;2;255;70;137;48;2;39;40;34m.\u001b[0m\u001b[38;2;248;248;242;48;2;39;40;34msort\u001b[0m\u001b[38;2;248;248;242;48;2;39;40;34m(\u001b[0m\u001b[38;2;248;248;242;48;2;39;40;34mkey\u001b[0m\u001b[38;2;255;70;137;48;2;39;40;34m=\u001b[0m\u001b[38;2;102;217;239;48;2;39;40;34mlambda\u001b[0m\u001b[38;2;248;248;242;48;2;39;40;34m \u001b[0m\u001b[38;2;248;248;242;48;2;39;40;34mx\u001b[0m\u001b[38;2;248;248;242;48;2;39;40;34m:\u001b[0m\u001b[38;2;248;248;242;48;2;39;40;34m \u001b[0m\u001b[38;2;248;248;242;48;2;39;40;34mfloat\u001b[0m\u001b[38;2;248;248;242;48;2;39;40;34m(\u001b[0m\u001b[38;2;248;248;242;48;2;39;40;34mcoerce_to_numeric\u001b[0m\u001b[38;2;248;248;242;48;2;39;40;34m(\u001b[0m\u001b[38;2;248;248;242;48;2;39;40;34mx\u001b[0m\u001b[38;2;255;70;137;48;2;39;40;34m.\u001b[0m\u001b[38;2;248;248;242;48;2;39;40;34msimple_query\u001b[0m\u001b[38;2;248;248;242;48;2;39;40;34m(\u001b[0m\u001b[38;2;230;219;116;48;2;39;40;34m'\u001b[0m\u001b[38;2;230;219;116;48;2;39;40;34mWhat is the Volume in Mbps medium\u001b[0m \n \u001b[1;38;2;227;227;221;48;2;39;40;34m  \u001b[0m\u001b[38;2;101;102;96;48;2;39;40;34m4 \u001b[0m\u001b[38;2;248;248;242;48;2;39;40;34m    \u001b[0m\u001b[38;2;248;248;242;48;2;39;40;34msecond_lowest_port\u001b[0m\u001b[38;2;248;248;242;48;2;39;40;34m \u001b[0m\u001b[38;2;255;70;137;48;2;39;40;34m=\u001b[0m\u001b[38;2;248;248;242;48;2;39;40;34m \u001b[0m\u001b[38;2;248;248;242;48;2;39;40;34mport_patches\u001b[0m\u001b[38;2;248;248;242;48;2;39;40;34m[\u001b[0m\u001b[38;2;174;129;255;48;2;39;40;34m1\u001b[0m\u001b[38;2;248;248;242;48;2;39;40;34m]\u001b[0m\u001b[48;2;39;40;34m                                                                     \u001b[0m \n \u001b[1;38;2;227;227;221;48;2;39;40;34m  \u001b[0m\u001b[38;2;101;102;96;48;2;39;40;34m5 \u001b[0m\u001b[38;2;248;248;242;48;2;39;40;34m    \u001b[0m\u001b[38;2;248;248;242;48;2;39;40;34mvolume_value\u001b[0m\u001b[38;2;248;248;242;48;2;39;40;34m \u001b[0m\u001b[38;2;255;70;137;48;2;39;40;34m=\u001b[0m\u001b[38;2;248;248;242;48;2;39;40;34m \u001b[0m\u001b[38;2;248;248;242;48;2;39;40;34mcoerce_to_numeric\u001b[0m\u001b[38;2;248;248;242;48;2;39;40;34m(\u001b[0m\u001b[38;2;248;248;242;48;2;39;40;34msecond_lowest_port\u001b[0m\u001b[38;2;255;70;137;48;2;39;40;34m.\u001b[0m\u001b[38;2;248;248;242;48;2;39;40;34msimple_query\u001b[0m\u001b[38;2;248;248;242;48;2;39;40;34m(\u001b[0m\u001b[38;2;230;219;116;48;2;39;40;34m'\u001b[0m\u001b[38;2;230;219;116;48;2;39;40;34mWhat is the Volume in Mbps medium value\u001b[0m \n \u001b[1;38;2;227;227;221;48;2;39;40;34m  \u001b[0m\u001b[38;2;101;102;96;48;2;39;40;34m6 \u001b[0m\u001b[38;2;248;248;242;41m    \u001b[0m\u001b[38;2;102;217;239;41mreturn\u001b[0m\u001b[38;2;248;248;242;41m \u001b[0m\u001b[38;2;230;219;116;41mf\u001b[0m\u001b[38;2;230;219;116;41m'\u001b[0m\u001b[38;2;230;219;116;41mThe source port with the second lowest Volume in Mbps medium value \u001b[0m\u001b[38;2;230;219;116;48;2;39;40;34mis \u001b[0m\u001b[38;2;230;219;116;48;2;39;40;34m{\u001b[0m\u001b[38;2;248;248;242;48;2;39;40;34mvolume_value\u001b[0m\u001b[38;2;230;219;116;48;2;39;40;34m}\u001b[0m\u001b[38;2;230;219;116;48;2;39;40;34m Mbps.\u001b[0m\u001b[38;2;230;219;116;48;2;39;40;34m'\u001b[0m\u001b[48;2;39;40;34m     \u001b[0m \n                                                                                                                   \n"
         },
         "metadata": {},
         "output_type": "display_data"
        }
       ],
       "tabbable": null,
       "tooltip": null
      }
     },
     "ebae46acfa364dadae46d1bb2574a5d6": {
      "model_module": "@jupyter-widgets/base",
      "model_module_version": "2.0.0",
      "model_name": "LayoutModel",
      "state": {
       "_model_module": "@jupyter-widgets/base",
       "_model_module_version": "2.0.0",
       "_model_name": "LayoutModel",
       "_view_count": null,
       "_view_module": "@jupyter-widgets/base",
       "_view_module_version": "2.0.0",
       "_view_name": "LayoutView",
       "align_content": null,
       "align_items": null,
       "align_self": null,
       "border_bottom": null,
       "border_left": null,
       "border_right": null,
       "border_top": null,
       "bottom": null,
       "display": null,
       "flex": null,
       "flex_flow": null,
       "grid_area": null,
       "grid_auto_columns": null,
       "grid_auto_flow": null,
       "grid_auto_rows": null,
       "grid_column": null,
       "grid_gap": null,
       "grid_row": null,
       "grid_template_areas": null,
       "grid_template_columns": null,
       "grid_template_rows": null,
       "height": null,
       "justify_content": null,
       "justify_items": null,
       "left": null,
       "margin": null,
       "max_height": null,
       "max_width": null,
       "min_height": null,
       "min_width": null,
       "object_fit": null,
       "object_position": null,
       "order": null,
       "overflow": null,
       "padding": null,
       "right": null,
       "top": null,
       "visibility": null,
       "width": null
      }
     },
     "fe0349a9f74d463baf667d884e7b7106": {
      "model_module": "@jupyter-widgets/base",
      "model_module_version": "2.0.0",
      "model_name": "LayoutModel",
      "state": {
       "_model_module": "@jupyter-widgets/base",
       "_model_module_version": "2.0.0",
       "_model_name": "LayoutModel",
       "_view_count": null,
       "_view_module": "@jupyter-widgets/base",
       "_view_module_version": "2.0.0",
       "_view_name": "LayoutView",
       "align_content": null,
       "align_items": null,
       "align_self": null,
       "border_bottom": null,
       "border_left": null,
       "border_right": null,
       "border_top": null,
       "bottom": null,
       "display": null,
       "flex": null,
       "flex_flow": null,
       "grid_area": null,
       "grid_auto_columns": null,
       "grid_auto_flow": null,
       "grid_auto_rows": null,
       "grid_column": null,
       "grid_gap": null,
       "grid_row": null,
       "grid_template_areas": null,
       "grid_template_columns": null,
       "grid_template_rows": null,
       "height": null,
       "justify_content": null,
       "justify_items": null,
       "left": null,
       "margin": null,
       "max_height": null,
       "max_width": null,
       "min_height": null,
       "min_width": null,
       "object_fit": null,
       "object_position": null,
       "order": null,
       "overflow": null,
       "padding": null,
       "right": null,
       "top": null,
       "visibility": null,
       "width": null
      }
     }
    },
    "version_major": 2,
    "version_minor": 0
   }
  }
 },
 "nbformat": 4,
 "nbformat_minor": 5
}
