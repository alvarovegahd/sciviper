{
 "cells": [
  {
   "cell_type": "code",
   "execution_count": 1,
   "id": "705f6dbf",
   "metadata": {
    "execution": {
     "iopub.execute_input": "2025-04-26T14:14:52.214591Z",
     "iopub.status.busy": "2025-04-26T14:14:52.213986Z",
     "iopub.status.idle": "2025-04-26T14:18:49.840987Z",
     "shell.execute_reply": "2025-04-26T14:18:49.840550Z"
    }
   },
   "outputs": [
    {
     "name": "stderr",
     "output_type": "stream",
     "text": [
      "2025-04-26 10:15:40.330723: I tensorflow/core/platform/cpu_feature_guard.cc:193] This TensorFlow binary is optimized with oneAPI Deep Neural Network Library (oneDNN) to use the following CPU instructions in performance-critical operations:  AVX2 AVX512F AVX512_VNNI FMA\n",
      "To enable them in other operations, rebuild TensorFlow with the appropriate compiler flags.\n",
      "2025-04-26 10:15:43.845496: I tensorflow/core/util/port.cc:104] oneDNN custom operations are on. You may see slightly different numerical results due to floating-point round-off errors from different computation orders. To turn them off, set the environment variable `TF_ENABLE_ONEDNN_OPTS=0`.\n"
     ]
    },
    {
     "name": "stderr",
     "output_type": "stream",
     "text": [
      "2025-04-26 10:15:56.337842: W tensorflow/compiler/xla/stream_executor/platform/default/dso_loader.cc:64] Could not load dynamic library 'libnvinfer.so.7'; dlerror: libnvinfer.so.7: cannot open shared object file: No such file or directory; LD_LIBRARY_PATH: /sw/pkgs/arc/cuda/12.1.1/lib64\n",
      "2025-04-26 10:15:56.337962: W tensorflow/compiler/xla/stream_executor/platform/default/dso_loader.cc:64] Could not load dynamic library 'libnvinfer_plugin.so.7'; dlerror: libnvinfer_plugin.so.7: cannot open shared object file: No such file or directory; LD_LIBRARY_PATH: /sw/pkgs/arc/cuda/12.1.1/lib64\n",
      "2025-04-26 10:15:56.337970: W tensorflow/compiler/tf2tensorrt/utils/py_utils.cc:38] TF-TRT Warning: Cannot dlopen some TensorRT libraries. If you would like to use Nvidia GPU with TensorRT, please make sure the missing libraries mentioned above are installed properly.\n"
     ]
    },
    {
     "name": "stderr",
     "output_type": "stream",
     "text": [
      "Using a slow image processor as `use_fast` is unset and a slow processor was saved with this model. `use_fast=True` will be the default behavior in v4.52, even if the model was saved with a slow processor. This will result in minor differences in outputs. You'll still be able to use a slow processor with `use_fast=False`.\n"
     ]
    },
    {
     "name": "stderr",
     "output_type": "stream",
     "text": [
      "The `load_in_4bit` and `load_in_8bit` arguments are deprecated and will be removed in the future versions. Please, pass a `BitsAndBytesConfig` object in `quantization_config` argument instead.\n"
     ]
    },
    {
     "data": {
      "application/vnd.jupyter.widget-view+json": {
       "model_id": "649f998028cc4a59a290a6a01aab7abe",
       "version_major": 2,
       "version_minor": 0
      },
      "text/plain": [
       "Loading checkpoint shards:   0%|          | 0/5 [00:00<?, ?it/s]"
      ]
     },
     "metadata": {},
     "output_type": "display_data"
    },
    {
     "name": "stderr",
     "output_type": "stream",
     "text": [
      "Using cache found in /home/jhsansom/.cache/torch/hub/intel-isl_MiDaS_master\n"
     ]
    },
    {
     "name": "stderr",
     "output_type": "stream",
     "text": [
      "Using cache found in /home/jhsansom/.cache/torch/hub/intel-isl_MiDaS_master\n"
     ]
    },
    {
     "name": "stdout",
     "output_type": "stream",
     "text": [
      "VISION BACKBONE USE GRADIENT CHECKPOINTING:  False\n"
     ]
    },
    {
     "name": "stdout",
     "output_type": "stream",
     "text": [
      "LANGUAGE BACKBONE USE GRADIENT CHECKPOINTING:  False\n",
      "EARLY FUSION ON, USING MHA-B\n"
     ]
    },
    {
     "name": "stdout",
     "output_type": "stream",
     "text": [
      "EARLY FUSION ON, USING MHA-B\n",
      "EARLY FUSION ON, USING MHA-B\n"
     ]
    },
    {
     "name": "stdout",
     "output_type": "stream",
     "text": [
      "EARLY FUSION ON, USING MHA-B\n",
      "EARLY FUSION ON, USING MHA-B\n"
     ]
    },
    {
     "name": "stdout",
     "output_type": "stream",
     "text": [
      "EARLY FUSION ON, USING MHA-B\n",
      "EARLY FUSION ON, USING MHA-B\n"
     ]
    },
    {
     "name": "stdout",
     "output_type": "stream",
     "text": [
      "EARLY FUSION ON, USING MHA-B\n"
     ]
    },
    {
     "data": {
      "text/html": [
       "<style>.output_wrapper, .output {height:auto !important; max-height:1000000px;}</style>"
      ],
      "text/plain": [
       "<IPython.core.display.HTML object>"
      ]
     },
     "metadata": {},
     "output_type": "display_data"
    },
    {
     "data": {
      "application/vnd.jupyter.widget-view+json": {
       "model_id": "16f02fdc2a204290bd4085ea25bb6ce4",
       "version_major": 2,
       "version_minor": 0
      },
      "text/plain": [
       "Output()"
      ]
     },
     "metadata": {},
     "output_type": "display_data"
    },
    {
     "data": {
      "text/html": [
       "<pre style=\"white-space:pre;overflow-x:auto;line-height:normal;font-family:Menlo,'DejaVu Sans Mono',consolas,'Courier New',monospace\"><span style=\"color: #87d700; text-decoration-color: #87d700\">───────────────────────────────────────────────────── </span><span style=\"font-weight: bold\">Line 1</span><span style=\"color: #87d700; text-decoration-color: #87d700\"> ──────────────────────────────────────────────────────</span>\n",
       "</pre>\n"
      ],
      "text/plain": [
       "\u001b[38;5;112m───────────────────────────────────────────────────── \u001b[0m\u001b[1mLine 1\u001b[0m\u001b[38;5;112m ──────────────────────────────────────────────────────\u001b[0m\n"
      ]
     },
     "metadata": {},
     "output_type": "display_data"
    },
    {
     "data": {
      "text/html": [
       "<pre style=\"white-space:pre;overflow-x:auto;line-height:normal;font-family:Menlo,'DejaVu Sans Mono',consolas,'Courier New',monospace\">image_patch = \n",
       "</pre>\n"
      ],
      "text/plain": [
       "image_patch = \n"
      ]
     },
     "metadata": {},
     "output_type": "display_data"
    },
    {
     "data": {
      "image/png": "[encoded data removed]",
      "text/plain": [
       "<Figure size 200x200 with 1 Axes>"
      ]
     },
     "metadata": {},
     "output_type": "display_data"
    },
    {
     "data": {
      "text/html": [
       "<pre style=\"white-space:pre;overflow-x:auto;line-height:normal;font-family:Menlo,'DejaVu Sans Mono',consolas,'Courier New',monospace\">INSIDE FORWARD\n",
       "</pre>\n"
      ],
      "text/plain": [
       "INSIDE FORWARD\n"
      ]
     },
     "metadata": {},
     "output_type": "display_data"
    },
    {
     "data": {
      "text/html": [
       "<pre style=\"white-space:pre;overflow-x:auto;line-height:normal;font-family:Menlo,'DejaVu Sans Mono',consolas,'Courier New',monospace\">model_name: glip\n",
       "</pre>\n"
      ],
      "text/plain": [
       "model_name: glip\n"
      ]
     },
     "metadata": {},
     "output_type": "display_data"
    },
    {
     "data": {
      "text/html": [
       "<pre style=\"white-space:pre;overflow-x:auto;line-height:normal;font-family:Menlo,'DejaVu Sans Mono',consolas,'Courier New',monospace\">arg types: [&lt;class 'torch.Tensor'&gt;, &lt;class 'str'&gt;]\n",
       "</pre>\n"
      ],
      "text/plain": [
       "arg types: [<class 'torch.Tensor'>, <class 'str'>]\n"
      ]
     },
     "metadata": {},
     "output_type": "display_data"
    },
    {
     "data": {
      "text/html": [
       "<pre style=\"white-space:pre;overflow-x:auto;line-height:normal;font-family:Menlo,'DejaVu Sans Mono',consolas,'Courier New',monospace\">queues: (None, None)\n",
       "</pre>\n"
      ],
      "text/plain": [
       "queues: (None, None)\n"
      ]
     },
     "metadata": {},
     "output_type": "display_data"
    },
    {
     "data": {
      "text/html": [
       "<pre style=\"white-space:pre;overflow-x:auto;line-height:normal;font-family:Menlo,'DejaVu Sans Mono',consolas,'Courier New',monospace\">kwargs: {}\n",
       "</pre>\n"
      ],
      "text/plain": [
       "kwargs: {}\n"
      ]
     },
     "metadata": {},
     "output_type": "display_data"
    },
    {
     "data": {
      "text/html": [
       "<pre style=\"white-space:pre;overflow-x:auto;line-height:normal;font-family:Menlo,'DejaVu Sans Mono',consolas,'Courier New',monospace\">consumers: {'blip': &lt;function make_fn.&lt;locals&gt;._function at 0x1473e5471750&gt;, 'codex': &lt;function \n",
       "make_fn.&lt;locals&gt;._function at 0x1473e54716c0&gt;, 'depth': &lt;function make_fn.&lt;locals&gt;._function at 0x1473e041b2e0&gt;, \n",
       "'glip': &lt;function make_fn.&lt;locals&gt;._function at 0x147067471cf0&gt;, 'gpt3_qa': &lt;function make_fn.&lt;locals&gt;._function at\n",
       "0x147067471e10&gt;, 'gpt3_general': &lt;function make_fn.&lt;locals&gt;._function at 0x147067471fc0&gt;, 'qwen_vl': &lt;function \n",
       "make_fn.&lt;locals&gt;._function at 0x14705a889b40&gt;, 'xvlm': &lt;function make_fn.&lt;locals&gt;._function at 0x14705a889bd0&gt;}\n",
       "</pre>\n"
      ],
      "text/plain": [
       "consumers: {'blip': <function make_fn.<locals>._function at 0x1473e5471750>, 'codex': <function \n",
       "make_fn.<locals>._function at 0x1473e54716c0>, 'depth': <function make_fn.<locals>._function at 0x1473e041b2e0>, \n",
       "'glip': <function make_fn.<locals>._function at 0x147067471cf0>, 'gpt3_qa': <function make_fn.<locals>._function at\n",
       "0x147067471e10>, 'gpt3_general': <function make_fn.<locals>._function at 0x147067471fc0>, 'qwen_vl': <function \n",
       "make_fn.<locals>._function at 0x14705a889b40>, 'xvlm': <function make_fn.<locals>._function at 0x14705a889bd0>}\n"
      ]
     },
     "metadata": {},
     "output_type": "display_data"
    },
    {
     "data": {
      "text/html": [
       "<pre style=\"white-space:pre;overflow-x:auto;line-height:normal;font-family:Menlo,'DejaVu Sans Mono',consolas,'Courier New',monospace\">consumers.keys(): dict_keys(['blip', 'codex', 'depth', 'glip', 'gpt3_qa', 'gpt3_general', 'qwen_vl', 'xvlm'])\n",
       "</pre>\n"
      ],
      "text/plain": [
       "consumers.keys(): dict_keys(['blip', 'codex', 'depth', 'glip', 'gpt3_qa', 'gpt3_general', 'qwen_vl', 'xvlm'])\n"
      ]
     },
     "metadata": {},
     "output_type": "display_data"
    },
    {
     "data": {
      "text/html": [
       "<pre style=\"white-space:pre;overflow-x:auto;line-height:normal;font-family:Menlo,'DejaVu Sans Mono',consolas,'Courier New',monospace\">queues_in: None\n",
       "</pre>\n"
      ],
      "text/plain": [
       "queues_in: None\n"
      ]
     },
     "metadata": {},
     "output_type": "display_data"
    },
    {
     "data": {
      "text/html": [
       "<pre style=\"white-space:pre;overflow-x:auto;line-height:normal;font-family:Menlo,'DejaVu Sans Mono',consolas,'Courier New',monospace\">config.multiprocessing: False\n",
       "</pre>\n"
      ],
      "text/plain": [
       "config.multiprocessing: False\n"
      ]
     },
     "metadata": {},
     "output_type": "display_data"
    },
    {
     "data": {
      "text/html": [
       "<pre style=\"white-space:pre;overflow-x:auto;line-height:normal;font-family:Menlo,'DejaVu Sans Mono',consolas,'Courier New',monospace\"><span style=\"color: #87d700; text-decoration-color: #87d700\">───────────────────────────────────────────────────── </span><span style=\"font-weight: bold\">Line 2</span><span style=\"color: #87d700; text-decoration-color: #87d700\"> ──────────────────────────────────────────────────────</span>\n",
       "</pre>\n"
      ],
      "text/plain": [
       "\u001b[38;5;112m───────────────────────────────────────────────────── \u001b[0m\u001b[1mLine 2\u001b[0m\u001b[38;5;112m ──────────────────────────────────────────────────────\u001b[0m\n"
      ]
     },
     "metadata": {},
     "output_type": "display_data"
    },
    {
     "data": {
      "text/html": [
       "<pre style=\"white-space:pre;overflow-x:auto;line-height:normal;font-family:Menlo,'DejaVu Sans Mono',consolas,'Courier New',monospace\">chart_patches[0] = \n",
       "</pre>\n"
      ],
      "text/plain": [
       "chart_patches[0] = \n"
      ]
     },
     "metadata": {},
     "output_type": "display_data"
    },
    {
     "data": {
      "image/png": "[encoded data removed]",
      "text/plain": [
       "<Figure size 200x200 with 1 Axes>"
      ]
     },
     "metadata": {},
     "output_type": "display_data"
    },
    {
     "data": {
      "text/html": [
       "<pre style=\"white-space:pre;overflow-x:auto;line-height:normal;font-family:Menlo,'DejaVu Sans Mono',consolas,'Courier New',monospace\"><span style=\"color: #87d700; text-decoration-color: #87d700\">───────────────────────────────────────────────────── </span><span style=\"font-weight: bold\">Line 3</span><span style=\"color: #87d700; text-decoration-color: #87d700\"> ──────────────────────────────────────────────────────</span>\n",
       "</pre>\n"
      ],
      "text/plain": [
       "\u001b[38;5;112m───────────────────────────────────────────────────── \u001b[0m\u001b[1mLine 3\u001b[0m\u001b[38;5;112m ──────────────────────────────────────────────────────\u001b[0m\n"
      ]
     },
     "metadata": {},
     "output_type": "display_data"
    },
    {
     "data": {
      "text/html": [
       "<pre style=\"white-space:pre;overflow-x:auto;line-height:normal;font-family:Menlo,'DejaVu Sans Mono',consolas,'Courier New',monospace\">chart_patch = \n",
       "</pre>\n"
      ],
      "text/plain": [
       "chart_patch = \n"
      ]
     },
     "metadata": {},
     "output_type": "display_data"
    },
    {
     "data": {
      "image/png": "[encoded data removed]",
      "text/plain": [
       "<Figure size 200x200 with 1 Axes>"
      ]
     },
     "metadata": {},
     "output_type": "display_data"
    },
    {
     "data": {
      "text/html": [
       "<pre style=\"white-space:pre;overflow-x:auto;line-height:normal;font-family:Menlo,'DejaVu Sans Mono',consolas,'Courier New',monospace\">INSIDE FORWARD\n",
       "</pre>\n"
      ],
      "text/plain": [
       "INSIDE FORWARD\n"
      ]
     },
     "metadata": {},
     "output_type": "display_data"
    },
    {
     "data": {
      "text/html": [
       "<pre style=\"white-space:pre;overflow-x:auto;line-height:normal;font-family:Menlo,'DejaVu Sans Mono',consolas,'Courier New',monospace\">model_name: qwen_vl\n",
       "</pre>\n"
      ],
      "text/plain": [
       "model_name: qwen_vl\n"
      ]
     },
     "metadata": {},
     "output_type": "display_data"
    },
    {
     "data": {
      "text/html": [
       "<pre style=\"white-space:pre;overflow-x:auto;line-height:normal;font-family:Menlo,'DejaVu Sans Mono',consolas,'Courier New',monospace\">arg types: [&lt;class 'torch.Tensor'&gt;, &lt;class 'str'&gt;]\n",
       "</pre>\n"
      ],
      "text/plain": [
       "arg types: [<class 'torch.Tensor'>, <class 'str'>]\n"
      ]
     },
     "metadata": {},
     "output_type": "display_data"
    },
    {
     "data": {
      "text/html": [
       "<pre style=\"white-space:pre;overflow-x:auto;line-height:normal;font-family:Menlo,'DejaVu Sans Mono',consolas,'Courier New',monospace\">queues: (None, None)\n",
       "</pre>\n"
      ],
      "text/plain": [
       "queues: (None, None)\n"
      ]
     },
     "metadata": {},
     "output_type": "display_data"
    },
    {
     "data": {
      "text/html": [
       "<pre style=\"white-space:pre;overflow-x:auto;line-height:normal;font-family:Menlo,'DejaVu Sans Mono',consolas,'Courier New',monospace\">kwargs: {'task': 'qa'}\n",
       "</pre>\n"
      ],
      "text/plain": [
       "kwargs: {'task': 'qa'}\n"
      ]
     },
     "metadata": {},
     "output_type": "display_data"
    },
    {
     "data": {
      "text/html": [
       "<pre style=\"white-space:pre;overflow-x:auto;line-height:normal;font-family:Menlo,'DejaVu Sans Mono',consolas,'Courier New',monospace\">consumers: {'blip': &lt;function make_fn.&lt;locals&gt;._function at 0x1473e5471750&gt;, 'codex': &lt;function \n",
       "make_fn.&lt;locals&gt;._function at 0x1473e54716c0&gt;, 'depth': &lt;function make_fn.&lt;locals&gt;._function at 0x1473e041b2e0&gt;, \n",
       "'glip': &lt;function make_fn.&lt;locals&gt;._function at 0x147067471cf0&gt;, 'gpt3_qa': &lt;function make_fn.&lt;locals&gt;._function at\n",
       "0x147067471e10&gt;, 'gpt3_general': &lt;function make_fn.&lt;locals&gt;._function at 0x147067471fc0&gt;, 'qwen_vl': &lt;function \n",
       "make_fn.&lt;locals&gt;._function at 0x14705a889b40&gt;, 'xvlm': &lt;function make_fn.&lt;locals&gt;._function at 0x14705a889bd0&gt;}\n",
       "</pre>\n"
      ],
      "text/plain": [
       "consumers: {'blip': <function make_fn.<locals>._function at 0x1473e5471750>, 'codex': <function \n",
       "make_fn.<locals>._function at 0x1473e54716c0>, 'depth': <function make_fn.<locals>._function at 0x1473e041b2e0>, \n",
       "'glip': <function make_fn.<locals>._function at 0x147067471cf0>, 'gpt3_qa': <function make_fn.<locals>._function at\n",
       "0x147067471e10>, 'gpt3_general': <function make_fn.<locals>._function at 0x147067471fc0>, 'qwen_vl': <function \n",
       "make_fn.<locals>._function at 0x14705a889b40>, 'xvlm': <function make_fn.<locals>._function at 0x14705a889bd0>}\n"
      ]
     },
     "metadata": {},
     "output_type": "display_data"
    },
    {
     "data": {
      "text/html": [
       "<pre style=\"white-space:pre;overflow-x:auto;line-height:normal;font-family:Menlo,'DejaVu Sans Mono',consolas,'Courier New',monospace\">consumers.keys(): dict_keys(['blip', 'codex', 'depth', 'glip', 'gpt3_qa', 'gpt3_general', 'qwen_vl', 'xvlm'])\n",
       "</pre>\n"
      ],
      "text/plain": [
       "consumers.keys(): dict_keys(['blip', 'codex', 'depth', 'glip', 'gpt3_qa', 'gpt3_general', 'qwen_vl', 'xvlm'])\n"
      ]
     },
     "metadata": {},
     "output_type": "display_data"
    },
    {
     "data": {
      "text/html": [
       "<pre style=\"white-space:pre;overflow-x:auto;line-height:normal;font-family:Menlo,'DejaVu Sans Mono',consolas,'Courier New',monospace\">queues_in: None\n",
       "</pre>\n"
      ],
      "text/plain": [
       "queues_in: None\n"
      ]
     },
     "metadata": {},
     "output_type": "display_data"
    },
    {
     "data": {
      "text/html": [
       "<pre style=\"white-space:pre;overflow-x:auto;line-height:normal;font-family:Menlo,'DejaVu Sans Mono',consolas,'Courier New',monospace\">config.multiprocessing: False\n",
       "</pre>\n"
      ],
      "text/plain": [
       "config.multiprocessing: False\n"
      ]
     },
     "metadata": {},
     "output_type": "display_data"
    },
    {
     "data": {
      "text/html": [
       "<pre style=\"white-space:pre;overflow-x:auto;line-height:normal;font-family:Menlo,'DejaVu Sans Mono',consolas,'Courier New',monospace\"><span style=\"color: #87d700; text-decoration-color: #87d700\">───────────────────────────────────────────────────── </span><span style=\"font-weight: bold\">Line 4</span><span style=\"color: #87d700; text-decoration-color: #87d700\"> ──────────────────────────────────────────────────────</span>\n",
       "</pre>\n"
      ],
      "text/plain": [
       "\u001b[38;5;112m───────────────────────────────────────────────────── \u001b[0m\u001b[1mLine 4\u001b[0m\u001b[38;5;112m ──────────────────────────────────────────────────────\u001b[0m\n"
      ]
     },
     "metadata": {},
     "output_type": "display_data"
    },
    {
     "data": {
      "text/html": [
       "<pre style=\"white-space:pre;overflow-x:auto;line-height:normal;font-family:Menlo,'DejaVu Sans Mono',consolas,'Courier New',monospace\">methods = The methods shown in the chart include:\n",
       "\n",
       "- UNIFORM (MSE)\n",
       "- UNIFORM (CEpred, MSE)\n",
       "- UNIFORM (CEpred)\n",
       "- UNIFORM (CE, MSE)\n",
       "- UNIFORM (CE, CEpred, MSE)\n",
       "- UNIFORM (CE, CEpred)\n",
       "- UNIFORM (CE)\n",
       "- SOFTADAPT (CEpred, MSE)\n",
       "- SOFTADAPT (CE, MSE)\n",
       "- SOFTADAPT (CE, CEpred, MSE)\n",
       "- SOFTADAPT (CE, CEpred)\n",
       "- LEARNABLE (CEpred, MSE)\n",
       "- LEARNABLE (CE, MSE)\n",
       "- LEARNABLE (CE, CEpred, MSE)\n",
       "- LEARNABLE (CE, CEpred)\n",
       "- ROUND-ROBIN-COMBO\n",
       "- RANDOM-COMBO\n",
       "- CE (Baseline)\n",
       "</pre>\n"
      ],
      "text/plain": [
       "methods = The methods shown in the chart include:\n",
       "\n",
       "- UNIFORM (MSE)\n",
       "- UNIFORM (CEpred, MSE)\n",
       "- UNIFORM (CEpred)\n",
       "- UNIFORM (CE, MSE)\n",
       "- UNIFORM (CE, CEpred, MSE)\n",
       "- UNIFORM (CE, CEpred)\n",
       "- UNIFORM (CE)\n",
       "- SOFTADAPT (CEpred, MSE)\n",
       "- SOFTADAPT (CE, MSE)\n",
       "- SOFTADAPT (CE, CEpred, MSE)\n",
       "- SOFTADAPT (CE, CEpred)\n",
       "- LEARNABLE (CEpred, MSE)\n",
       "- LEARNABLE (CE, MSE)\n",
       "- LEARNABLE (CE, CEpred, MSE)\n",
       "- LEARNABLE (CE, CEpred)\n",
       "- ROUND-ROBIN-COMBO\n",
       "- RANDOM-COMBO\n",
       "- CE (Baseline)\n"
      ]
     },
     "metadata": {},
     "output_type": "display_data"
    },
    {
     "data": {
      "text/html": [
       "<pre style=\"white-space:pre;overflow-x:auto;line-height:normal;font-family:Menlo,'DejaVu Sans Mono',consolas,'Courier New',monospace\"><span style=\"color: #87d700; text-decoration-color: #87d700\">───────────────────────────────────────────────────── </span><span style=\"font-weight: bold\">Line 5</span><span style=\"color: #87d700; text-decoration-color: #87d700\"> ──────────────────────────────────────────────────────</span>\n",
       "</pre>\n"
      ],
      "text/plain": [
       "\u001b[38;5;112m───────────────────────────────────────────────────── \u001b[0m\u001b[1mLine 5\u001b[0m\u001b[38;5;112m ──────────────────────────────────────────────────────\u001b[0m\n"
      ]
     },
     "metadata": {},
     "output_type": "display_data"
    },
    {
     "data": {
      "text/html": [
       "<pre style=\"white-space:pre;overflow-x:auto;line-height:normal;font-family:Menlo,'DejaVu Sans Mono',consolas,'Courier New',monospace\">methods[0] = The methods shown in the chart include:\n",
       "\n",
       "- UNIFORM (MSE)\n",
       "- UNIFORM (CEpred\n",
       "</pre>\n"
      ],
      "text/plain": [
       "methods[0] = The methods shown in the chart include:\n",
       "\n",
       "- UNIFORM (MSE)\n",
       "- UNIFORM (CEpred\n"
      ]
     },
     "metadata": {},
     "output_type": "display_data"
    },
    {
     "data": {
      "text/html": [
       "<pre style=\"white-space:pre;overflow-x:auto;line-height:normal;font-family:Menlo,'DejaVu Sans Mono',consolas,'Courier New',monospace\">methods[1] = MSE)\n",
       "- UNIFORM (CEpred)\n",
       "- UNIFORM (CE\n",
       "</pre>\n"
      ],
      "text/plain": [
       "methods[1] = MSE)\n",
       "- UNIFORM (CEpred)\n",
       "- UNIFORM (CE\n"
      ]
     },
     "metadata": {},
     "output_type": "display_data"
    },
    {
     "data": {
      "text/html": [
       "<pre style=\"white-space:pre;overflow-x:auto;line-height:normal;font-family:Menlo,'DejaVu Sans Mono',consolas,'Courier New',monospace\">methods[2] = MSE)\n",
       "- UNIFORM (CE\n",
       "</pre>\n"
      ],
      "text/plain": [
       "methods[2] = MSE)\n",
       "- UNIFORM (CE\n"
      ]
     },
     "metadata": {},
     "output_type": "display_data"
    },
    {
     "data": {
      "text/html": [
       "<pre style=\"white-space:pre;overflow-x:auto;line-height:normal;font-family:Menlo,'DejaVu Sans Mono',consolas,'Courier New',monospace\">methods[3] = CEpred\n",
       "</pre>\n"
      ],
      "text/plain": [
       "methods[3] = CEpred\n"
      ]
     },
     "metadata": {},
     "output_type": "display_data"
    },
    {
     "data": {
      "text/html": [
       "<pre style=\"white-space:pre;overflow-x:auto;line-height:normal;font-family:Menlo,'DejaVu Sans Mono',consolas,'Courier New',monospace\">methods[4] = MSE)\n",
       "- UNIFORM (CE\n",
       "</pre>\n"
      ],
      "text/plain": [
       "methods[4] = MSE)\n",
       "- UNIFORM (CE\n"
      ]
     },
     "metadata": {},
     "output_type": "display_data"
    },
    {
     "data": {
      "text/html": [
       "<pre style=\"white-space:pre;overflow-x:auto;line-height:normal;font-family:Menlo,'DejaVu Sans Mono',consolas,'Courier New',monospace\">methods[5] = CEpred)\n",
       "- UNIFORM (CE)\n",
       "- SOFTADAPT (CEpred\n",
       "</pre>\n"
      ],
      "text/plain": [
       "methods[5] = CEpred)\n",
       "- UNIFORM (CE)\n",
       "- SOFTADAPT (CEpred\n"
      ]
     },
     "metadata": {},
     "output_type": "display_data"
    },
    {
     "data": {
      "text/html": [
       "<pre style=\"white-space:pre;overflow-x:auto;line-height:normal;font-family:Menlo,'DejaVu Sans Mono',consolas,'Courier New',monospace\">methods[6] = MSE)\n",
       "- SOFTADAPT (CE\n",
       "</pre>\n"
      ],
      "text/plain": [
       "methods[6] = MSE)\n",
       "- SOFTADAPT (CE\n"
      ]
     },
     "metadata": {},
     "output_type": "display_data"
    },
    {
     "data": {
      "text/html": [
       "<pre style=\"white-space:pre;overflow-x:auto;line-height:normal;font-family:Menlo,'DejaVu Sans Mono',consolas,'Courier New',monospace\">methods[7] = MSE)\n",
       "- SOFTADAPT (CE\n",
       "</pre>\n"
      ],
      "text/plain": [
       "methods[7] = MSE)\n",
       "- SOFTADAPT (CE\n"
      ]
     },
     "metadata": {},
     "output_type": "display_data"
    },
    {
     "data": {
      "text/html": [
       "<pre style=\"white-space:pre;overflow-x:auto;line-height:normal;font-family:Menlo,'DejaVu Sans Mono',consolas,'Courier New',monospace\">methods[8] = CEpred\n",
       "</pre>\n"
      ],
      "text/plain": [
       "methods[8] = CEpred\n"
      ]
     },
     "metadata": {},
     "output_type": "display_data"
    },
    {
     "data": {
      "text/html": [
       "<pre style=\"white-space:pre;overflow-x:auto;line-height:normal;font-family:Menlo,'DejaVu Sans Mono',consolas,'Courier New',monospace\">methods[9] = MSE)\n",
       "- SOFTADAPT (CE\n",
       "</pre>\n"
      ],
      "text/plain": [
       "methods[9] = MSE)\n",
       "- SOFTADAPT (CE\n"
      ]
     },
     "metadata": {},
     "output_type": "display_data"
    },
    {
     "data": {
      "text/html": [
       "<pre style=\"white-space:pre;overflow-x:auto;line-height:normal;font-family:Menlo,'DejaVu Sans Mono',consolas,'Courier New',monospace\">methods[10] = CEpred)\n",
       "- LEARNABLE (CEpred\n",
       "</pre>\n"
      ],
      "text/plain": [
       "methods[10] = CEpred)\n",
       "- LEARNABLE (CEpred\n"
      ]
     },
     "metadata": {},
     "output_type": "display_data"
    },
    {
     "data": {
      "text/html": [
       "<pre style=\"white-space:pre;overflow-x:auto;line-height:normal;font-family:Menlo,'DejaVu Sans Mono',consolas,'Courier New',monospace\">methods[11] = MSE)\n",
       "- LEARNABLE (CE\n",
       "</pre>\n"
      ],
      "text/plain": [
       "methods[11] = MSE)\n",
       "- LEARNABLE (CE\n"
      ]
     },
     "metadata": {},
     "output_type": "display_data"
    },
    {
     "data": {
      "text/html": [
       "<pre style=\"white-space:pre;overflow-x:auto;line-height:normal;font-family:Menlo,'DejaVu Sans Mono',consolas,'Courier New',monospace\">methods[12] = MSE)\n",
       "- LEARNABLE (CE\n",
       "</pre>\n"
      ],
      "text/plain": [
       "methods[12] = MSE)\n",
       "- LEARNABLE (CE\n"
      ]
     },
     "metadata": {},
     "output_type": "display_data"
    },
    {
     "data": {
      "text/html": [
       "<pre style=\"white-space:pre;overflow-x:auto;line-height:normal;font-family:Menlo,'DejaVu Sans Mono',consolas,'Courier New',monospace\">methods[13] = CEpred\n",
       "</pre>\n"
      ],
      "text/plain": [
       "methods[13] = CEpred\n"
      ]
     },
     "metadata": {},
     "output_type": "display_data"
    },
    {
     "data": {
      "text/html": [
       "<pre style=\"white-space:pre;overflow-x:auto;line-height:normal;font-family:Menlo,'DejaVu Sans Mono',consolas,'Courier New',monospace\">methods[14] = MSE)\n",
       "- LEARNABLE (CE\n",
       "</pre>\n"
      ],
      "text/plain": [
       "methods[14] = MSE)\n",
       "- LEARNABLE (CE\n"
      ]
     },
     "metadata": {},
     "output_type": "display_data"
    },
    {
     "data": {
      "text/html": [
       "<pre style=\"white-space:pre;overflow-x:auto;line-height:normal;font-family:Menlo,'DejaVu Sans Mono',consolas,'Courier New',monospace\">methods[15] = CEpred)\n",
       "- ROUND-ROBIN-COMBO\n",
       "- RANDOM-COMBO\n",
       "- CE (Baseline)\n",
       "</pre>\n"
      ],
      "text/plain": [
       "methods[15] = CEpred)\n",
       "- ROUND-ROBIN-COMBO\n",
       "- RANDOM-COMBO\n",
       "- CE (Baseline)\n"
      ]
     },
     "metadata": {},
     "output_type": "display_data"
    },
    {
     "data": {
      "text/html": [
       "<pre style=\"white-space:pre;overflow-x:auto;line-height:normal;font-family:Menlo,'DejaVu Sans Mono',consolas,'Courier New',monospace\"><span style=\"color: #87d700; text-decoration-color: #87d700\">───────────────────────────────────────────────────── </span><span style=\"font-weight: bold\">Line 6</span><span style=\"color: #87d700; text-decoration-color: #87d700\"> ──────────────────────────────────────────────────────</span>\n",
       "</pre>\n"
      ],
      "text/plain": [
       "\u001b[38;5;112m───────────────────────────────────────────────────── \u001b[0m\u001b[1mLine 6\u001b[0m\u001b[38;5;112m ──────────────────────────────────────────────────────\u001b[0m\n"
      ]
     },
     "metadata": {},
     "output_type": "display_data"
    },
    {
     "data": {
      "text/html": [
       "<pre style=\"white-space:pre;overflow-x:auto;line-height:normal;font-family:Menlo,'DejaVu Sans Mono',consolas,'Courier New',monospace\">median_iou_values is empty\n",
       "</pre>\n"
      ],
      "text/plain": [
       "median_iou_values is empty\n"
      ]
     },
     "metadata": {},
     "output_type": "display_data"
    },
    {
     "data": {
      "image/png": "[encoded data removed]",
      "text/plain": [
       "<Figure size 200x200 with 1 Axes>"
      ]
     },
     "metadata": {},
     "output_type": "display_data"
    },
    {
     "data": {
      "text/html": [
       "<pre style=\"white-space:pre;overflow-x:auto;line-height:normal;font-family:Menlo,'DejaVu Sans Mono',consolas,'Courier New',monospace\"><span style=\"color: #87d700; text-decoration-color: #87d700\">───────────────────────────────────────────────────── </span><span style=\"font-weight: bold\">Line 7</span><span style=\"color: #87d700; text-decoration-color: #87d700\"> ──────────────────────────────────────────────────────</span>\n",
       "</pre>\n"
      ],
      "text/plain": [
       "\u001b[38;5;112m───────────────────────────────────────────────────── \u001b[0m\u001b[1mLine 7\u001b[0m\u001b[38;5;112m ──────────────────────────────────────────────────────\u001b[0m\n"
      ]
     },
     "metadata": {},
     "output_type": "display_data"
    },
    {
     "data": {
      "text/html": [
       "<pre style=\"white-space:pre;overflow-x:auto;line-height:normal;font-family:Menlo,'DejaVu Sans Mono',consolas,'Courier New',monospace\">method = The methods shown in the chart include:\n",
       "\n",
       "- UNIFORM (MSE)\n",
       "- UNIFORM (CEpred\n",
       "</pre>\n"
      ],
      "text/plain": [
       "method = The methods shown in the chart include:\n",
       "\n",
       "- UNIFORM (MSE)\n",
       "- UNIFORM (CEpred\n"
      ]
     },
     "metadata": {},
     "output_type": "display_data"
    },
    {
     "data": {
      "text/html": [
       "<pre style=\"white-space:pre;overflow-x:auto;line-height:normal;font-family:Menlo,'DejaVu Sans Mono',consolas,'Courier New',monospace\">INSIDE FORWARD\n",
       "</pre>\n"
      ],
      "text/plain": [
       "INSIDE FORWARD\n"
      ]
     },
     "metadata": {},
     "output_type": "display_data"
    },
    {
     "data": {
      "text/html": [
       "<pre style=\"white-space:pre;overflow-x:auto;line-height:normal;font-family:Menlo,'DejaVu Sans Mono',consolas,'Courier New',monospace\">model_name: qwen_vl\n",
       "</pre>\n"
      ],
      "text/plain": [
       "model_name: qwen_vl\n"
      ]
     },
     "metadata": {},
     "output_type": "display_data"
    },
    {
     "data": {
      "text/html": [
       "<pre style=\"white-space:pre;overflow-x:auto;line-height:normal;font-family:Menlo,'DejaVu Sans Mono',consolas,'Courier New',monospace\">arg types: [&lt;class 'torch.Tensor'&gt;, &lt;class 'str'&gt;]\n",
       "</pre>\n"
      ],
      "text/plain": [
       "arg types: [<class 'torch.Tensor'>, <class 'str'>]\n"
      ]
     },
     "metadata": {},
     "output_type": "display_data"
    },
    {
     "data": {
      "text/html": [
       "<pre style=\"white-space:pre;overflow-x:auto;line-height:normal;font-family:Menlo,'DejaVu Sans Mono',consolas,'Courier New',monospace\">queues: (None, None)\n",
       "</pre>\n"
      ],
      "text/plain": [
       "queues: (None, None)\n"
      ]
     },
     "metadata": {},
     "output_type": "display_data"
    },
    {
     "data": {
      "text/html": [
       "<pre style=\"white-space:pre;overflow-x:auto;line-height:normal;font-family:Menlo,'DejaVu Sans Mono',consolas,'Courier New',monospace\">kwargs: {'task': 'qa'}\n",
       "</pre>\n"
      ],
      "text/plain": [
       "kwargs: {'task': 'qa'}\n"
      ]
     },
     "metadata": {},
     "output_type": "display_data"
    },
    {
     "data": {
      "text/html": [
       "<pre style=\"white-space:pre;overflow-x:auto;line-height:normal;font-family:Menlo,'DejaVu Sans Mono',consolas,'Courier New',monospace\">consumers: {'blip': &lt;function make_fn.&lt;locals&gt;._function at 0x1473e5471750&gt;, 'codex': &lt;function \n",
       "make_fn.&lt;locals&gt;._function at 0x1473e54716c0&gt;, 'depth': &lt;function make_fn.&lt;locals&gt;._function at 0x1473e041b2e0&gt;, \n",
       "'glip': &lt;function make_fn.&lt;locals&gt;._function at 0x147067471cf0&gt;, 'gpt3_qa': &lt;function make_fn.&lt;locals&gt;._function at\n",
       "0x147067471e10&gt;, 'gpt3_general': &lt;function make_fn.&lt;locals&gt;._function at 0x147067471fc0&gt;, 'qwen_vl': &lt;function \n",
       "make_fn.&lt;locals&gt;._function at 0x14705a889b40&gt;, 'xvlm': &lt;function make_fn.&lt;locals&gt;._function at 0x14705a889bd0&gt;}\n",
       "</pre>\n"
      ],
      "text/plain": [
       "consumers: {'blip': <function make_fn.<locals>._function at 0x1473e5471750>, 'codex': <function \n",
       "make_fn.<locals>._function at 0x1473e54716c0>, 'depth': <function make_fn.<locals>._function at 0x1473e041b2e0>, \n",
       "'glip': <function make_fn.<locals>._function at 0x147067471cf0>, 'gpt3_qa': <function make_fn.<locals>._function at\n",
       "0x147067471e10>, 'gpt3_general': <function make_fn.<locals>._function at 0x147067471fc0>, 'qwen_vl': <function \n",
       "make_fn.<locals>._function at 0x14705a889b40>, 'xvlm': <function make_fn.<locals>._function at 0x14705a889bd0>}\n"
      ]
     },
     "metadata": {},
     "output_type": "display_data"
    },
    {
     "data": {
      "text/html": [
       "<pre style=\"white-space:pre;overflow-x:auto;line-height:normal;font-family:Menlo,'DejaVu Sans Mono',consolas,'Courier New',monospace\">consumers.keys(): dict_keys(['blip', 'codex', 'depth', 'glip', 'gpt3_qa', 'gpt3_general', 'qwen_vl', 'xvlm'])\n",
       "</pre>\n"
      ],
      "text/plain": [
       "consumers.keys(): dict_keys(['blip', 'codex', 'depth', 'glip', 'gpt3_qa', 'gpt3_general', 'qwen_vl', 'xvlm'])\n"
      ]
     },
     "metadata": {},
     "output_type": "display_data"
    },
    {
     "data": {
      "text/html": [
       "<pre style=\"white-space:pre;overflow-x:auto;line-height:normal;font-family:Menlo,'DejaVu Sans Mono',consolas,'Courier New',monospace\">queues_in: None\n",
       "</pre>\n"
      ],
      "text/plain": [
       "queues_in: None\n"
      ]
     },
     "metadata": {},
     "output_type": "display_data"
    },
    {
     "data": {
      "text/html": [
       "<pre style=\"white-space:pre;overflow-x:auto;line-height:normal;font-family:Menlo,'DejaVu Sans Mono',consolas,'Courier New',monospace\">config.multiprocessing: False\n",
       "</pre>\n"
      ],
      "text/plain": [
       "config.multiprocessing: False\n"
      ]
     },
     "metadata": {},
     "output_type": "display_data"
    },
    {
     "data": {
      "text/html": [
       "<pre style=\"white-space:pre;overflow-x:auto;line-height:normal;font-family:Menlo,'DejaVu Sans Mono',consolas,'Courier New',monospace\"><span style=\"color: #87d700; text-decoration-color: #87d700\">───────────────────────────────────────────────────── </span><span style=\"font-weight: bold\">Line 8</span><span style=\"color: #87d700; text-decoration-color: #87d700\"> ──────────────────────────────────────────────────────</span>\n",
       "</pre>\n"
      ],
      "text/plain": [
       "\u001b[38;5;112m───────────────────────────────────────────────────── \u001b[0m\u001b[1mLine 8\u001b[0m\u001b[38;5;112m ──────────────────────────────────────────────────────\u001b[0m\n"
      ]
     },
     "metadata": {},
     "output_type": "display_data"
    },
    {
     "data": {
      "text/html": [
       "<pre style=\"white-space:pre;overflow-x:auto;line-height:normal;font-family:Menlo,'DejaVu Sans Mono',consolas,'Courier New',monospace\">iou_value = 0.5\n",
       "</pre>\n"
      ],
      "text/plain": [
       "iou_value = 0.5\n"
      ]
     },
     "metadata": {},
     "output_type": "display_data"
    },
    {
     "data": {
      "text/html": [
       "<pre style=\"white-space:pre;overflow-x:auto;line-height:normal;font-family:Menlo,'DejaVu Sans Mono',consolas,'Courier New',monospace\"><span style=\"color: #87d700; text-decoration-color: #87d700\">───────────────────────────────────────────────────── </span><span style=\"font-weight: bold\">Line 9</span><span style=\"color: #87d700; text-decoration-color: #87d700\"> ──────────────────────────────────────────────────────</span>\n",
       "</pre>\n"
      ],
      "text/plain": [
       "\u001b[38;5;112m───────────────────────────────────────────────────── \u001b[0m\u001b[1mLine 9\u001b[0m\u001b[38;5;112m ──────────────────────────────────────────────────────\u001b[0m\n"
      ]
     },
     "metadata": {},
     "output_type": "display_data"
    },
    {
     "data": {
      "text/html": [
       "<pre style=\"white-space:pre;overflow-x:auto;line-height:normal;font-family:Menlo,'DejaVu Sans Mono',consolas,'Courier New',monospace\">iou_value = 0.5\n",
       "</pre>\n"
      ],
      "text/plain": [
       "iou_value = 0.5\n"
      ]
     },
     "metadata": {},
     "output_type": "display_data"
    },
    {
     "data": {
      "text/html": [
       "<pre style=\"white-space:pre;overflow-x:auto;line-height:normal;font-family:Menlo,'DejaVu Sans Mono',consolas,'Courier New',monospace\"><span style=\"color: #87d700; text-decoration-color: #87d700\">───────────────────────────────────────────────────── </span><span style=\"font-weight: bold\">Line 10</span><span style=\"color: #87d700; text-decoration-color: #87d700\"> ─────────────────────────────────────────────────────</span>\n",
       "</pre>\n"
      ],
      "text/plain": [
       "\u001b[38;5;112m───────────────────────────────────────────────────── \u001b[0m\u001b[1mLine 10\u001b[0m\u001b[38;5;112m ─────────────────────────────────────────────────────\u001b[0m\n"
      ]
     },
     "metadata": {},
     "output_type": "display_data"
    },
    {
     "data": {
      "text/html": [
       "<pre style=\"white-space:pre;overflow-x:auto;line-height:normal;font-family:Menlo,'DejaVu Sans Mono',consolas,'Courier New',monospace\">iou_value = 0.5\n",
       "</pre>\n"
      ],
      "text/plain": [
       "iou_value = 0.5\n"
      ]
     },
     "metadata": {},
     "output_type": "display_data"
    },
    {
     "data": {
      "text/html": [
       "<pre style=\"white-space:pre;overflow-x:auto;line-height:normal;font-family:Menlo,'DejaVu Sans Mono',consolas,'Courier New',monospace\">0.7 = 0.7\n",
       "</pre>\n"
      ],
      "text/plain": [
       "0.7 = 0.7\n"
      ]
     },
     "metadata": {},
     "output_type": "display_data"
    },
    {
     "data": {
      "text/html": [
       "<pre style=\"white-space:pre;overflow-x:auto;line-height:normal;font-family:Menlo,'DejaVu Sans Mono',consolas,'Courier New',monospace\">iou_value &lt; 0.7 = True\n",
       "</pre>\n"
      ],
      "text/plain": [
       "iou_value < 0.7 = True\n"
      ]
     },
     "metadata": {},
     "output_type": "display_data"
    },
    {
     "data": {
      "text/html": [
       "<pre style=\"white-space:pre;overflow-x:auto;line-height:normal;font-family:Menlo,'DejaVu Sans Mono',consolas,'Courier New',monospace\"><span style=\"color: #87d700; text-decoration-color: #87d700\">───────────────────────────────────────────────────── </span><span style=\"font-weight: bold\">Line 11</span><span style=\"color: #87d700; text-decoration-color: #87d700\"> ─────────────────────────────────────────────────────</span>\n",
       "</pre>\n"
      ],
      "text/plain": [
       "\u001b[38;5;112m───────────────────────────────────────────────────── \u001b[0m\u001b[1mLine 11\u001b[0m\u001b[38;5;112m ─────────────────────────────────────────────────────\u001b[0m\n"
      ]
     },
     "metadata": {},
     "output_type": "display_data"
    },
    {
     "data": {
      "text/html": [
       "<pre style=\"white-space:pre;overflow-x:auto;line-height:normal;font-family:Menlo,'DejaVu Sans Mono',consolas,'Courier New',monospace\">median_iou_values[-1][0] = The methods shown in the chart include:\n",
       "\n",
       "- UNIFORM (MSE)\n",
       "- UNIFORM (CEpred\n",
       "</pre>\n"
      ],
      "text/plain": [
       "median_iou_values[-1][0] = The methods shown in the chart include:\n",
       "\n",
       "- UNIFORM (MSE)\n",
       "- UNIFORM (CEpred\n"
      ]
     },
     "metadata": {},
     "output_type": "display_data"
    },
    {
     "data": {
      "text/html": [
       "<pre style=\"white-space:pre;overflow-x:auto;line-height:normal;font-family:Menlo,'DejaVu Sans Mono',consolas,'Courier New',monospace\">median_iou_values[-1][1] = 0.5\n",
       "</pre>\n"
      ],
      "text/plain": [
       "median_iou_values[-1][1] = 0.5\n"
      ]
     },
     "metadata": {},
     "output_type": "display_data"
    },
    {
     "data": {
      "text/html": [
       "<pre style=\"white-space:pre;overflow-x:auto;line-height:normal;font-family:Menlo,'DejaVu Sans Mono',consolas,'Courier New',monospace\"><span style=\"color: #87d700; text-decoration-color: #87d700\">───────────────────────────────────────────────────── </span><span style=\"font-weight: bold\">Line 7</span><span style=\"color: #87d700; text-decoration-color: #87d700\"> ──────────────────────────────────────────────────────</span>\n",
       "</pre>\n"
      ],
      "text/plain": [
       "\u001b[38;5;112m───────────────────────────────────────────────────── \u001b[0m\u001b[1mLine 7\u001b[0m\u001b[38;5;112m ──────────────────────────────────────────────────────\u001b[0m\n"
      ]
     },
     "metadata": {},
     "output_type": "display_data"
    },
    {
     "data": {
      "text/html": [
       "<pre style=\"white-space:pre;overflow-x:auto;line-height:normal;font-family:Menlo,'DejaVu Sans Mono',consolas,'Courier New',monospace\">method = MSE)\n",
       "- UNIFORM (CEpred)\n",
       "- UNIFORM (CE\n",
       "</pre>\n"
      ],
      "text/plain": [
       "method = MSE)\n",
       "- UNIFORM (CEpred)\n",
       "- UNIFORM (CE\n"
      ]
     },
     "metadata": {},
     "output_type": "display_data"
    },
    {
     "data": {
      "text/html": [
       "<pre style=\"white-space:pre;overflow-x:auto;line-height:normal;font-family:Menlo,'DejaVu Sans Mono',consolas,'Courier New',monospace\">INSIDE FORWARD\n",
       "</pre>\n"
      ],
      "text/plain": [
       "INSIDE FORWARD\n"
      ]
     },
     "metadata": {},
     "output_type": "display_data"
    },
    {
     "data": {
      "text/html": [
       "<pre style=\"white-space:pre;overflow-x:auto;line-height:normal;font-family:Menlo,'DejaVu Sans Mono',consolas,'Courier New',monospace\">model_name: qwen_vl\n",
       "</pre>\n"
      ],
      "text/plain": [
       "model_name: qwen_vl\n"
      ]
     },
     "metadata": {},
     "output_type": "display_data"
    },
    {
     "data": {
      "text/html": [
       "<pre style=\"white-space:pre;overflow-x:auto;line-height:normal;font-family:Menlo,'DejaVu Sans Mono',consolas,'Courier New',monospace\">arg types: [&lt;class 'torch.Tensor'&gt;, &lt;class 'str'&gt;]\n",
       "</pre>\n"
      ],
      "text/plain": [
       "arg types: [<class 'torch.Tensor'>, <class 'str'>]\n"
      ]
     },
     "metadata": {},
     "output_type": "display_data"
    },
    {
     "data": {
      "text/html": [
       "<pre style=\"white-space:pre;overflow-x:auto;line-height:normal;font-family:Menlo,'DejaVu Sans Mono',consolas,'Courier New',monospace\">queues: (None, None)\n",
       "</pre>\n"
      ],
      "text/plain": [
       "queues: (None, None)\n"
      ]
     },
     "metadata": {},
     "output_type": "display_data"
    },
    {
     "data": {
      "text/html": [
       "<pre style=\"white-space:pre;overflow-x:auto;line-height:normal;font-family:Menlo,'DejaVu Sans Mono',consolas,'Courier New',monospace\">kwargs: {'task': 'qa'}\n",
       "</pre>\n"
      ],
      "text/plain": [
       "kwargs: {'task': 'qa'}\n"
      ]
     },
     "metadata": {},
     "output_type": "display_data"
    },
    {
     "data": {
      "text/html": [
       "<pre style=\"white-space:pre;overflow-x:auto;line-height:normal;font-family:Menlo,'DejaVu Sans Mono',consolas,'Courier New',monospace\">consumers: {'blip': &lt;function make_fn.&lt;locals&gt;._function at 0x1473e5471750&gt;, 'codex': &lt;function \n",
       "make_fn.&lt;locals&gt;._function at 0x1473e54716c0&gt;, 'depth': &lt;function make_fn.&lt;locals&gt;._function at 0x1473e041b2e0&gt;, \n",
       "'glip': &lt;function make_fn.&lt;locals&gt;._function at 0x147067471cf0&gt;, 'gpt3_qa': &lt;function make_fn.&lt;locals&gt;._function at\n",
       "0x147067471e10&gt;, 'gpt3_general': &lt;function make_fn.&lt;locals&gt;._function at 0x147067471fc0&gt;, 'qwen_vl': &lt;function \n",
       "make_fn.&lt;locals&gt;._function at 0x14705a889b40&gt;, 'xvlm': &lt;function make_fn.&lt;locals&gt;._function at 0x14705a889bd0&gt;}\n",
       "</pre>\n"
      ],
      "text/plain": [
       "consumers: {'blip': <function make_fn.<locals>._function at 0x1473e5471750>, 'codex': <function \n",
       "make_fn.<locals>._function at 0x1473e54716c0>, 'depth': <function make_fn.<locals>._function at 0x1473e041b2e0>, \n",
       "'glip': <function make_fn.<locals>._function at 0x147067471cf0>, 'gpt3_qa': <function make_fn.<locals>._function at\n",
       "0x147067471e10>, 'gpt3_general': <function make_fn.<locals>._function at 0x147067471fc0>, 'qwen_vl': <function \n",
       "make_fn.<locals>._function at 0x14705a889b40>, 'xvlm': <function make_fn.<locals>._function at 0x14705a889bd0>}\n"
      ]
     },
     "metadata": {},
     "output_type": "display_data"
    },
    {
     "data": {
      "text/html": [
       "<pre style=\"white-space:pre;overflow-x:auto;line-height:normal;font-family:Menlo,'DejaVu Sans Mono',consolas,'Courier New',monospace\">consumers.keys(): dict_keys(['blip', 'codex', 'depth', 'glip', 'gpt3_qa', 'gpt3_general', 'qwen_vl', 'xvlm'])\n",
       "</pre>\n"
      ],
      "text/plain": [
       "consumers.keys(): dict_keys(['blip', 'codex', 'depth', 'glip', 'gpt3_qa', 'gpt3_general', 'qwen_vl', 'xvlm'])\n"
      ]
     },
     "metadata": {},
     "output_type": "display_data"
    },
    {
     "data": {
      "text/html": [
       "<pre style=\"white-space:pre;overflow-x:auto;line-height:normal;font-family:Menlo,'DejaVu Sans Mono',consolas,'Courier New',monospace\">queues_in: None\n",
       "</pre>\n"
      ],
      "text/plain": [
       "queues_in: None\n"
      ]
     },
     "metadata": {},
     "output_type": "display_data"
    },
    {
     "data": {
      "text/html": [
       "<pre style=\"white-space:pre;overflow-x:auto;line-height:normal;font-family:Menlo,'DejaVu Sans Mono',consolas,'Courier New',monospace\">config.multiprocessing: False\n",
       "</pre>\n"
      ],
      "text/plain": [
       "config.multiprocessing: False\n"
      ]
     },
     "metadata": {},
     "output_type": "display_data"
    },
    {
     "data": {
      "text/html": [
       "<pre style=\"white-space:pre;overflow-x:auto;line-height:normal;font-family:Menlo,'DejaVu Sans Mono',consolas,'Courier New',monospace\"><span style=\"color: #87d700; text-decoration-color: #87d700\">───────────────────────────────────────────────────── </span><span style=\"font-weight: bold\">Line 8</span><span style=\"color: #87d700; text-decoration-color: #87d700\"> ──────────────────────────────────────────────────────</span>\n",
       "</pre>\n"
      ],
      "text/plain": [
       "\u001b[38;5;112m───────────────────────────────────────────────────── \u001b[0m\u001b[1mLine 8\u001b[0m\u001b[38;5;112m ──────────────────────────────────────────────────────\u001b[0m\n"
      ]
     },
     "metadata": {},
     "output_type": "display_data"
    },
    {
     "data": {
      "text/html": [
       "<pre style=\"white-space:pre;overflow-x:auto;line-height:normal;font-family:Menlo,'DejaVu Sans Mono',consolas,'Courier New',monospace\">iou_value = The median Attribution IoU for:\n",
       "\n",
       "- UNIFORM (CEpred) is approximately 0.5.\n",
       "- UNIFORM (CE) is approximately 0.5.\n",
       "</pre>\n"
      ],
      "text/plain": [
       "iou_value = The median Attribution IoU for:\n",
       "\n",
       "- UNIFORM (CEpred) is approximately 0.5.\n",
       "- UNIFORM (CE) is approximately 0.5.\n"
      ]
     },
     "metadata": {},
     "output_type": "display_data"
    },
    {
     "data": {
      "text/html": [
       "<pre style=\"white-space:pre;overflow-x:auto;line-height:normal;font-family:Menlo,'DejaVu Sans Mono',consolas,'Courier New',monospace\">Encountered error could not convert string to float: <span style=\"color: #008000; text-decoration-color: #008000\">'-0.5.'</span> when trying to run with visualizations. Trying from \n",
       "scratch.\n",
       "</pre>\n"
      ],
      "text/plain": [
       "Encountered error could not convert string to float: \u001b[32m'-0.5.'\u001b[0m when trying to run with visualizations. Trying from \n",
       "scratch.\n"
      ]
     },
     "metadata": {},
     "output_type": "display_data"
    },
    {
     "data": {
      "text/html": [
       "<pre style=\"white-space:pre;overflow-x:auto;line-height:normal;font-family:Menlo,'DejaVu Sans Mono',consolas,'Courier New',monospace\">INSIDE FORWARD\n",
       "</pre>\n"
      ],
      "text/plain": [
       "INSIDE FORWARD\n"
      ]
     },
     "metadata": {},
     "output_type": "display_data"
    },
    {
     "data": {
      "text/html": [
       "<pre style=\"white-space:pre;overflow-x:auto;line-height:normal;font-family:Menlo,'DejaVu Sans Mono',consolas,'Courier New',monospace\">model_name: glip\n",
       "</pre>\n"
      ],
      "text/plain": [
       "model_name: glip\n"
      ]
     },
     "metadata": {},
     "output_type": "display_data"
    },
    {
     "data": {
      "text/html": [
       "<pre style=\"white-space:pre;overflow-x:auto;line-height:normal;font-family:Menlo,'DejaVu Sans Mono',consolas,'Courier New',monospace\">arg types: [&lt;class 'torch.Tensor'&gt;, &lt;class 'str'&gt;]\n",
       "</pre>\n"
      ],
      "text/plain": [
       "arg types: [<class 'torch.Tensor'>, <class 'str'>]\n"
      ]
     },
     "metadata": {},
     "output_type": "display_data"
    },
    {
     "data": {
      "text/html": [
       "<pre style=\"white-space:pre;overflow-x:auto;line-height:normal;font-family:Menlo,'DejaVu Sans Mono',consolas,'Courier New',monospace\">queues: (None, None)\n",
       "</pre>\n"
      ],
      "text/plain": [
       "queues: (None, None)\n"
      ]
     },
     "metadata": {},
     "output_type": "display_data"
    },
    {
     "data": {
      "text/html": [
       "<pre style=\"white-space:pre;overflow-x:auto;line-height:normal;font-family:Menlo,'DejaVu Sans Mono',consolas,'Courier New',monospace\">kwargs: {}\n",
       "</pre>\n"
      ],
      "text/plain": [
       "kwargs: {}\n"
      ]
     },
     "metadata": {},
     "output_type": "display_data"
    },
    {
     "data": {
      "text/html": [
       "<pre style=\"white-space:pre;overflow-x:auto;line-height:normal;font-family:Menlo,'DejaVu Sans Mono',consolas,'Courier New',monospace\">consumers: {'blip': &lt;function make_fn.&lt;locals&gt;._function at 0x1473e5471750&gt;, 'codex': &lt;function \n",
       "make_fn.&lt;locals&gt;._function at 0x1473e54716c0&gt;, 'depth': &lt;function make_fn.&lt;locals&gt;._function at 0x1473e041b2e0&gt;, \n",
       "'glip': &lt;function make_fn.&lt;locals&gt;._function at 0x147067471cf0&gt;, 'gpt3_qa': &lt;function make_fn.&lt;locals&gt;._function at\n",
       "0x147067471e10&gt;, 'gpt3_general': &lt;function make_fn.&lt;locals&gt;._function at 0x147067471fc0&gt;, 'qwen_vl': &lt;function \n",
       "make_fn.&lt;locals&gt;._function at 0x14705a889b40&gt;, 'xvlm': &lt;function make_fn.&lt;locals&gt;._function at 0x14705a889bd0&gt;}\n",
       "</pre>\n"
      ],
      "text/plain": [
       "consumers: {'blip': <function make_fn.<locals>._function at 0x1473e5471750>, 'codex': <function \n",
       "make_fn.<locals>._function at 0x1473e54716c0>, 'depth': <function make_fn.<locals>._function at 0x1473e041b2e0>, \n",
       "'glip': <function make_fn.<locals>._function at 0x147067471cf0>, 'gpt3_qa': <function make_fn.<locals>._function at\n",
       "0x147067471e10>, 'gpt3_general': <function make_fn.<locals>._function at 0x147067471fc0>, 'qwen_vl': <function \n",
       "make_fn.<locals>._function at 0x14705a889b40>, 'xvlm': <function make_fn.<locals>._function at 0x14705a889bd0>}\n"
      ]
     },
     "metadata": {},
     "output_type": "display_data"
    },
    {
     "data": {
      "text/html": [
       "<pre style=\"white-space:pre;overflow-x:auto;line-height:normal;font-family:Menlo,'DejaVu Sans Mono',consolas,'Courier New',monospace\">consumers.keys(): dict_keys(['blip', 'codex', 'depth', 'glip', 'gpt3_qa', 'gpt3_general', 'qwen_vl', 'xvlm'])\n",
       "</pre>\n"
      ],
      "text/plain": [
       "consumers.keys(): dict_keys(['blip', 'codex', 'depth', 'glip', 'gpt3_qa', 'gpt3_general', 'qwen_vl', 'xvlm'])\n"
      ]
     },
     "metadata": {},
     "output_type": "display_data"
    },
    {
     "data": {
      "text/html": [
       "<pre style=\"white-space:pre;overflow-x:auto;line-height:normal;font-family:Menlo,'DejaVu Sans Mono',consolas,'Courier New',monospace\">queues_in: None\n",
       "</pre>\n"
      ],
      "text/plain": [
       "queues_in: None\n"
      ]
     },
     "metadata": {},
     "output_type": "display_data"
    },
    {
     "data": {
      "text/html": [
       "<pre style=\"white-space:pre;overflow-x:auto;line-height:normal;font-family:Menlo,'DejaVu Sans Mono',consolas,'Courier New',monospace\">config.multiprocessing: False\n",
       "</pre>\n"
      ],
      "text/plain": [
       "config.multiprocessing: False\n"
      ]
     },
     "metadata": {},
     "output_type": "display_data"
    },
    {
     "data": {
      "text/html": [
       "<pre style=\"white-space:pre;overflow-x:auto;line-height:normal;font-family:Menlo,'DejaVu Sans Mono',consolas,'Courier New',monospace\">INSIDE FORWARD\n",
       "</pre>\n"
      ],
      "text/plain": [
       "INSIDE FORWARD\n"
      ]
     },
     "metadata": {},
     "output_type": "display_data"
    },
    {
     "data": {
      "text/html": [
       "<pre style=\"white-space:pre;overflow-x:auto;line-height:normal;font-family:Menlo,'DejaVu Sans Mono',consolas,'Courier New',monospace\">model_name: qwen_vl\n",
       "</pre>\n"
      ],
      "text/plain": [
       "model_name: qwen_vl\n"
      ]
     },
     "metadata": {},
     "output_type": "display_data"
    },
    {
     "data": {
      "text/html": [
       "<pre style=\"white-space:pre;overflow-x:auto;line-height:normal;font-family:Menlo,'DejaVu Sans Mono',consolas,'Courier New',monospace\">arg types: [&lt;class 'torch.Tensor'&gt;, &lt;class 'str'&gt;]\n",
       "</pre>\n"
      ],
      "text/plain": [
       "arg types: [<class 'torch.Tensor'>, <class 'str'>]\n"
      ]
     },
     "metadata": {},
     "output_type": "display_data"
    },
    {
     "data": {
      "text/html": [
       "<pre style=\"white-space:pre;overflow-x:auto;line-height:normal;font-family:Menlo,'DejaVu Sans Mono',consolas,'Courier New',monospace\">queues: (None, None)\n",
       "</pre>\n"
      ],
      "text/plain": [
       "queues: (None, None)\n"
      ]
     },
     "metadata": {},
     "output_type": "display_data"
    },
    {
     "data": {
      "text/html": [
       "<pre style=\"white-space:pre;overflow-x:auto;line-height:normal;font-family:Menlo,'DejaVu Sans Mono',consolas,'Courier New',monospace\">kwargs: {'task': 'qa'}\n",
       "</pre>\n"
      ],
      "text/plain": [
       "kwargs: {'task': 'qa'}\n"
      ]
     },
     "metadata": {},
     "output_type": "display_data"
    },
    {
     "data": {
      "text/html": [
       "<pre style=\"white-space:pre;overflow-x:auto;line-height:normal;font-family:Menlo,'DejaVu Sans Mono',consolas,'Courier New',monospace\">consumers: {'blip': &lt;function make_fn.&lt;locals&gt;._function at 0x1473e5471750&gt;, 'codex': &lt;function \n",
       "make_fn.&lt;locals&gt;._function at 0x1473e54716c0&gt;, 'depth': &lt;function make_fn.&lt;locals&gt;._function at 0x1473e041b2e0&gt;, \n",
       "'glip': &lt;function make_fn.&lt;locals&gt;._function at 0x147067471cf0&gt;, 'gpt3_qa': &lt;function make_fn.&lt;locals&gt;._function at\n",
       "0x147067471e10&gt;, 'gpt3_general': &lt;function make_fn.&lt;locals&gt;._function at 0x147067471fc0&gt;, 'qwen_vl': &lt;function \n",
       "make_fn.&lt;locals&gt;._function at 0x14705a889b40&gt;, 'xvlm': &lt;function make_fn.&lt;locals&gt;._function at 0x14705a889bd0&gt;}\n",
       "</pre>\n"
      ],
      "text/plain": [
       "consumers: {'blip': <function make_fn.<locals>._function at 0x1473e5471750>, 'codex': <function \n",
       "make_fn.<locals>._function at 0x1473e54716c0>, 'depth': <function make_fn.<locals>._function at 0x1473e041b2e0>, \n",
       "'glip': <function make_fn.<locals>._function at 0x147067471cf0>, 'gpt3_qa': <function make_fn.<locals>._function at\n",
       "0x147067471e10>, 'gpt3_general': <function make_fn.<locals>._function at 0x147067471fc0>, 'qwen_vl': <function \n",
       "make_fn.<locals>._function at 0x14705a889b40>, 'xvlm': <function make_fn.<locals>._function at 0x14705a889bd0>}\n"
      ]
     },
     "metadata": {},
     "output_type": "display_data"
    },
    {
     "data": {
      "text/html": [
       "<pre style=\"white-space:pre;overflow-x:auto;line-height:normal;font-family:Menlo,'DejaVu Sans Mono',consolas,'Courier New',monospace\">consumers.keys(): dict_keys(['blip', 'codex', 'depth', 'glip', 'gpt3_qa', 'gpt3_general', 'qwen_vl', 'xvlm'])\n",
       "</pre>\n"
      ],
      "text/plain": [
       "consumers.keys(): dict_keys(['blip', 'codex', 'depth', 'glip', 'gpt3_qa', 'gpt3_general', 'qwen_vl', 'xvlm'])\n"
      ]
     },
     "metadata": {},
     "output_type": "display_data"
    },
    {
     "data": {
      "text/html": [
       "<pre style=\"white-space:pre;overflow-x:auto;line-height:normal;font-family:Menlo,'DejaVu Sans Mono',consolas,'Courier New',monospace\">queues_in: None\n",
       "</pre>\n"
      ],
      "text/plain": [
       "queues_in: None\n"
      ]
     },
     "metadata": {},
     "output_type": "display_data"
    },
    {
     "data": {
      "text/html": [
       "<pre style=\"white-space:pre;overflow-x:auto;line-height:normal;font-family:Menlo,'DejaVu Sans Mono',consolas,'Courier New',monospace\">config.multiprocessing: False\n",
       "</pre>\n"
      ],
      "text/plain": [
       "config.multiprocessing: False\n"
      ]
     },
     "metadata": {},
     "output_type": "display_data"
    },
    {
     "data": {
      "text/html": [
       "<pre style=\"white-space:pre;overflow-x:auto;line-height:normal;font-family:Menlo,'DejaVu Sans Mono',consolas,'Courier New',monospace\">INSIDE FORWARD\n",
       "</pre>\n"
      ],
      "text/plain": [
       "INSIDE FORWARD\n"
      ]
     },
     "metadata": {},
     "output_type": "display_data"
    },
    {
     "data": {
      "text/html": [
       "<pre style=\"white-space:pre;overflow-x:auto;line-height:normal;font-family:Menlo,'DejaVu Sans Mono',consolas,'Courier New',monospace\">model_name: qwen_vl\n",
       "</pre>\n"
      ],
      "text/plain": [
       "model_name: qwen_vl\n"
      ]
     },
     "metadata": {},
     "output_type": "display_data"
    },
    {
     "data": {
      "text/html": [
       "<pre style=\"white-space:pre;overflow-x:auto;line-height:normal;font-family:Menlo,'DejaVu Sans Mono',consolas,'Courier New',monospace\">arg types: [&lt;class 'torch.Tensor'&gt;, &lt;class 'str'&gt;]\n",
       "</pre>\n"
      ],
      "text/plain": [
       "arg types: [<class 'torch.Tensor'>, <class 'str'>]\n"
      ]
     },
     "metadata": {},
     "output_type": "display_data"
    },
    {
     "data": {
      "text/html": [
       "<pre style=\"white-space:pre;overflow-x:auto;line-height:normal;font-family:Menlo,'DejaVu Sans Mono',consolas,'Courier New',monospace\">queues: (None, None)\n",
       "</pre>\n"
      ],
      "text/plain": [
       "queues: (None, None)\n"
      ]
     },
     "metadata": {},
     "output_type": "display_data"
    },
    {
     "data": {
      "text/html": [
       "<pre style=\"white-space:pre;overflow-x:auto;line-height:normal;font-family:Menlo,'DejaVu Sans Mono',consolas,'Courier New',monospace\">kwargs: {'task': 'qa'}\n",
       "</pre>\n"
      ],
      "text/plain": [
       "kwargs: {'task': 'qa'}\n"
      ]
     },
     "metadata": {},
     "output_type": "display_data"
    },
    {
     "data": {
      "text/html": [
       "<pre style=\"white-space:pre;overflow-x:auto;line-height:normal;font-family:Menlo,'DejaVu Sans Mono',consolas,'Courier New',monospace\">consumers: {'blip': &lt;function make_fn.&lt;locals&gt;._function at 0x1473e5471750&gt;, 'codex': &lt;function \n",
       "make_fn.&lt;locals&gt;._function at 0x1473e54716c0&gt;, 'depth': &lt;function make_fn.&lt;locals&gt;._function at 0x1473e041b2e0&gt;, \n",
       "'glip': &lt;function make_fn.&lt;locals&gt;._function at 0x147067471cf0&gt;, 'gpt3_qa': &lt;function make_fn.&lt;locals&gt;._function at\n",
       "0x147067471e10&gt;, 'gpt3_general': &lt;function make_fn.&lt;locals&gt;._function at 0x147067471fc0&gt;, 'qwen_vl': &lt;function \n",
       "make_fn.&lt;locals&gt;._function at 0x14705a889b40&gt;, 'xvlm': &lt;function make_fn.&lt;locals&gt;._function at 0x14705a889bd0&gt;}\n",
       "</pre>\n"
      ],
      "text/plain": [
       "consumers: {'blip': <function make_fn.<locals>._function at 0x1473e5471750>, 'codex': <function \n",
       "make_fn.<locals>._function at 0x1473e54716c0>, 'depth': <function make_fn.<locals>._function at 0x1473e041b2e0>, \n",
       "'glip': <function make_fn.<locals>._function at 0x147067471cf0>, 'gpt3_qa': <function make_fn.<locals>._function at\n",
       "0x147067471e10>, 'gpt3_general': <function make_fn.<locals>._function at 0x147067471fc0>, 'qwen_vl': <function \n",
       "make_fn.<locals>._function at 0x14705a889b40>, 'xvlm': <function make_fn.<locals>._function at 0x14705a889bd0>}\n"
      ]
     },
     "metadata": {},
     "output_type": "display_data"
    },
    {
     "data": {
      "text/html": [
       "<pre style=\"white-space:pre;overflow-x:auto;line-height:normal;font-family:Menlo,'DejaVu Sans Mono',consolas,'Courier New',monospace\">consumers.keys(): dict_keys(['blip', 'codex', 'depth', 'glip', 'gpt3_qa', 'gpt3_general', 'qwen_vl', 'xvlm'])\n",
       "</pre>\n"
      ],
      "text/plain": [
       "consumers.keys(): dict_keys(['blip', 'codex', 'depth', 'glip', 'gpt3_qa', 'gpt3_general', 'qwen_vl', 'xvlm'])\n"
      ]
     },
     "metadata": {},
     "output_type": "display_data"
    },
    {
     "data": {
      "text/html": [
       "<pre style=\"white-space:pre;overflow-x:auto;line-height:normal;font-family:Menlo,'DejaVu Sans Mono',consolas,'Courier New',monospace\">queues_in: None\n",
       "</pre>\n"
      ],
      "text/plain": [
       "queues_in: None\n"
      ]
     },
     "metadata": {},
     "output_type": "display_data"
    },
    {
     "data": {
      "text/html": [
       "<pre style=\"white-space:pre;overflow-x:auto;line-height:normal;font-family:Menlo,'DejaVu Sans Mono',consolas,'Courier New',monospace\">config.multiprocessing: False\n",
       "</pre>\n"
      ],
      "text/plain": [
       "config.multiprocessing: False\n"
      ]
     },
     "metadata": {},
     "output_type": "display_data"
    },
    {
     "data": {
      "text/html": [
       "<pre style=\"white-space:pre;overflow-x:auto;line-height:normal;font-family:Menlo,'DejaVu Sans Mono',consolas,'Courier New',monospace\">INSIDE FORWARD\n",
       "</pre>\n"
      ],
      "text/plain": [
       "INSIDE FORWARD\n"
      ]
     },
     "metadata": {},
     "output_type": "display_data"
    },
    {
     "data": {
      "text/html": [
       "<pre style=\"white-space:pre;overflow-x:auto;line-height:normal;font-family:Menlo,'DejaVu Sans Mono',consolas,'Courier New',monospace\">model_name: qwen_vl\n",
       "</pre>\n"
      ],
      "text/plain": [
       "model_name: qwen_vl\n"
      ]
     },
     "metadata": {},
     "output_type": "display_data"
    },
    {
     "data": {
      "text/html": [
       "<pre style=\"white-space:pre;overflow-x:auto;line-height:normal;font-family:Menlo,'DejaVu Sans Mono',consolas,'Courier New',monospace\">arg types: [&lt;class 'torch.Tensor'&gt;, &lt;class 'str'&gt;]\n",
       "</pre>\n"
      ],
      "text/plain": [
       "arg types: [<class 'torch.Tensor'>, <class 'str'>]\n"
      ]
     },
     "metadata": {},
     "output_type": "display_data"
    },
    {
     "data": {
      "text/html": [
       "<pre style=\"white-space:pre;overflow-x:auto;line-height:normal;font-family:Menlo,'DejaVu Sans Mono',consolas,'Courier New',monospace\">queues: (None, None)\n",
       "</pre>\n"
      ],
      "text/plain": [
       "queues: (None, None)\n"
      ]
     },
     "metadata": {},
     "output_type": "display_data"
    },
    {
     "data": {
      "text/html": [
       "<pre style=\"white-space:pre;overflow-x:auto;line-height:normal;font-family:Menlo,'DejaVu Sans Mono',consolas,'Courier New',monospace\">kwargs: {'task': 'qa'}\n",
       "</pre>\n"
      ],
      "text/plain": [
       "kwargs: {'task': 'qa'}\n"
      ]
     },
     "metadata": {},
     "output_type": "display_data"
    },
    {
     "data": {
      "text/html": [
       "<pre style=\"white-space:pre;overflow-x:auto;line-height:normal;font-family:Menlo,'DejaVu Sans Mono',consolas,'Courier New',monospace\">consumers: {'blip': &lt;function make_fn.&lt;locals&gt;._function at 0x1473e5471750&gt;, 'codex': &lt;function \n",
       "make_fn.&lt;locals&gt;._function at 0x1473e54716c0&gt;, 'depth': &lt;function make_fn.&lt;locals&gt;._function at 0x1473e041b2e0&gt;, \n",
       "'glip': &lt;function make_fn.&lt;locals&gt;._function at 0x147067471cf0&gt;, 'gpt3_qa': &lt;function make_fn.&lt;locals&gt;._function at\n",
       "0x147067471e10&gt;, 'gpt3_general': &lt;function make_fn.&lt;locals&gt;._function at 0x147067471fc0&gt;, 'qwen_vl': &lt;function \n",
       "make_fn.&lt;locals&gt;._function at 0x14705a889b40&gt;, 'xvlm': &lt;function make_fn.&lt;locals&gt;._function at 0x14705a889bd0&gt;}\n",
       "</pre>\n"
      ],
      "text/plain": [
       "consumers: {'blip': <function make_fn.<locals>._function at 0x1473e5471750>, 'codex': <function \n",
       "make_fn.<locals>._function at 0x1473e54716c0>, 'depth': <function make_fn.<locals>._function at 0x1473e041b2e0>, \n",
       "'glip': <function make_fn.<locals>._function at 0x147067471cf0>, 'gpt3_qa': <function make_fn.<locals>._function at\n",
       "0x147067471e10>, 'gpt3_general': <function make_fn.<locals>._function at 0x147067471fc0>, 'qwen_vl': <function \n",
       "make_fn.<locals>._function at 0x14705a889b40>, 'xvlm': <function make_fn.<locals>._function at 0x14705a889bd0>}\n"
      ]
     },
     "metadata": {},
     "output_type": "display_data"
    },
    {
     "data": {
      "text/html": [
       "<pre style=\"white-space:pre;overflow-x:auto;line-height:normal;font-family:Menlo,'DejaVu Sans Mono',consolas,'Courier New',monospace\">consumers.keys(): dict_keys(['blip', 'codex', 'depth', 'glip', 'gpt3_qa', 'gpt3_general', 'qwen_vl', 'xvlm'])\n",
       "</pre>\n"
      ],
      "text/plain": [
       "consumers.keys(): dict_keys(['blip', 'codex', 'depth', 'glip', 'gpt3_qa', 'gpt3_general', 'qwen_vl', 'xvlm'])\n"
      ]
     },
     "metadata": {},
     "output_type": "display_data"
    },
    {
     "data": {
      "text/html": [
       "<pre style=\"white-space:pre;overflow-x:auto;line-height:normal;font-family:Menlo,'DejaVu Sans Mono',consolas,'Courier New',monospace\">queues_in: None\n",
       "</pre>\n"
      ],
      "text/plain": [
       "queues_in: None\n"
      ]
     },
     "metadata": {},
     "output_type": "display_data"
    },
    {
     "data": {
      "text/html": [
       "<pre style=\"white-space:pre;overflow-x:auto;line-height:normal;font-family:Menlo,'DejaVu Sans Mono',consolas,'Courier New',monospace\">config.multiprocessing: False\n",
       "</pre>\n"
      ],
      "text/plain": [
       "config.multiprocessing: False\n"
      ]
     },
     "metadata": {},
     "output_type": "display_data"
    },
    {
     "data": {
      "text/html": [
       "<pre style=\"white-space:pre;overflow-x:auto;line-height:normal;font-family:Menlo,'DejaVu Sans Mono',consolas,'Courier New',monospace\">Encountered the following exception: could not convert string to float: <span style=\"color: #008000; text-decoration-color: #008000\">'-0.5.'</span>\n",
       "</pre>\n"
      ],
      "text/plain": [
       "Encountered the following exception: could not convert string to float: \u001b[32m'-0.5.'\u001b[0m\n"
      ]
     },
     "metadata": {},
     "output_type": "display_data"
    },
    {
     "data": {
      "text/html": [
       "<pre style=\"white-space:pre;overflow-x:auto;line-height:normal;font-family:Menlo,'DejaVu Sans Mono',consolas,'Courier New',monospace\"></pre>\n"
      ],
      "text/plain": []
     },
     "metadata": {},
     "output_type": "display_data"
    },
    {
     "data": {
      "text/plain": [
       "\"Exception: could not convert string to float: '-0.5.'\""
      ]
     },
     "execution_count": 1,
     "metadata": {},
     "output_type": "execute_result"
    },
    {
     "data": {
      "image/png": "[encoded data removed]",
      "text/plain": [
       "<Figure size 200x200 with 1 Axes>"
      ]
     },
     "metadata": {},
     "output_type": "display_data"
    }
   ],
   "source": [
    "\n",
    "from main_simple_lib import *\n",
    "code = \"\"\"\n",
    "def execute_command(image, my_fig, time_wait_between_lines, syntax):\n",
    "    image_patch = ImagePatch(image)\n",
    "    chart_patches = image_patch.find(\"chart\")\n",
    "    chart_patch = chart_patches[0]\n",
    "    methods = chart_patch.simple_query(\"Which methods are shown in the chart?\")\n",
    "    methods = methods.split(\", \")\n",
    "    median_iou_values = []\n",
    "    for method in methods:\n",
    "        iou_value = chart_patch.simple_query(f\"What is the median Attribution IoU for {method}?\")\n",
    "        iou_value = float(coerce_to_numeric(iou_value))\n",
    "        if iou_value < 0.7:\n",
    "            median_iou_values.append((method, iou_value))\n",
    "    median_iou_values.sort(key=lambda x: x[1])\n",
    "    least_variable_method = median_iou_values[0][0]\n",
    "    return least_variable_method\n",
    "\"\"\"\n",
    "\n",
    "code_for_syntax = code.replace(\"(image, my_fig, time_wait_between_lines, syntax)\", \"(image)\")\n",
    "syntax_1 = Syntax(code_for_syntax, \"python\", theme=\"monokai\", line_numbers=True, start_line=0)\n",
    "code = ast.unparse(ast.parse(code))\n",
    "code_for_syntax_2 = code.replace(\"(image, my_fig, time_wait_between_lines, syntax)\", \"(image)\")\n",
    "syntax_2 = Syntax(code_for_syntax_2, \"python\", theme=\"monokai\", line_numbers=True, start_line=0)\n",
    "\n",
    "code = (code, syntax_2)\n",
    "\n",
    "im = load_image(\"images/13.jpg\")\n",
    "execute_code(code, im, show_intermediate_steps=True)\n"
   ]
  }
 ],
 "metadata": {
  "language_info": {
   "codemirror_mode": {
    "name": "ipython",
    "version": 3
   },
   "file_extension": ".py",
   "mimetype": "text/x-python",
   "name": "python",
   "nbconvert_exporter": "python",
   "pygments_lexer": "ipython3",
   "version": "3.10.16"
  },
  "widgets": {
   "application/vnd.jupyter.widget-state+json": {
    "state": {
     "16f02fdc2a204290bd4085ea25bb6ce4": {
      "model_module": "@jupyter-widgets/output",
      "model_module_version": "1.0.0",
      "model_name": "OutputModel",
      "state": {
       "_dom_classes": [],
       "_model_module": "@jupyter-widgets/output",
       "_model_module_version": "1.0.0",
       "_model_name": "OutputModel",
       "_view_count": null,
       "_view_module": "@jupyter-widgets/output",
       "_view_module_version": "1.0.0",
       "_view_name": "OutputView",
       "layout": "IPY_MODEL_997f5bc013a54e54a059bf06fa4e826d",
       "msg_id": "",
       "outputs": [
        {
         "data": {
          "text/html": "<pre style=\"white-space:pre;overflow-x:auto;line-height:normal;font-family:Menlo,'DejaVu Sans Mono',consolas,'Courier New',monospace\">                                                                                                                   \n <span style=\"color: #e3e3dd; text-decoration-color: #e3e3dd; background-color: #272822; font-weight: bold\">  </span><span style=\"color: #656660; text-decoration-color: #656660; background-color: #272822\"> 0 </span><span style=\"color: #66d9ef; text-decoration-color: #66d9ef; background-color: #272822\">def</span><span style=\"color: #f8f8f2; text-decoration-color: #f8f8f2; background-color: #272822\"> </span><span style=\"color: #a6e22e; text-decoration-color: #a6e22e; background-color: #272822\">execute_command</span><span style=\"color: #f8f8f2; text-decoration-color: #f8f8f2; background-color: #272822\">(image):</span><span style=\"background-color: #272822\">                                                                                 </span> \n <span style=\"color: #e3e3dd; text-decoration-color: #e3e3dd; background-color: #272822; font-weight: bold\">  </span><span style=\"color: #656660; text-decoration-color: #656660; background-color: #272822\"> 1 </span><span style=\"color: #f8f8f2; text-decoration-color: #f8f8f2; background-color: #272822\">    image_patch </span><span style=\"color: #ff4689; text-decoration-color: #ff4689; background-color: #272822\">=</span><span style=\"color: #f8f8f2; text-decoration-color: #f8f8f2; background-color: #272822\"> ImagePatch(image)</span><span style=\"background-color: #272822\">                                                                         </span> \n <span style=\"color: #e3e3dd; text-decoration-color: #e3e3dd; background-color: #272822; font-weight: bold\">  </span><span style=\"color: #656660; text-decoration-color: #656660; background-color: #272822\"> 2 </span><span style=\"color: #f8f8f2; text-decoration-color: #f8f8f2; background-color: #272822\">    chart_patches </span><span style=\"color: #ff4689; text-decoration-color: #ff4689; background-color: #272822\">=</span><span style=\"color: #f8f8f2; text-decoration-color: #f8f8f2; background-color: #272822\"> image_patch</span><span style=\"color: #ff4689; text-decoration-color: #ff4689; background-color: #272822\">.</span><span style=\"color: #f8f8f2; text-decoration-color: #f8f8f2; background-color: #272822\">find(</span><span style=\"color: #e6db74; text-decoration-color: #e6db74; background-color: #272822\">'chart'</span><span style=\"color: #f8f8f2; text-decoration-color: #f8f8f2; background-color: #272822\">)</span><span style=\"background-color: #272822\">                                                               </span> \n <span style=\"color: #e3e3dd; text-decoration-color: #e3e3dd; background-color: #272822; font-weight: bold\">  </span><span style=\"color: #656660; text-decoration-color: #656660; background-color: #272822\"> 3 </span><span style=\"color: #f8f8f2; text-decoration-color: #f8f8f2; background-color: #272822\">    chart_patch </span><span style=\"color: #ff4689; text-decoration-color: #ff4689; background-color: #272822\">=</span><span style=\"color: #f8f8f2; text-decoration-color: #f8f8f2; background-color: #272822\"> chart_patches[</span><span style=\"color: #ae81ff; text-decoration-color: #ae81ff; background-color: #272822\">0</span><span style=\"color: #f8f8f2; text-decoration-color: #f8f8f2; background-color: #272822\">]</span><span style=\"background-color: #272822\">                                                                          </span> \n <span style=\"color: #e3e3dd; text-decoration-color: #e3e3dd; background-color: #272822; font-weight: bold\">  </span><span style=\"color: #656660; text-decoration-color: #656660; background-color: #272822\"> 4 </span><span style=\"color: #f8f8f2; text-decoration-color: #f8f8f2; background-color: #272822\">    methods </span><span style=\"color: #ff4689; text-decoration-color: #ff4689; background-color: #272822\">=</span><span style=\"color: #f8f8f2; text-decoration-color: #f8f8f2; background-color: #272822\"> chart_patch</span><span style=\"color: #ff4689; text-decoration-color: #ff4689; background-color: #272822\">.</span><span style=\"color: #f8f8f2; text-decoration-color: #f8f8f2; background-color: #272822\">simple_query(</span><span style=\"color: #e6db74; text-decoration-color: #e6db74; background-color: #272822\">'Which methods are shown in the chart?'</span><span style=\"color: #f8f8f2; text-decoration-color: #f8f8f2; background-color: #272822\">)</span><span style=\"background-color: #272822\">                             </span> \n <span style=\"color: #e3e3dd; text-decoration-color: #e3e3dd; background-color: #272822; font-weight: bold\">  </span><span style=\"color: #656660; text-decoration-color: #656660; background-color: #272822\"> 5 </span><span style=\"color: #f8f8f2; text-decoration-color: #f8f8f2; background-color: #272822\">    methods </span><span style=\"color: #ff4689; text-decoration-color: #ff4689; background-color: #272822\">=</span><span style=\"color: #f8f8f2; text-decoration-color: #f8f8f2; background-color: #272822\"> methods</span><span style=\"color: #ff4689; text-decoration-color: #ff4689; background-color: #272822\">.</span><span style=\"color: #f8f8f2; text-decoration-color: #f8f8f2; background-color: #272822\">split(</span><span style=\"color: #e6db74; text-decoration-color: #e6db74; background-color: #272822\">', '</span><span style=\"color: #f8f8f2; text-decoration-color: #f8f8f2; background-color: #272822\">)</span><span style=\"background-color: #272822\">                                                                           </span> \n <span style=\"color: #e3e3dd; text-decoration-color: #e3e3dd; background-color: #272822; font-weight: bold\">  </span><span style=\"color: #656660; text-decoration-color: #656660; background-color: #272822\"> 6 </span><span style=\"color: #f8f8f2; text-decoration-color: #f8f8f2; background-color: #272822\">    median_iou_values </span><span style=\"color: #ff4689; text-decoration-color: #ff4689; background-color: #272822\">=</span><span style=\"color: #f8f8f2; text-decoration-color: #f8f8f2; background-color: #272822\"> []</span><span style=\"background-color: #272822\">                                                                                  </span> \n <span style=\"color: #e3e3dd; text-decoration-color: #e3e3dd; background-color: #272822; font-weight: bold\">  </span><span style=\"color: #656660; text-decoration-color: #656660; background-color: #272822\"> 7 </span><span style=\"color: #f8f8f2; text-decoration-color: #f8f8f2; background-color: #272822\">    </span><span style=\"color: #66d9ef; text-decoration-color: #66d9ef; background-color: #272822\">for</span><span style=\"color: #f8f8f2; text-decoration-color: #f8f8f2; background-color: #272822\"> method </span><span style=\"color: #ff4689; text-decoration-color: #ff4689; background-color: #272822\">in</span><span style=\"color: #f8f8f2; text-decoration-color: #f8f8f2; background-color: #272822\"> methods:</span><span style=\"background-color: #272822\">                                                                                  </span> \n <span style=\"color: #e3e3dd; text-decoration-color: #e3e3dd; background-color: #272822; font-weight: bold\">  </span><span style=\"color: #656660; text-decoration-color: #656660; background-color: #272822\"> 8 </span><span style=\"color: #f8f8f2; text-decoration-color: #f8f8f2; background-color: #800000\">        iou_value </span><span style=\"color: #ff4689; text-decoration-color: #ff4689; background-color: #800000\">=</span><span style=\"color: #f8f8f2; text-decoration-color: #f8f8f2; background-color: #800000\"> chart_patch</span><span style=\"color: #ff4689; text-decoration-color: #ff4689; background-color: #800000\">.</span><span style=\"color: #f8f8f2; text-decoration-color: #f8f8f2; background-color: #800000\">simple_query(</span><span style=\"color: #e6db74; text-decoration-color: #e6db74; background-color: #800000\">f'What is the median Attribution Io</span><span style=\"color: #e6db74; text-decoration-color: #e6db74; background-color: #272822\">U for {</span><span style=\"color: #f8f8f2; text-decoration-color: #f8f8f2; background-color: #272822\">method</span><span style=\"color: #e6db74; text-decoration-color: #e6db74; background-color: #272822\">}?'</span><span style=\"color: #f8f8f2; text-decoration-color: #f8f8f2; background-color: #272822\">)</span><span style=\"background-color: #272822\">           </span> \n <span style=\"color: #e3e3dd; text-decoration-color: #e3e3dd; background-color: #272822; font-weight: bold\">  </span><span style=\"color: #656660; text-decoration-color: #656660; background-color: #272822\"> 9 </span><span style=\"color: #f8f8f2; text-decoration-color: #f8f8f2; background-color: #272822\">        iou_value </span><span style=\"color: #ff4689; text-decoration-color: #ff4689; background-color: #272822\">=</span><span style=\"color: #f8f8f2; text-decoration-color: #f8f8f2; background-color: #272822\"> float(coerce_to_numeric(iou_value))</span><span style=\"background-color: #272822\">                                                     </span> \n <span style=\"color: #e3e3dd; text-decoration-color: #e3e3dd; background-color: #272822; font-weight: bold\">  </span><span style=\"color: #656660; text-decoration-color: #656660; background-color: #272822\">10 </span><span style=\"color: #f8f8f2; text-decoration-color: #f8f8f2; background-color: #272822\">        </span><span style=\"color: #66d9ef; text-decoration-color: #66d9ef; background-color: #272822\">if</span><span style=\"color: #f8f8f2; text-decoration-color: #f8f8f2; background-color: #272822\"> iou_value </span><span style=\"color: #ff4689; text-decoration-color: #ff4689; background-color: #272822\">&lt;</span><span style=\"color: #f8f8f2; text-decoration-color: #f8f8f2; background-color: #272822\"> </span><span style=\"color: #ae81ff; text-decoration-color: #ae81ff; background-color: #272822\">0.7</span><span style=\"color: #f8f8f2; text-decoration-color: #f8f8f2; background-color: #272822\">:</span><span style=\"background-color: #272822\">                                                                                 </span> \n <span style=\"color: #e3e3dd; text-decoration-color: #e3e3dd; background-color: #272822; font-weight: bold\">  </span><span style=\"color: #656660; text-decoration-color: #656660; background-color: #272822\">11 </span><span style=\"color: #f8f8f2; text-decoration-color: #f8f8f2; background-color: #272822\">            median_iou_values</span><span style=\"color: #ff4689; text-decoration-color: #ff4689; background-color: #272822\">.</span><span style=\"color: #f8f8f2; text-decoration-color: #f8f8f2; background-color: #272822\">append((method, iou_value))</span><span style=\"background-color: #272822\">                                                   </span> \n <span style=\"color: #e3e3dd; text-decoration-color: #e3e3dd; background-color: #272822; font-weight: bold\">  </span><span style=\"color: #656660; text-decoration-color: #656660; background-color: #272822\">12 </span><span style=\"color: #f8f8f2; text-decoration-color: #f8f8f2; background-color: #272822\">    median_iou_values</span><span style=\"color: #ff4689; text-decoration-color: #ff4689; background-color: #272822\">.</span><span style=\"color: #f8f8f2; text-decoration-color: #f8f8f2; background-color: #272822\">sort(key</span><span style=\"color: #ff4689; text-decoration-color: #ff4689; background-color: #272822\">=</span><span style=\"color: #66d9ef; text-decoration-color: #66d9ef; background-color: #272822\">lambda</span><span style=\"color: #f8f8f2; text-decoration-color: #f8f8f2; background-color: #272822\"> x: x[</span><span style=\"color: #ae81ff; text-decoration-color: #ae81ff; background-color: #272822\">1</span><span style=\"color: #f8f8f2; text-decoration-color: #f8f8f2; background-color: #272822\">])</span><span style=\"background-color: #272822\">                                                              </span> \n <span style=\"color: #e3e3dd; text-decoration-color: #e3e3dd; background-color: #272822; font-weight: bold\">  </span><span style=\"color: #656660; text-decoration-color: #656660; background-color: #272822\">13 </span><span style=\"color: #f8f8f2; text-decoration-color: #f8f8f2; background-color: #272822\">    least_variable_method </span><span style=\"color: #ff4689; text-decoration-color: #ff4689; background-color: #272822\">=</span><span style=\"color: #f8f8f2; text-decoration-color: #f8f8f2; background-color: #272822\"> median_iou_values[</span><span style=\"color: #ae81ff; text-decoration-color: #ae81ff; background-color: #272822\">0</span><span style=\"color: #f8f8f2; text-decoration-color: #f8f8f2; background-color: #272822\">][</span><span style=\"color: #ae81ff; text-decoration-color: #ae81ff; background-color: #272822\">0</span><span style=\"color: #f8f8f2; text-decoration-color: #f8f8f2; background-color: #272822\">]</span><span style=\"background-color: #272822\">                                                         </span> \n <span style=\"color: #e3e3dd; text-decoration-color: #e3e3dd; background-color: #272822; font-weight: bold\">  </span><span style=\"color: #656660; text-decoration-color: #656660; background-color: #272822\">14 </span><span style=\"color: #f8f8f2; text-decoration-color: #f8f8f2; background-color: #272822\">    </span><span style=\"color: #66d9ef; text-decoration-color: #66d9ef; background-color: #272822\">return</span><span style=\"color: #f8f8f2; text-decoration-color: #f8f8f2; background-color: #272822\"> least_variable_method</span><span style=\"background-color: #272822\">                                                                            </span> \n                                                                                                                   \n</pre>\n",
          "text/plain": "                                                                                                                   \n \u001b[1;38;2;227;227;221;48;2;39;40;34m  \u001b[0m\u001b[38;2;101;102;96;48;2;39;40;34m 0 \u001b[0m\u001b[38;2;102;217;239;48;2;39;40;34mdef\u001b[0m\u001b[38;2;248;248;242;48;2;39;40;34m \u001b[0m\u001b[38;2;166;226;46;48;2;39;40;34mexecute_command\u001b[0m\u001b[38;2;248;248;242;48;2;39;40;34m(\u001b[0m\u001b[38;2;248;248;242;48;2;39;40;34mimage\u001b[0m\u001b[38;2;248;248;242;48;2;39;40;34m)\u001b[0m\u001b[38;2;248;248;242;48;2;39;40;34m:\u001b[0m\u001b[48;2;39;40;34m                                                                                 \u001b[0m \n \u001b[1;38;2;227;227;221;48;2;39;40;34m  \u001b[0m\u001b[38;2;101;102;96;48;2;39;40;34m 1 \u001b[0m\u001b[38;2;248;248;242;48;2;39;40;34m    \u001b[0m\u001b[38;2;248;248;242;48;2;39;40;34mimage_patch\u001b[0m\u001b[38;2;248;248;242;48;2;39;40;34m \u001b[0m\u001b[38;2;255;70;137;48;2;39;40;34m=\u001b[0m\u001b[38;2;248;248;242;48;2;39;40;34m \u001b[0m\u001b[38;2;248;248;242;48;2;39;40;34mImagePatch\u001b[0m\u001b[38;2;248;248;242;48;2;39;40;34m(\u001b[0m\u001b[38;2;248;248;242;48;2;39;40;34mimage\u001b[0m\u001b[38;2;248;248;242;48;2;39;40;34m)\u001b[0m\u001b[48;2;39;40;34m                                                                         \u001b[0m \n \u001b[1;38;2;227;227;221;48;2;39;40;34m  \u001b[0m\u001b[38;2;101;102;96;48;2;39;40;34m 2 \u001b[0m\u001b[38;2;248;248;242;48;2;39;40;34m    \u001b[0m\u001b[38;2;248;248;242;48;2;39;40;34mchart_patches\u001b[0m\u001b[38;2;248;248;242;48;2;39;40;34m \u001b[0m\u001b[38;2;255;70;137;48;2;39;40;34m=\u001b[0m\u001b[38;2;248;248;242;48;2;39;40;34m \u001b[0m\u001b[38;2;248;248;242;48;2;39;40;34mimage_patch\u001b[0m\u001b[38;2;255;70;137;48;2;39;40;34m.\u001b[0m\u001b[38;2;248;248;242;48;2;39;40;34mfind\u001b[0m\u001b[38;2;248;248;242;48;2;39;40;34m(\u001b[0m\u001b[38;2;230;219;116;48;2;39;40;34m'\u001b[0m\u001b[38;2;230;219;116;48;2;39;40;34mchart\u001b[0m\u001b[38;2;230;219;116;48;2;39;40;34m'\u001b[0m\u001b[38;2;248;248;242;48;2;39;40;34m)\u001b[0m\u001b[48;2;39;40;34m                                                               \u001b[0m \n \u001b[1;38;2;227;227;221;48;2;39;40;34m  \u001b[0m\u001b[38;2;101;102;96;48;2;39;40;34m 3 \u001b[0m\u001b[38;2;248;248;242;48;2;39;40;34m    \u001b[0m\u001b[38;2;248;248;242;48;2;39;40;34mchart_patch\u001b[0m\u001b[38;2;248;248;242;48;2;39;40;34m \u001b[0m\u001b[38;2;255;70;137;48;2;39;40;34m=\u001b[0m\u001b[38;2;248;248;242;48;2;39;40;34m \u001b[0m\u001b[38;2;248;248;242;48;2;39;40;34mchart_patches\u001b[0m\u001b[38;2;248;248;242;48;2;39;40;34m[\u001b[0m\u001b[38;2;174;129;255;48;2;39;40;34m0\u001b[0m\u001b[38;2;248;248;242;48;2;39;40;34m]\u001b[0m\u001b[48;2;39;40;34m                                                                          \u001b[0m \n \u001b[1;38;2;227;227;221;48;2;39;40;34m  \u001b[0m\u001b[38;2;101;102;96;48;2;39;40;34m 4 \u001b[0m\u001b[38;2;248;248;242;48;2;39;40;34m    \u001b[0m\u001b[38;2;248;248;242;48;2;39;40;34mmethods\u001b[0m\u001b[38;2;248;248;242;48;2;39;40;34m \u001b[0m\u001b[38;2;255;70;137;48;2;39;40;34m=\u001b[0m\u001b[38;2;248;248;242;48;2;39;40;34m \u001b[0m\u001b[38;2;248;248;242;48;2;39;40;34mchart_patch\u001b[0m\u001b[38;2;255;70;137;48;2;39;40;34m.\u001b[0m\u001b[38;2;248;248;242;48;2;39;40;34msimple_query\u001b[0m\u001b[38;2;248;248;242;48;2;39;40;34m(\u001b[0m\u001b[38;2;230;219;116;48;2;39;40;34m'\u001b[0m\u001b[38;2;230;219;116;48;2;39;40;34mWhich methods are shown in the chart?\u001b[0m\u001b[38;2;230;219;116;48;2;39;40;34m'\u001b[0m\u001b[38;2;248;248;242;48;2;39;40;34m)\u001b[0m\u001b[48;2;39;40;34m                             \u001b[0m \n \u001b[1;38;2;227;227;221;48;2;39;40;34m  \u001b[0m\u001b[38;2;101;102;96;48;2;39;40;34m 5 \u001b[0m\u001b[38;2;248;248;242;48;2;39;40;34m    \u001b[0m\u001b[38;2;248;248;242;48;2;39;40;34mmethods\u001b[0m\u001b[38;2;248;248;242;48;2;39;40;34m \u001b[0m\u001b[38;2;255;70;137;48;2;39;40;34m=\u001b[0m\u001b[38;2;248;248;242;48;2;39;40;34m \u001b[0m\u001b[38;2;248;248;242;48;2;39;40;34mmethods\u001b[0m\u001b[38;2;255;70;137;48;2;39;40;34m.\u001b[0m\u001b[38;2;248;248;242;48;2;39;40;34msplit\u001b[0m\u001b[38;2;248;248;242;48;2;39;40;34m(\u001b[0m\u001b[38;2;230;219;116;48;2;39;40;34m'\u001b[0m\u001b[38;2;230;219;116;48;2;39;40;34m, \u001b[0m\u001b[38;2;230;219;116;48;2;39;40;34m'\u001b[0m\u001b[38;2;248;248;242;48;2;39;40;34m)\u001b[0m\u001b[48;2;39;40;34m                                                                           \u001b[0m \n \u001b[1;38;2;227;227;221;48;2;39;40;34m  \u001b[0m\u001b[38;2;101;102;96;48;2;39;40;34m 6 \u001b[0m\u001b[38;2;248;248;242;48;2;39;40;34m    \u001b[0m\u001b[38;2;248;248;242;48;2;39;40;34mmedian_iou_values\u001b[0m\u001b[38;2;248;248;242;48;2;39;40;34m \u001b[0m\u001b[38;2;255;70;137;48;2;39;40;34m=\u001b[0m\u001b[38;2;248;248;242;48;2;39;40;34m \u001b[0m\u001b[38;2;248;248;242;48;2;39;40;34m[\u001b[0m\u001b[38;2;248;248;242;48;2;39;40;34m]\u001b[0m\u001b[48;2;39;40;34m                                                                                  \u001b[0m \n \u001b[1;38;2;227;227;221;48;2;39;40;34m  \u001b[0m\u001b[38;2;101;102;96;48;2;39;40;34m 7 \u001b[0m\u001b[38;2;248;248;242;48;2;39;40;34m    \u001b[0m\u001b[38;2;102;217;239;48;2;39;40;34mfor\u001b[0m\u001b[38;2;248;248;242;48;2;39;40;34m \u001b[0m\u001b[38;2;248;248;242;48;2;39;40;34mmethod\u001b[0m\u001b[38;2;248;248;242;48;2;39;40;34m \u001b[0m\u001b[38;2;255;70;137;48;2;39;40;34min\u001b[0m\u001b[38;2;248;248;242;48;2;39;40;34m \u001b[0m\u001b[38;2;248;248;242;48;2;39;40;34mmethods\u001b[0m\u001b[38;2;248;248;242;48;2;39;40;34m:\u001b[0m\u001b[48;2;39;40;34m                                                                                  \u001b[0m \n \u001b[1;38;2;227;227;221;48;2;39;40;34m  \u001b[0m\u001b[38;2;101;102;96;48;2;39;40;34m 8 \u001b[0m\u001b[38;2;248;248;242;41m        \u001b[0m\u001b[38;2;248;248;242;41miou_value\u001b[0m\u001b[38;2;248;248;242;41m \u001b[0m\u001b[38;2;255;70;137;41m=\u001b[0m\u001b[38;2;248;248;242;41m \u001b[0m\u001b[38;2;248;248;242;41mchart_patch\u001b[0m\u001b[38;2;255;70;137;41m.\u001b[0m\u001b[38;2;248;248;242;41msimple_query\u001b[0m\u001b[38;2;248;248;242;41m(\u001b[0m\u001b[38;2;230;219;116;41mf\u001b[0m\u001b[38;2;230;219;116;41m'\u001b[0m\u001b[38;2;230;219;116;41mWhat is the median Attribution Io\u001b[0m\u001b[38;2;230;219;116;48;2;39;40;34mU for \u001b[0m\u001b[38;2;230;219;116;48;2;39;40;34m{\u001b[0m\u001b[38;2;248;248;242;48;2;39;40;34mmethod\u001b[0m\u001b[38;2;230;219;116;48;2;39;40;34m}\u001b[0m\u001b[38;2;230;219;116;48;2;39;40;34m?\u001b[0m\u001b[38;2;230;219;116;48;2;39;40;34m'\u001b[0m\u001b[38;2;248;248;242;48;2;39;40;34m)\u001b[0m\u001b[48;2;39;40;34m           \u001b[0m \n \u001b[1;38;2;227;227;221;48;2;39;40;34m  \u001b[0m\u001b[38;2;101;102;96;48;2;39;40;34m 9 \u001b[0m\u001b[38;2;248;248;242;48;2;39;40;34m        \u001b[0m\u001b[38;2;248;248;242;48;2;39;40;34miou_value\u001b[0m\u001b[38;2;248;248;242;48;2;39;40;34m \u001b[0m\u001b[38;2;255;70;137;48;2;39;40;34m=\u001b[0m\u001b[38;2;248;248;242;48;2;39;40;34m \u001b[0m\u001b[38;2;248;248;242;48;2;39;40;34mfloat\u001b[0m\u001b[38;2;248;248;242;48;2;39;40;34m(\u001b[0m\u001b[38;2;248;248;242;48;2;39;40;34mcoerce_to_numeric\u001b[0m\u001b[38;2;248;248;242;48;2;39;40;34m(\u001b[0m\u001b[38;2;248;248;242;48;2;39;40;34miou_value\u001b[0m\u001b[38;2;248;248;242;48;2;39;40;34m)\u001b[0m\u001b[38;2;248;248;242;48;2;39;40;34m)\u001b[0m\u001b[48;2;39;40;34m                                                     \u001b[0m \n \u001b[1;38;2;227;227;221;48;2;39;40;34m  \u001b[0m\u001b[38;2;101;102;96;48;2;39;40;34m10 \u001b[0m\u001b[38;2;248;248;242;48;2;39;40;34m        \u001b[0m\u001b[38;2;102;217;239;48;2;39;40;34mif\u001b[0m\u001b[38;2;248;248;242;48;2;39;40;34m \u001b[0m\u001b[38;2;248;248;242;48;2;39;40;34miou_value\u001b[0m\u001b[38;2;248;248;242;48;2;39;40;34m \u001b[0m\u001b[38;2;255;70;137;48;2;39;40;34m<\u001b[0m\u001b[38;2;248;248;242;48;2;39;40;34m \u001b[0m\u001b[38;2;174;129;255;48;2;39;40;34m0.7\u001b[0m\u001b[38;2;248;248;242;48;2;39;40;34m:\u001b[0m\u001b[48;2;39;40;34m                                                                                 \u001b[0m \n \u001b[1;38;2;227;227;221;48;2;39;40;34m  \u001b[0m\u001b[38;2;101;102;96;48;2;39;40;34m11 \u001b[0m\u001b[38;2;248;248;242;48;2;39;40;34m            \u001b[0m\u001b[38;2;248;248;242;48;2;39;40;34mmedian_iou_values\u001b[0m\u001b[38;2;255;70;137;48;2;39;40;34m.\u001b[0m\u001b[38;2;248;248;242;48;2;39;40;34mappend\u001b[0m\u001b[38;2;248;248;242;48;2;39;40;34m(\u001b[0m\u001b[38;2;248;248;242;48;2;39;40;34m(\u001b[0m\u001b[38;2;248;248;242;48;2;39;40;34mmethod\u001b[0m\u001b[38;2;248;248;242;48;2;39;40;34m,\u001b[0m\u001b[38;2;248;248;242;48;2;39;40;34m \u001b[0m\u001b[38;2;248;248;242;48;2;39;40;34miou_value\u001b[0m\u001b[38;2;248;248;242;48;2;39;40;34m)\u001b[0m\u001b[38;2;248;248;242;48;2;39;40;34m)\u001b[0m\u001b[48;2;39;40;34m                                                   \u001b[0m \n \u001b[1;38;2;227;227;221;48;2;39;40;34m  \u001b[0m\u001b[38;2;101;102;96;48;2;39;40;34m12 \u001b[0m\u001b[38;2;248;248;242;48;2;39;40;34m    \u001b[0m\u001b[38;2;248;248;242;48;2;39;40;34mmedian_iou_values\u001b[0m\u001b[38;2;255;70;137;48;2;39;40;34m.\u001b[0m\u001b[38;2;248;248;242;48;2;39;40;34msort\u001b[0m\u001b[38;2;248;248;242;48;2;39;40;34m(\u001b[0m\u001b[38;2;248;248;242;48;2;39;40;34mkey\u001b[0m\u001b[38;2;255;70;137;48;2;39;40;34m=\u001b[0m\u001b[38;2;102;217;239;48;2;39;40;34mlambda\u001b[0m\u001b[38;2;248;248;242;48;2;39;40;34m \u001b[0m\u001b[38;2;248;248;242;48;2;39;40;34mx\u001b[0m\u001b[38;2;248;248;242;48;2;39;40;34m:\u001b[0m\u001b[38;2;248;248;242;48;2;39;40;34m \u001b[0m\u001b[38;2;248;248;242;48;2;39;40;34mx\u001b[0m\u001b[38;2;248;248;242;48;2;39;40;34m[\u001b[0m\u001b[38;2;174;129;255;48;2;39;40;34m1\u001b[0m\u001b[38;2;248;248;242;48;2;39;40;34m]\u001b[0m\u001b[38;2;248;248;242;48;2;39;40;34m)\u001b[0m\u001b[48;2;39;40;34m                                                              \u001b[0m \n \u001b[1;38;2;227;227;221;48;2;39;40;34m  \u001b[0m\u001b[38;2;101;102;96;48;2;39;40;34m13 \u001b[0m\u001b[38;2;248;248;242;48;2;39;40;34m    \u001b[0m\u001b[38;2;248;248;242;48;2;39;40;34mleast_variable_method\u001b[0m\u001b[38;2;248;248;242;48;2;39;40;34m \u001b[0m\u001b[38;2;255;70;137;48;2;39;40;34m=\u001b[0m\u001b[38;2;248;248;242;48;2;39;40;34m \u001b[0m\u001b[38;2;248;248;242;48;2;39;40;34mmedian_iou_values\u001b[0m\u001b[38;2;248;248;242;48;2;39;40;34m[\u001b[0m\u001b[38;2;174;129;255;48;2;39;40;34m0\u001b[0m\u001b[38;2;248;248;242;48;2;39;40;34m]\u001b[0m\u001b[38;2;248;248;242;48;2;39;40;34m[\u001b[0m\u001b[38;2;174;129;255;48;2;39;40;34m0\u001b[0m\u001b[38;2;248;248;242;48;2;39;40;34m]\u001b[0m\u001b[48;2;39;40;34m                                                         \u001b[0m \n \u001b[1;38;2;227;227;221;48;2;39;40;34m  \u001b[0m\u001b[38;2;101;102;96;48;2;39;40;34m14 \u001b[0m\u001b[38;2;248;248;242;48;2;39;40;34m    \u001b[0m\u001b[38;2;102;217;239;48;2;39;40;34mreturn\u001b[0m\u001b[38;2;248;248;242;48;2;39;40;34m \u001b[0m\u001b[38;2;248;248;242;48;2;39;40;34mleast_variable_method\u001b[0m\u001b[48;2;39;40;34m                                                                            \u001b[0m \n                                                                                                                   \n"
         },
         "metadata": {},
         "output_type": "display_data"
        }
       ],
       "tabbable": null,
       "tooltip": null
      }
     },
     "1f84be3a1b4e4f0fa5df31771f2e1fe7": {
      "model_module": "@jupyter-widgets/controls",
      "model_module_version": "2.0.0",
      "model_name": "HTMLStyleModel",
      "state": {
       "_model_module": "@jupyter-widgets/controls",
       "_model_module_version": "2.0.0",
       "_model_name": "HTMLStyleModel",
       "_view_count": null,
       "_view_module": "@jupyter-widgets/base",
       "_view_module_version": "2.0.0",
       "_view_name": "StyleView",
       "background": null,
       "description_width": "",
       "font_size": null,
       "text_color": null
      }
     },
     "2c5ad11d336744d5ab6022fe66df29b1": {
      "model_module": "@jupyter-widgets/controls",
      "model_module_version": "2.0.0",
      "model_name": "HTMLModel",
      "state": {
       "_dom_classes": [],
       "_model_module": "@jupyter-widgets/controls",
       "_model_module_version": "2.0.0",
       "_model_name": "HTMLModel",
       "_view_count": null,
       "_view_module": "@jupyter-widgets/controls",
       "_view_module_version": "2.0.0",
       "_view_name": "HTMLView",
       "description": "",
       "description_allow_html": false,
       "layout": "IPY_MODEL_33c770a3e198409788efcbec3a4fe706",
       "placeholder": "​",
       "style": "IPY_MODEL_cdbaed1eff2d473eabb04364346cde75",
       "tabbable": null,
       "tooltip": null,
       "value": " 5/5 [00:34&lt;00:00,  6.55s/it]"
      }
     },
     "33c770a3e198409788efcbec3a4fe706": {
      "model_module": "@jupyter-widgets/base",
      "model_module_version": "2.0.0",
      "model_name": "LayoutModel",
      "state": {
       "_model_module": "@jupyter-widgets/base",
       "_model_module_version": "2.0.0",
       "_model_name": "LayoutModel",
       "_view_count": null,
       "_view_module": "@jupyter-widgets/base",
       "_view_module_version": "2.0.0",
       "_view_name": "LayoutView",
       "align_content": null,
       "align_items": null,
       "align_self": null,
       "border_bottom": null,
       "border_left": null,
       "border_right": null,
       "border_top": null,
       "bottom": null,
       "display": null,
       "flex": null,
       "flex_flow": null,
       "grid_area": null,
       "grid_auto_columns": null,
       "grid_auto_flow": null,
       "grid_auto_rows": null,
       "grid_column": null,
       "grid_gap": null,
       "grid_row": null,
       "grid_template_areas": null,
       "grid_template_columns": null,
       "grid_template_rows": null,
       "height": null,
       "justify_content": null,
       "justify_items": null,
       "left": null,
       "margin": null,
       "max_height": null,
       "max_width": null,
       "min_height": null,
       "min_width": null,
       "object_fit": null,
       "object_position": null,
       "order": null,
       "overflow": null,
       "padding": null,
       "right": null,
       "top": null,
       "visibility": null,
       "width": null
      }
     },
     "4c4727e0cb964d249e0ce564db0e24c9": {
      "model_module": "@jupyter-widgets/controls",
      "model_module_version": "2.0.0",
      "model_name": "FloatProgressModel",
      "state": {
       "_dom_classes": [],
       "_model_module": "@jupyter-widgets/controls",
       "_model_module_version": "2.0.0",
       "_model_name": "FloatProgressModel",
       "_view_count": null,
       "_view_module": "@jupyter-widgets/controls",
       "_view_module_version": "2.0.0",
       "_view_name": "ProgressView",
       "bar_style": "success",
       "description": "",
       "description_allow_html": false,
       "layout": "IPY_MODEL_d1652398d6ef4c079679b331c9b02f1b",
       "max": 5.0,
       "min": 0.0,
       "orientation": "horizontal",
       "style": "IPY_MODEL_c3918eaf4e9a44eda889b467493e8391",
       "tabbable": null,
       "tooltip": null,
       "value": 5.0
      }
     },
     "649f998028cc4a59a290a6a01aab7abe": {
      "model_module": "@jupyter-widgets/controls",
      "model_module_version": "2.0.0",
      "model_name": "HBoxModel",
      "state": {
       "_dom_classes": [],
       "_model_module": "@jupyter-widgets/controls",
       "_model_module_version": "2.0.0",
       "_model_name": "HBoxModel",
       "_view_count": null,
       "_view_module": "@jupyter-widgets/controls",
       "_view_module_version": "2.0.0",
       "_view_name": "HBoxView",
       "box_style": "",
       "children": [
        "IPY_MODEL_939b36099a754658b6f3793bfbdd6dfd",
        "IPY_MODEL_4c4727e0cb964d249e0ce564db0e24c9",
        "IPY_MODEL_2c5ad11d336744d5ab6022fe66df29b1"
       ],
       "layout": "IPY_MODEL_6d9535fdcb50430c8e8aa76cc636ac9e",
       "tabbable": null,
       "tooltip": null
      }
     },
     "6d9535fdcb50430c8e8aa76cc636ac9e": {
      "model_module": "@jupyter-widgets/base",
      "model_module_version": "2.0.0",
      "model_name": "LayoutModel",
      "state": {
       "_model_module": "@jupyter-widgets/base",
       "_model_module_version": "2.0.0",
       "_model_name": "LayoutModel",
       "_view_count": null,
       "_view_module": "@jupyter-widgets/base",
       "_view_module_version": "2.0.0",
       "_view_name": "LayoutView",
       "align_content": null,
       "align_items": null,
       "align_self": null,
       "border_bottom": null,
       "border_left": null,
       "border_right": null,
       "border_top": null,
       "bottom": null,
       "display": null,
       "flex": null,
       "flex_flow": null,
       "grid_area": null,
       "grid_auto_columns": null,
       "grid_auto_flow": null,
       "grid_auto_rows": null,
       "grid_column": null,
       "grid_gap": null,
       "grid_row": null,
       "grid_template_areas": null,
       "grid_template_columns": null,
       "grid_template_rows": null,
       "height": null,
       "justify_content": null,
       "justify_items": null,
       "left": null,
       "margin": null,
       "max_height": null,
       "max_width": null,
       "min_height": null,
       "min_width": null,
       "object_fit": null,
       "object_position": null,
       "order": null,
       "overflow": null,
       "padding": null,
       "right": null,
       "top": null,
       "visibility": null,
       "width": null
      }
     },
     "87994f71fd654311bac3c0905e6b9bf9": {
      "model_module": "@jupyter-widgets/base",
      "model_module_version": "2.0.0",
      "model_name": "LayoutModel",
      "state": {
       "_model_module": "@jupyter-widgets/base",
       "_model_module_version": "2.0.0",
       "_model_name": "LayoutModel",
       "_view_count": null,
       "_view_module": "@jupyter-widgets/base",
       "_view_module_version": "2.0.0",
       "_view_name": "LayoutView",
       "align_content": null,
       "align_items": null,
       "align_self": null,
       "border_bottom": null,
       "border_left": null,
       "border_right": null,
       "border_top": null,
       "bottom": null,
       "display": null,
       "flex": null,
       "flex_flow": null,
       "grid_area": null,
       "grid_auto_columns": null,
       "grid_auto_flow": null,
       "grid_auto_rows": null,
       "grid_column": null,
       "grid_gap": null,
       "grid_row": null,
       "grid_template_areas": null,
       "grid_template_columns": null,
       "grid_template_rows": null,
       "height": null,
       "justify_content": null,
       "justify_items": null,
       "left": null,
       "margin": null,
       "max_height": null,
       "max_width": null,
       "min_height": null,
       "min_width": null,
       "object_fit": null,
       "object_position": null,
       "order": null,
       "overflow": null,
       "padding": null,
       "right": null,
       "top": null,
       "visibility": null,
       "width": null
      }
     },
     "939b36099a754658b6f3793bfbdd6dfd": {
      "model_module": "@jupyter-widgets/controls",
      "model_module_version": "2.0.0",
      "model_name": "HTMLModel",
      "state": {
       "_dom_classes": [],
       "_model_module": "@jupyter-widgets/controls",
       "_model_module_version": "2.0.0",
       "_model_name": "HTMLModel",
       "_view_count": null,
       "_view_module": "@jupyter-widgets/controls",
       "_view_module_version": "2.0.0",
       "_view_name": "HTMLView",
       "description": "",
       "description_allow_html": false,
       "layout": "IPY_MODEL_87994f71fd654311bac3c0905e6b9bf9",
       "placeholder": "​",
       "style": "IPY_MODEL_1f84be3a1b4e4f0fa5df31771f2e1fe7",
       "tabbable": null,
       "tooltip": null,
       "value": "Loading checkpoint shards: 100%"
      }
     },
     "997f5bc013a54e54a059bf06fa4e826d": {
      "model_module": "@jupyter-widgets/base",
      "model_module_version": "2.0.0",
      "model_name": "LayoutModel",
      "state": {
       "_model_module": "@jupyter-widgets/base",
       "_model_module_version": "2.0.0",
       "_model_name": "LayoutModel",
       "_view_count": null,
       "_view_module": "@jupyter-widgets/base",
       "_view_module_version": "2.0.0",
       "_view_name": "LayoutView",
       "align_content": null,
       "align_items": null,
       "align_self": null,
       "border_bottom": null,
       "border_left": null,
       "border_right": null,
       "border_top": null,
       "bottom": null,
       "display": null,
       "flex": null,
       "flex_flow": null,
       "grid_area": null,
       "grid_auto_columns": null,
       "grid_auto_flow": null,
       "grid_auto_rows": null,
       "grid_column": null,
       "grid_gap": null,
       "grid_row": null,
       "grid_template_areas": null,
       "grid_template_columns": null,
       "grid_template_rows": null,
       "height": null,
       "justify_content": null,
       "justify_items": null,
       "left": null,
       "margin": null,
       "max_height": null,
       "max_width": null,
       "min_height": null,
       "min_width": null,
       "object_fit": null,
       "object_position": null,
       "order": null,
       "overflow": null,
       "padding": null,
       "right": null,
       "top": null,
       "visibility": null,
       "width": null
      }
     },
     "c3918eaf4e9a44eda889b467493e8391": {
      "model_module": "@jupyter-widgets/controls",
      "model_module_version": "2.0.0",
      "model_name": "ProgressStyleModel",
      "state": {
       "_model_module": "@jupyter-widgets/controls",
       "_model_module_version": "2.0.0",
       "_model_name": "ProgressStyleModel",
       "_view_count": null,
       "_view_module": "@jupyter-widgets/base",
       "_view_module_version": "2.0.0",
       "_view_name": "StyleView",
       "bar_color": null,
       "description_width": ""
      }
     },
     "cdbaed1eff2d473eabb04364346cde75": {
      "model_module": "@jupyter-widgets/controls",
      "model_module_version": "2.0.0",
      "model_name": "HTMLStyleModel",
      "state": {
       "_model_module": "@jupyter-widgets/controls",
       "_model_module_version": "2.0.0",
       "_model_name": "HTMLStyleModel",
       "_view_count": null,
       "_view_module": "@jupyter-widgets/base",
       "_view_module_version": "2.0.0",
       "_view_name": "StyleView",
       "background": null,
       "description_width": "",
       "font_size": null,
       "text_color": null
      }
     },
     "d1652398d6ef4c079679b331c9b02f1b": {
      "model_module": "@jupyter-widgets/base",
      "model_module_version": "2.0.0",
      "model_name": "LayoutModel",
      "state": {
       "_model_module": "@jupyter-widgets/base",
       "_model_module_version": "2.0.0",
       "_model_name": "LayoutModel",
       "_view_count": null,
       "_view_module": "@jupyter-widgets/base",
       "_view_module_version": "2.0.0",
       "_view_name": "LayoutView",
       "align_content": null,
       "align_items": null,
       "align_self": null,
       "border_bottom": null,
       "border_left": null,
       "border_right": null,
       "border_top": null,
       "bottom": null,
       "display": null,
       "flex": null,
       "flex_flow": null,
       "grid_area": null,
       "grid_auto_columns": null,
       "grid_auto_flow": null,
       "grid_auto_rows": null,
       "grid_column": null,
       "grid_gap": null,
       "grid_row": null,
       "grid_template_areas": null,
       "grid_template_columns": null,
       "grid_template_rows": null,
       "height": null,
       "justify_content": null,
       "justify_items": null,
       "left": null,
       "margin": null,
       "max_height": null,
       "max_width": null,
       "min_height": null,
       "min_width": null,
       "object_fit": null,
       "object_position": null,
       "order": null,
       "overflow": null,
       "padding": null,
       "right": null,
       "top": null,
       "visibility": null,
       "width": null
      }
     }
    },
    "version_major": 2,
    "version_minor": 0
   }
  }
 },
 "nbformat": 4,
 "nbformat_minor": 5
}
